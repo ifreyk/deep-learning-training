{
 "cells": [
  {
   "cell_type": "code",
   "execution_count": 8,
   "metadata": {
    "ExecuteTime": {
     "end_time": "2022-03-03T11:06:18.500475Z",
     "start_time": "2022-03-03T11:06:18.489533Z"
    },
    "cell_style": "center"
   },
   "outputs": [],
   "source": [
    " Everything in pytorch is based on Tensor operations.\n",
    "# A tensor can have different dimensions\n",
    "# so it can be 1d, 2d, or even 3d and higher\n",
    "\n",
    "# scalar, vector, matrix, tensor\n",
    "\n",
    "# torch.empty(size): uninitiallized\n",
    "x = torch.empty(1) # scalar\n",
    "print(x)\n",
    "x = torch.empty(3) # vector, 1D\n",
    "print(x)\n",
    "x = torch.empty(2,3) # matrix, 2D\n",
    "print(x)\n",
    "x = torch.empty(2,2,3) # tensor, 3 dimensions\n",
    "#x = torch.empty(2,2,2,3) # tensor, 4 dimensions\n",
    "print(x)\n",
    "\n",
    "# torch.rand(size): random numbers [0, 1]\n",
    "x = torch.rand(5, 3)\n",
    "print(x)\n",
    "\n",
    "# torch.zeros(size), fill with 0\n",
    "# torch.ones(size), fill with 1\n",
    "x = torch.zeros(5, 3)\n",
    "print(x)\n",
    "\n",
    "# check size\n",
    "print(x.size())\n",
    "\n",
    "# check data type\n",
    "print(x.dtype)\n",
    "\n",
    "# specify types, float32 default\n",
    "x = torch.zeros(5, 3, dtype=torch.float16)\n",
    "print(x)\n",
    "\n",
    "# check type\n",
    "print(x.dtype)\n",
    "\n",
    "# construct from data\n",
    "x = torch.tensor([5.5, 3])\n",
    "print(x.size())\n",
    "\n",
    "# requires_grad argument\n",
    "# This will tell pytorch that it will need to calculate the gradients for this tensor\n",
    "# later in your optimization steps\n",
    "# i.e. this is a variable in your model that you want to optimize\n",
    "x = torch.tensor([5.5, 3], requires_grad=True)\n",
    "\n",
    "# Operations\n",
    "y = torch.rand(2, 2)\n",
    "x = torch.rand(2, 2)\n",
    "\n",
    "# elementwise addition\n",
    "z = x + y\n",
    "# torch.add(x,y)\n",
    "\n",
    "# in place addition, everythin with a trailing underscore is an inplace operation\n",
    "# i.e. it will modify the variable\n",
    "# y.add_(x)\n",
    "\n",
    "# substraction\n",
    "z = x - y\n",
    "z = torch.sub(x, y)\n",
    "\n",
    "# multiplication\n",
    "z = x * y\n",
    "z = torch.mul(x,y)\n",
    "\n",
    "# division\n",
    "z = x / y\n",
    "z = torch.div(x,y)\n",
    "\n",
    "# Slicing\n",
    "x = torch.rand(5,3)\n",
    "print(x)\n",
    "print(x[:, 0]) # all rows, column 0\n",
    "print(x[1, :]) # row 1, all columns\n",
    "print(x[1,1]) # element at 1, 1\n",
    "\n",
    "# Get the actual value if only 1 element in your tensor\n",
    "print(x[1,1].item())\n",
    "\n",
    "# Reshape with torch.view()\n",
    "x = torch.randn(4, 4)\n",
    "y = x.view(16)\n",
    "z = x.view(-1, 8)  # the size -1 is inferred from other dimensions\n",
    "# if -1 it pytorch will automatically determine the necessary size\n",
    "print(x.size(), y.size(), z.size())\n",
    "\n",
    "# Numpy\n",
    "# Converting a Torch Tensor to a NumPy array and vice versa is very easy\n",
    "a = torch.ones(5)\n",
    "print(a)\n",
    "\n",
    "# torch to numpy with .numpy()\n",
    "b = a.numpy()\n",
    "print(b)\n",
    "print(type(b))\n",
    "\n",
    "# Carful: If the Tensor is on the CPU (not the GPU),\n",
    "# both objects will share the same memory location, so changing one\n",
    "# will also change the other\n",
    "a.add_(1)\n",
    "print(a)\n",
    "print(b)\n",
    "\n",
    "# numpy to torch with .from_numpy(x)\n",
    "import numpy as np\n",
    "a = np.ones(5)\n",
    "b = torch.from_numpy(a)\n",
    "print(a)\n",
    "print(b)\n",
    "\n",
    "# again be careful when modifying\n",
    "a += 1\n",
    "print(a)\n",
    "print(b)\n",
    "\n",
    "# by default all tensors are created on the CPU,\n",
    "# but you can also move them to the GPU (only if it's available )\n",
    "if torch.cuda.is_available():\n",
    "    device = torch.device(\"cuda\")          # a CUDA device object\n",
    "    y = torch.ones_like(x, device=device)  # directly create a tensor on GPU\n",
    "    x = x.to(device)                       # or just use strings ``.to(\"cuda\")``\n",
    "    z = x + y\n",
    "    # z = z.numpy() # not possible because numpy cannot handle GPU tenors\n",
    "    # move to CPU again\n",
    "    z.to(\"cpu\")       # ``.to`` can also change dtype together!\n",
    "    # z = z.numpy()"
   ]
  },
  {
   "cell_type": "code",
   "execution_count": 4,
   "metadata": {
    "ExecuteTime": {
     "end_time": "2022-03-17T15:21:21.091403Z",
     "start_time": "2022-03-17T15:21:21.074448Z"
    }
   },
   "outputs": [],
   "source": [
    "import cv2"
   ]
  },
  {
   "cell_type": "code",
   "execution_count": null,
   "metadata": {},
   "outputs": [],
   "source": [
    "# The autograd package provides automatic differentiation \n",
    "# for all operations on Tensors\n",
    "\n",
    "# requires_grad = True -> tracks all operations on the tensor. \n",
    "x = torch.randn(3, requires_grad=True)\n",
    "y = x + 2\n",
    "\n",
    "# y was created as a result of an operation, so it has a grad_fn attribute.\n",
    "# grad_fn: references a Function that has created the Tensor\n",
    "print(x) # created by the user -> grad_fn is None\n",
    "print(y)\n",
    "print(y.grad_fn)\n",
    "\n",
    "# Do more operations on y\n",
    "z = y * y * 3\n",
    "print(z)\n",
    "z = z.mean()\n",
    "print(z)\n",
    "\n",
    "# Let's compute the gradients with backpropagation\n",
    "# When we finish our computation we can call .backward() and have all the gradients computed automatically.\n",
    "# The gradient for this tensor will be accumulated into .grad attribute.\n",
    "# It is the partial derivate of the function w.r.t. the tensor\n",
    "\n",
    "z.backward()\n",
    "print(x.grad) # dz/dx\n",
    "\n",
    "# Generally speaking, torch.autograd is an engine for computing vector-Jacobian product\n",
    "# It computes partial derivates while applying the chain rule\n",
    "\n",
    "# -------------\n",
    "# Model with non-scalar output:\n",
    "# If a Tensor is non-scalar (more than 1 elements), we need to specify arguments for backward() \n",
    "# specify a gradient argument that is a tensor of matching shape.\n",
    "# needed for vector-Jacobian product\n",
    "\n",
    "x = torch.randn(3, requires_grad=True)\n",
    "\n",
    "y = x * 2\n",
    "for _ in range(10):\n",
    "    y = y * 2\n",
    "\n",
    "print(y)\n",
    "print(y.shape)\n",
    "\n",
    "v = torch.tensor([0.1, 1.0, 0.0001], dtype=torch.float32)\n",
    "y.backward(v)\n",
    "print(x.grad)\n",
    "\n",
    "# -------------\n",
    "# Stop a tensor from tracking history:\n",
    "# For example during our training loop when we want to update our weights\n",
    "# then this update operation should not be part of the gradient computation\n",
    "# - x.requires_grad_(False)\n",
    "# - x.detach()\n",
    "# - wrap in 'with torch.no_grad():'\n",
    "\n",
    "# .requires_grad_(...) changes an existing flag in-place.\n",
    "a = torch.randn(2, 2)\n",
    "print(a.requires_grad)\n",
    "b = ((a * 3) / (a - 1))\n",
    "print(b.grad_fn)\n",
    "a.requires_grad_(True)\n",
    "print(a.requires_grad)\n",
    "b = (a * a).sum()\n",
    "print(b.grad_fn)\n",
    "\n",
    "# .detach(): get a new Tensor with the same content but no gradient computation:\n",
    "a = torch.randn(2, 2, requires_grad=True)\n",
    "print(a.requires_grad)\n",
    "b = a.detach()\n",
    "print(b.requires_grad)\n",
    "\n",
    "# wrap in 'with torch.no_grad():'\n",
    "a = torch.randn(2, 2, requires_grad=True)\n",
    "print(a.requires_grad)\n",
    "with torch.no_grad():\n",
    "    print((x ** 2).requires_grad)\n",
    "\n",
    "# -------------\n",
    "# backward() accumulates the gradient for this tensor into .grad attribute.\n",
    "# !!! We need to be careful during optimization !!!\n",
    "# Use .zero_() to empty the gradients before a new optimization step!\n",
    "weights = torch.ones(4, requires_grad=True)\n",
    "\n",
    "for epoch in range(3):\n",
    "    # just a dummy example\n",
    "    model_output = (weights*3).sum()\n",
    "    model_output.backward()\n",
    "    \n",
    "    print(weights.grad)\n",
    "\n",
    "    # optimize model, i.e. adjust weights...\n",
    "    with torch.no_grad():\n",
    "        weights -= 0.1 * weights.grad\n",
    "\n",
    "    # this is important! It affects the final weights & output\n",
    "    weights.grad.zero_()\n",
    "\n",
    "print(weights)\n",
    "print(model_output)\n",
    "\n",
    "# Optimizer has zero_grad() method\n",
    "# optimizer = torch.optim.SGD([weights], lr=0.1)\n",
    "# During training:\n",
    "# optimizer.step()\n",
    "# optimizer.zero_grad()"
   ]
  },
  {
   "cell_type": "code",
   "execution_count": 1,
   "metadata": {
    "ExecuteTime": {
     "end_time": "2022-03-20T19:56:30.043726Z",
     "start_time": "2022-03-20T19:56:27.333039Z"
    }
   },
   "outputs": [],
   "source": [
    "import torch"
   ]
  },
  {
   "cell_type": "code",
   "execution_count": 11,
   "metadata": {
    "ExecuteTime": {
     "end_time": "2022-03-17T15:24:07.956586Z",
     "start_time": "2022-03-17T15:24:07.944617Z"
    }
   },
   "outputs": [],
   "source": [
    "x = torch.randn(3, requires_grad=True)\n",
    "y = x + 2"
   ]
  },
  {
   "cell_type": "code",
   "execution_count": 13,
   "metadata": {
    "ExecuteTime": {
     "end_time": "2022-03-17T15:24:43.208361Z",
     "start_time": "2022-03-17T15:24:43.203374Z"
    }
   },
   "outputs": [],
   "source": [
    "z = y*y*2"
   ]
  },
  {
   "cell_type": "code",
   "execution_count": 14,
   "metadata": {
    "ExecuteTime": {
     "end_time": "2022-03-17T15:24:53.357626Z",
     "start_time": "2022-03-17T15:24:53.344660Z"
    }
   },
   "outputs": [],
   "source": [
    "z = z.mean()"
   ]
  },
  {
   "cell_type": "code",
   "execution_count": 20,
   "metadata": {
    "ExecuteTime": {
     "end_time": "2022-03-17T15:25:36.864727Z",
     "start_time": "2022-03-17T15:25:36.824828Z"
    }
   },
   "outputs": [],
   "source": [
    "z.backward()"
   ]
  },
  {
   "cell_type": "code",
   "execution_count": 22,
   "metadata": {
    "ExecuteTime": {
     "end_time": "2022-03-17T15:25:43.988624Z",
     "start_time": "2022-03-17T15:25:43.977654Z"
    }
   },
   "outputs": [
    {
     "data": {
      "text/plain": [
       "tensor([3.1390, 2.9838, 0.1676])"
      ]
     },
     "execution_count": 22,
     "metadata": {},
     "output_type": "execute_result"
    }
   ],
   "source": [
    "x.grad"
   ]
  },
  {
   "cell_type": "markdown",
   "metadata": {},
   "source": [
    "# Gradient Descent with Autograd and Backpropagation"
   ]
  },
  {
   "cell_type": "code",
   "execution_count": 1,
   "metadata": {
    "ExecuteTime": {
     "end_time": "2022-03-21T07:54:11.231393Z",
     "start_time": "2022-03-21T07:54:08.564748Z"
    }
   },
   "outputs": [],
   "source": [
    "import torch\n",
    "import numpy as np"
   ]
  },
  {
   "cell_type": "code",
   "execution_count": null,
   "metadata": {},
   "outputs": [],
   "source": []
  },
  {
   "cell_type": "code",
   "execution_count": 2,
   "metadata": {
    "ExecuteTime": {
     "end_time": "2022-03-21T07:54:42.613377Z",
     "start_time": "2022-03-21T07:54:42.598417Z"
    }
   },
   "outputs": [],
   "source": [
    "# Linear regression\n",
    "# f = w * x \n",
    "\n",
    "# here : f = 2 * x\n",
    "X = np.array([1, 2, 3, 4], dtype=np.float32)\n",
    "Y = np.array([2, 4, 6, 8], dtype=np.float32)\n",
    "\n",
    "w = 0.0"
   ]
  },
  {
   "cell_type": "code",
   "execution_count": 3,
   "metadata": {
    "ExecuteTime": {
     "end_time": "2022-03-21T07:55:02.684210Z",
     "start_time": "2022-03-21T07:55:02.667256Z"
    }
   },
   "outputs": [],
   "source": [
    "# model output\n",
    "def forward(x):\n",
    "    return w * x\n",
    "\n",
    "# loss = MSE\n",
    "def loss(y, y_pred):\n",
    "    return ((y_pred - y)**2).mean()"
   ]
  },
  {
   "cell_type": "code",
   "execution_count": 4,
   "metadata": {
    "ExecuteTime": {
     "end_time": "2022-03-21T07:55:27.576991Z",
     "start_time": "2022-03-21T07:55:27.568016Z"
    }
   },
   "outputs": [],
   "source": [
    "# J = MSE = 1/N * (w*x - y)**2\n",
    "# dJ/dw = 1/N * 2x(w*x - y)\n",
    "def gradient(x, y, y_pred):\n",
    "    return np.dot(2*x, y_pred - y).mean()"
   ]
  },
  {
   "cell_type": "code",
   "execution_count": null,
   "metadata": {},
   "outputs": [],
   "source": [
    "print(f'Prediction before training: f(5) = {forward(5):.3f}')"
   ]
  },
  {
   "cell_type": "code",
   "execution_count": null,
   "metadata": {},
   "outputs": [],
   "source": [
    "# Training\n",
    "learning_rate = 0.01\n",
    "n_iters = 20\n",
    "\n",
    "for epoch in range(n_iters):\n",
    "    # predict = forward pass\n",
    "    y_pred = forward(X)\n",
    "\n",
    "    # loss\n",
    "    l = loss(Y, y_pred)\n",
    "    \n",
    "    # calculate gradients\n",
    "    dw = gradient(X, Y, y_pred)\n",
    "\n",
    "    # update weights\n",
    "    w -= learning_rate * dw\n",
    "\n",
    "    if epoch % 2 == 0:\n",
    "        print(f'epoch {epoch+1}: w = {w:.3f}, loss = {l:.8f}')\n",
    "     \n",
    "print(f'Prediction after training: f(5) = {forward(5):.3f}')"
   ]
  },
  {
   "cell_type": "code",
   "execution_count": null,
   "metadata": {},
   "outputs": [],
   "source": [
    "import torch\n",
    "\n",
    "# Here we replace the manually computed gradient with autograd\n",
    "\n",
    "# Linear regression\n",
    "# f = w * x \n",
    "\n",
    "# here : f = 2 * x\n",
    "X = torch.tensor([1, 2, 3, 4], dtype=torch.float32)\n",
    "Y = torch.tensor([2, 4, 6, 8], dtype=torch.float32)\n",
    "\n",
    "w = torch.tensor(0.0, dtype=torch.float32, requires_grad=True)\n",
    "\n",
    "# model output\n",
    "def forward(x):\n",
    "    return w * x\n",
    "\n",
    "# loss = MSE\n",
    "def loss(y, y_pred):\n",
    "    return ((y_pred - y)**2).mean()\n",
    "\n",
    "print(f'Prediction before training: f(5) = {forward(5).item():.3f}')\n",
    "\n",
    "# Training\n",
    "learning_rate = 0.01\n",
    "n_iters = 100\n",
    "\n",
    "for epoch in range(n_iters):\n",
    "    # predict = forward pass\n",
    "    y_pred = forward(X)\n",
    "\n",
    "    # loss\n",
    "    l = loss(Y, y_pred)\n",
    "\n",
    "    # calculate gradients = backward pass\n",
    "    l.backward()\n",
    "\n",
    "    # update weights\n",
    "    #w.data = w.data - learning_rate * w.grad\n",
    "    with torch.no_grad():\n",
    "        w -= learning_rate * w.grad\n",
    "    \n",
    "    # zero the gradients after updating\n",
    "    w.grad.zero_()\n",
    "\n",
    "    if epoch % 10 == 0:\n",
    "        print(f'epoch {epoch+1}: w = {w.item():.3f}, loss = {l.item():.8f}')\n",
    "\n",
    "print(f'Prediction after training: f(5) = {forward(5).item():.3f}')"
   ]
  },
  {
   "cell_type": "code",
   "execution_count": null,
   "metadata": {},
   "outputs": [],
   "source": [
    "# 1) Design model (input, output, forward pass with different layers)\n",
    "# 2) Construct loss and optimizer\n",
    "# 3) Training loop\n",
    "#       - Forward = compute prediction and loss\n",
    "#       - Backward = compute gradients\n",
    "#       - Update weights\n",
    "\n",
    "import torch\n",
    "import torch.nn as nn\n",
    "\n",
    "# Linear regression\n",
    "# f = w * x \n",
    "\n",
    "# here : f = 2 * x\n",
    "\n",
    "# 0) Training samples\n",
    "X = torch.tensor([1, 2, 3, 4], dtype=torch.float32)\n",
    "Y = torch.tensor([2, 4, 6, 8], dtype=torch.float32)\n",
    "\n",
    "# 1) Design Model: Weights to optimize and forward function\n",
    "w = torch.tensor(0.0, dtype=torch.float32, requires_grad=True)\n",
    "\n",
    "def forward(x):\n",
    "    return w * x\n",
    "\n",
    "print(f'Prediction before training: f(5) = {forward(5).item():.3f}')\n",
    "\n",
    "# 2) Define loss and optimizer\n",
    "learning_rate = 0.01\n",
    "n_iters = 100\n",
    "\n",
    "# callable function\n",
    "loss = nn.MSELoss()\n",
    "\n",
    "optimizer = torch.optim.SGD([w], lr=learning_rate)\n",
    "\n",
    "# 3) Training loop\n",
    "for epoch in range(n_iters):\n",
    "    # predict = forward pass\n",
    "    y_predicted = forward(X)\n",
    "\n",
    "    # loss\n",
    "    l = loss(Y, y_predicted)\n",
    "\n",
    "    # calculate gradients = backward pass\n",
    "    l.backward()\n",
    "\n",
    "    # update weights\n",
    "    optimizer.step()\n",
    "\n",
    "    # zero the gradients after updating\n",
    "    optimizer.zero_grad()\n",
    "\n",
    "    if epoch % 10 == 0:\n",
    "        print('epoch ', epoch+1, ': w = ', w, ' loss = ', l)\n",
    "\n",
    "print(f'Prediction after training: f(5) = {forward(5).item():.3f}')"
   ]
  },
  {
   "cell_type": "code",
   "execution_count": null,
   "metadata": {},
   "outputs": [],
   "source": [
    "# 1) Design model (input, output, forward pass with different layers)\n",
    "# 2) Construct loss and optimizer\n",
    "# 3) Training loop\n",
    "#       - Forward = compute prediction and loss\n",
    "#       - Backward = compute gradients\n",
    "#       - Update weights\n",
    "\n",
    "import torch\n",
    "import torch.nn as nn\n",
    "\n",
    "# Linear regression\n",
    "# f = w * x \n",
    "\n",
    "# here : f = 2 * x\n",
    "\n",
    "# 0) Training samples, watch the shape!\n",
    "X = torch.tensor([[1], [2], [3], [4]], dtype=torch.float32)\n",
    "Y = torch.tensor([[2], [4], [6], [8]], dtype=torch.float32)\n",
    "\n",
    "n_samples, n_features = X.shape\n",
    "print(f'#samples: {n_samples}, #features: {n_features}')\n",
    "# 0) create a test sample\n",
    "X_test = torch.tensor([5], dtype=torch.float32)\n",
    "\n",
    "# 1) Design Model, the model has to implement the forward pass!\n",
    "# Here we can use a built-in model from PyTorch\n",
    "input_size = n_features\n",
    "output_size = n_features\n",
    "\n",
    "# we can call this model with samples X\n",
    "model = nn.Linear(input_size, output_size)\n",
    "\n",
    "'''\n",
    "class LinearRegression(nn.Module):\n",
    "    def __init__(self, input_dim, output_dim):\n",
    "        super(LinearRegression, self).__init__()\n",
    "        # define diferent layers\n",
    "        self.lin = nn.Linear(input_dim, output_dim)\n",
    "    def forward(self, x):\n",
    "        return self.lin(x)\n",
    "model = LinearRegression(input_size, output_size)\n",
    "'''\n",
    "\n",
    "print(f'Prediction before training: f(5) = {model(X_test).item():.3f}')\n",
    "\n",
    "# 2) Define loss and optimizer\n",
    "learning_rate = 0.01\n",
    "n_iters = 100\n",
    "\n",
    "loss = nn.MSELoss()\n",
    "optimizer = torch.optim.SGD(model.parameters(), lr=learning_rate)\n",
    "\n",
    "# 3) Training loop\n",
    "for epoch in range(n_iters):\n",
    "    # predict = forward pass with our model\n",
    "    y_predicted = model(X)\n",
    "\n",
    "    # loss\n",
    "    l = loss(Y, y_predicted)\n",
    "\n",
    "    # calculate gradients = backward pass\n",
    "    l.backward()\n",
    "\n",
    "    # update weights\n",
    "    optimizer.step()\n",
    "\n",
    "    # zero the gradients after updating\n",
    "    optimizer.zero_grad()\n",
    "\n",
    "    if epoch % 10 == 0:\n",
    "        [w, b] = model.parameters() # unpack parameters\n",
    "        print('epoch ', epoch+1, ': w = ', w[0][0].item(), ' loss = ', l)\n",
    "\n",
    "print(f'Prediction after training: f(5) = {model(X_test).item():.3f}')"
   ]
  },
  {
   "cell_type": "markdown",
   "metadata": {},
   "source": [
    "## Linear regression"
   ]
  },
  {
   "cell_type": "code",
   "execution_count": null,
   "metadata": {},
   "outputs": [],
   "source": [
    "import torch\n",
    "import torch.nn as nn\n",
    "import numpy as np\n",
    "from sklearn import datasets\n",
    "import matplotlib.pyplot as plt\n",
    "\n",
    "# 0) Prepare data\n",
    "X_numpy, y_numpy = datasets.make_regression(n_samples=100, n_features=1, noise=20, random_state=4)\n",
    "\n",
    "# cast to float Tensor\n",
    "X = torch.from_numpy(X_numpy.astype(np.float32))\n",
    "y = torch.from_numpy(y_numpy.astype(np.float32))\n",
    "y = y.view(y.shape[0], 1)\n",
    "\n",
    "n_samples, n_features = X.shape\n",
    "\n",
    "# 1) Model\n",
    "# Linear model f = wx + b\n",
    "input_size = n_features\n",
    "output_size = 1\n",
    "model = nn.Linear(input_size, output_size)\n",
    "\n",
    "# 2) Loss and optimizer\n",
    "learning_rate = 0.01\n",
    "\n",
    "criterion = nn.MSELoss()\n",
    "optimizer = torch.optim.SGD(model.parameters(), lr=learning_rate)  \n",
    "\n",
    "# 3) Training loop\n",
    "num_epochs = 100\n",
    "for epoch in range(num_epochs):\n",
    "    # Forward pass and loss\n",
    "    y_predicted = model(X)\n",
    "    loss = criterion(y_predicted, y)\n",
    "    \n",
    "    # Backward pass and update\n",
    "    loss.backward()\n",
    "    optimizer.step()\n",
    "\n",
    "    # zero grad before new step\n",
    "    optimizer.zero_grad()\n",
    "\n",
    "    if (epoch+1) % 10 == 0:\n",
    "        print(f'epoch: {epoch+1}, loss = {loss.item():.4f}')\n",
    "\n",
    "# Plot\n",
    "predicted = model(X).detach().numpy()\n",
    "\n",
    "plt.plot(X_numpy, y_numpy, 'ro')\n",
    "plt.plot(X_numpy, predicted, 'b')\n",
    "plt.show()"
   ]
  },
  {
   "cell_type": "markdown",
   "metadata": {},
   "source": [
    "## Logistic regression"
   ]
  },
  {
   "cell_type": "code",
   "execution_count": 27,
   "metadata": {
    "ExecuteTime": {
     "end_time": "2022-03-22T13:58:59.241664Z",
     "start_time": "2022-03-22T13:58:59.237675Z"
    }
   },
   "outputs": [],
   "source": [
    "import torch\n",
    "import torch.nn as nn\n",
    "import numpy as np\n",
    "from sklearn import datasets\n",
    "from sklearn.preprocessing import StandardScaler\n",
    "from sklearn.model_selection import train_test_split"
   ]
  },
  {
   "cell_type": "code",
   "execution_count": 28,
   "metadata": {
    "ExecuteTime": {
     "end_time": "2022-03-22T13:58:59.677185Z",
     "start_time": "2022-03-22T13:58:59.641284Z"
    }
   },
   "outputs": [],
   "source": [
    "# 0) Prepare data\n",
    "bc = datasets.load_breast_cancer()\n",
    "X, y = bc.data, bc.target"
   ]
  },
  {
   "cell_type": "code",
   "execution_count": 29,
   "metadata": {
    "ExecuteTime": {
     "end_time": "2022-03-22T13:59:00.514786Z",
     "start_time": "2022-03-22T13:59:00.498827Z"
    }
   },
   "outputs": [
    {
     "data": {
      "text/plain": [
       "array([0, 0, 0, 0, 0, 0, 0, 0, 0, 0, 0, 0, 0, 0, 0, 0, 0, 0, 0, 1, 1, 1,\n",
       "       0, 0, 0, 0, 0, 0, 0, 0, 0, 0, 0, 0, 0, 0, 0, 1, 0, 0, 0, 0, 0, 0,\n",
       "       0, 0, 1, 0, 1, 1, 1, 1, 1, 0, 0, 1, 0, 0, 1, 1, 1, 1, 0, 1, 0, 0,\n",
       "       1, 1, 1, 1, 0, 1, 0, 0, 1, 0, 1, 0, 0, 1, 1, 1, 0, 0, 1, 0, 0, 0,\n",
       "       1, 1, 1, 0, 1, 1, 0, 0, 1, 1, 1, 0, 0, 1, 1, 1, 1, 0, 1, 1, 0, 1,\n",
       "       1, 1, 1, 1, 1, 1, 1, 0, 0, 0, 1, 0, 0, 1, 1, 1, 0, 0, 1, 0, 1, 0,\n",
       "       0, 1, 0, 0, 1, 1, 0, 1, 1, 0, 1, 1, 1, 1, 0, 1, 1, 1, 1, 1, 1, 1,\n",
       "       1, 1, 0, 1, 1, 1, 1, 0, 0, 1, 0, 1, 1, 0, 0, 1, 1, 0, 0, 1, 1, 1,\n",
       "       1, 0, 1, 1, 0, 0, 0, 1, 0, 1, 0, 1, 1, 1, 0, 1, 1, 0, 0, 1, 0, 0,\n",
       "       0, 0, 1, 0, 0, 0, 1, 0, 1, 0, 1, 1, 0, 1, 0, 0, 0, 0, 1, 1, 0, 0,\n",
       "       1, 1, 1, 0, 1, 1, 1, 1, 1, 0, 0, 1, 1, 0, 1, 1, 0, 0, 1, 0, 1, 1,\n",
       "       1, 1, 0, 1, 1, 1, 1, 1, 0, 1, 0, 0, 0, 0, 0, 0, 0, 0, 0, 0, 0, 0,\n",
       "       0, 0, 1, 1, 1, 1, 1, 1, 0, 1, 0, 1, 1, 0, 1, 1, 0, 1, 0, 0, 1, 1,\n",
       "       1, 1, 1, 1, 1, 1, 1, 1, 1, 1, 1, 0, 1, 1, 0, 1, 0, 1, 1, 1, 1, 1,\n",
       "       1, 1, 1, 1, 1, 1, 1, 1, 1, 0, 1, 1, 1, 0, 1, 0, 1, 1, 1, 1, 0, 0,\n",
       "       0, 1, 1, 1, 1, 0, 1, 0, 1, 0, 1, 1, 1, 0, 1, 1, 1, 1, 1, 1, 1, 0,\n",
       "       0, 0, 1, 1, 1, 1, 1, 1, 1, 1, 1, 1, 1, 0, 0, 1, 0, 0, 0, 1, 0, 0,\n",
       "       1, 1, 1, 1, 1, 0, 1, 1, 1, 1, 1, 0, 1, 1, 1, 0, 1, 1, 0, 0, 1, 1,\n",
       "       1, 1, 1, 1, 0, 1, 1, 1, 1, 1, 1, 1, 0, 1, 1, 1, 1, 1, 0, 1, 1, 0,\n",
       "       1, 1, 1, 1, 1, 1, 1, 1, 1, 1, 1, 1, 0, 1, 0, 0, 1, 0, 1, 1, 1, 1,\n",
       "       1, 0, 1, 1, 0, 1, 0, 1, 1, 0, 1, 0, 1, 1, 1, 1, 1, 1, 1, 1, 0, 0,\n",
       "       1, 1, 1, 1, 1, 1, 0, 1, 1, 1, 1, 1, 1, 1, 1, 1, 1, 0, 1, 1, 1, 1,\n",
       "       1, 1, 1, 0, 1, 0, 1, 1, 0, 1, 1, 1, 1, 1, 0, 0, 1, 0, 1, 0, 1, 1,\n",
       "       1, 1, 1, 0, 1, 1, 0, 1, 0, 1, 0, 0, 1, 1, 1, 0, 1, 1, 1, 1, 1, 1,\n",
       "       1, 1, 1, 1, 1, 0, 1, 0, 0, 1, 1, 1, 1, 1, 1, 1, 1, 1, 1, 1, 1, 1,\n",
       "       1, 1, 1, 1, 1, 1, 1, 1, 1, 1, 1, 1, 0, 0, 0, 0, 0, 0, 1])"
      ]
     },
     "execution_count": 29,
     "metadata": {},
     "output_type": "execute_result"
    }
   ],
   "source": [
    "bc.target"
   ]
  },
  {
   "cell_type": "code",
   "execution_count": 30,
   "metadata": {
    "ExecuteTime": {
     "end_time": "2022-03-22T13:59:02.433199Z",
     "start_time": "2022-03-22T13:59:02.407268Z"
    }
   },
   "outputs": [],
   "source": [
    "n_samples, n_features = X.shape\n",
    "\n",
    "X_train, X_test, y_train, y_test = train_test_split(X, y, test_size=0.2, random_state=1234)"
   ]
  },
  {
   "cell_type": "code",
   "execution_count": 31,
   "metadata": {
    "ExecuteTime": {
     "end_time": "2022-03-22T13:59:07.072421Z",
     "start_time": "2022-03-22T13:59:07.051478Z"
    }
   },
   "outputs": [],
   "source": [
    "# scale\n",
    "sc = StandardScaler()\n",
    "X_train = sc.fit_transform(X_train)\n",
    "X_test = sc.transform(X_test)"
   ]
  },
  {
   "cell_type": "code",
   "execution_count": 32,
   "metadata": {
    "ExecuteTime": {
     "end_time": "2022-03-22T13:59:09.558885Z",
     "start_time": "2022-03-22T13:59:09.553899Z"
    }
   },
   "outputs": [],
   "source": [
    "X_train = torch.from_numpy(X_train.astype(np.float32))\n",
    "X_test = torch.from_numpy(X_test.astype(np.float32))\n",
    "y_train = torch.from_numpy(y_train.astype(np.float32))\n",
    "y_test = torch.from_numpy(y_test.astype(np.float32))"
   ]
  },
  {
   "cell_type": "code",
   "execution_count": 33,
   "metadata": {
    "ExecuteTime": {
     "end_time": "2022-03-22T13:59:10.535413Z",
     "start_time": "2022-03-22T13:59:10.482556Z"
    }
   },
   "outputs": [
    {
     "data": {
      "text/plain": [
       "tensor([1., 1., 1., 0., 1., 0., 1., 1., 1., 1., 0., 1., 0., 0., 1., 1., 1., 1.,\n",
       "        0., 1., 0., 1., 1., 1., 1., 0., 1., 0., 0., 1., 0., 1., 0., 1., 0., 0.,\n",
       "        1., 1., 0., 1., 1., 0., 1., 0., 0., 1., 1., 1., 0., 1., 1., 0., 1., 1.,\n",
       "        1., 1., 0., 1., 1., 0., 0., 1., 1., 1., 1., 0., 1., 1., 1., 0., 1., 0.,\n",
       "        1., 1., 1., 1., 0., 1., 1., 0., 0., 1., 0., 0., 1., 1., 1., 1., 1., 0.,\n",
       "        1., 1., 0., 1., 1., 1., 1., 0., 1., 1., 1., 1., 1., 1., 0., 1., 1., 1.,\n",
       "        0., 0., 1., 0., 1., 0., 1., 1., 1., 1., 1., 1., 0., 1., 0., 1., 1., 1.,\n",
       "        0., 0., 0., 1., 1., 1., 1., 1., 1., 1., 0., 1., 1., 1., 1., 0., 0., 0.,\n",
       "        0., 1., 0., 1., 1., 0., 0., 1., 1., 1., 0., 1., 1., 1., 1., 0., 1., 1.,\n",
       "        0., 0., 0., 1., 1., 0., 1., 1., 1., 1., 1., 1., 1., 0., 0., 0., 0., 0.,\n",
       "        1., 1., 0., 1., 1., 0., 1., 0., 0., 0., 1., 1., 1., 0., 0., 1., 0., 0.,\n",
       "        1., 1., 0., 1., 0., 0., 1., 1., 1., 0., 1., 1., 0., 1., 1., 1., 1., 1.,\n",
       "        1., 1., 1., 0., 1., 1., 1., 0., 1., 0., 1., 0., 1., 1., 0., 1., 0., 0.,\n",
       "        1., 0., 1., 0., 1., 1., 1., 1., 1., 1., 0., 1., 1., 1., 0., 1., 1., 0.,\n",
       "        1., 1., 1., 1., 1., 1., 0., 1., 0., 1., 1., 1., 1., 0., 0., 1., 1., 1.,\n",
       "        1., 0., 0., 0., 1., 1., 0., 0., 1., 0., 1., 1., 1., 0., 0., 1., 1., 1.,\n",
       "        0., 1., 0., 0., 1., 1., 1., 1., 0., 1., 0., 0., 0., 1., 0., 0., 0., 1.,\n",
       "        1., 1., 1., 0., 1., 0., 0., 0., 1., 0., 1., 1., 0., 0., 1., 0., 0., 1.,\n",
       "        0., 1., 0., 1., 0., 1., 1., 0., 1., 1., 1., 1., 1., 1., 1., 1., 1., 1.,\n",
       "        0., 1., 0., 0., 0., 0., 1., 0., 1., 1., 1., 1., 0., 1., 0., 1., 1., 0.,\n",
       "        1., 1., 0., 1., 0., 1., 1., 1., 0., 1., 1., 1., 0., 1., 0., 0., 0., 0.,\n",
       "        0., 1., 0., 0., 1., 1., 1., 0., 0., 0., 1., 1., 0., 1., 1., 1., 1., 1.,\n",
       "        1., 1., 1., 0., 0., 1., 0., 1., 0., 0., 0., 1., 0., 1., 0., 0., 1., 0.,\n",
       "        1., 0., 1., 0., 1., 1., 1., 1., 1., 0., 1., 1., 1., 1., 0., 0., 1., 1.,\n",
       "        1., 1., 1., 1., 1., 1., 1., 1., 1., 1., 1., 1., 1., 1., 1., 0., 1., 0.,\n",
       "        1., 0., 1., 0., 1.])"
      ]
     },
     "execution_count": 33,
     "metadata": {},
     "output_type": "execute_result"
    }
   ],
   "source": [
    "y_train"
   ]
  },
  {
   "cell_type": "code",
   "execution_count": 34,
   "metadata": {
    "ExecuteTime": {
     "end_time": "2022-03-22T13:59:13.248792Z",
     "start_time": "2022-03-22T13:59:13.242808Z"
    }
   },
   "outputs": [],
   "source": [
    "y_train = y_train.view(y_train.shape[0], 1)\n",
    "y_test = y_test.view(y_test.shape[0], 1)"
   ]
  },
  {
   "cell_type": "code",
   "execution_count": 35,
   "metadata": {
    "ExecuteTime": {
     "end_time": "2022-03-22T13:59:14.228794Z",
     "start_time": "2022-03-22T13:59:14.214831Z"
    }
   },
   "outputs": [],
   "source": [
    "# 1) Model\n",
    "# Linear model f = wx + b , sigmoid at the end\n",
    "class Model(nn.Module):\n",
    "    def __init__(self, n_input_features):\n",
    "        super(Model, self).__init__()\n",
    "        self.linear = nn.Linear(n_input_features, 1)\n",
    "\n",
    "    def forward(self, x):\n",
    "        y_pred = torch.sigmoid(self.linear(x))\n",
    "        return y_pred\n",
    "\n",
    "model = Model(n_features)"
   ]
  },
  {
   "cell_type": "code",
   "execution_count": 50,
   "metadata": {
    "ExecuteTime": {
     "end_time": "2022-03-22T13:59:54.066624Z",
     "start_time": "2022-03-22T13:59:54.063632Z"
    }
   },
   "outputs": [],
   "source": [
    "# 2) Loss and optimizer\n",
    "num_epochs = 10000\n",
    "learning_rate = 0.01\n",
    "criterion = nn.BCELoss()\n",
    "optimizer = torch.optim.SGD(model.parameters(), lr=learning_rate)"
   ]
  },
  {
   "cell_type": "code",
   "execution_count": 51,
   "metadata": {
    "ExecuteTime": {
     "end_time": "2022-03-22T13:59:56.696911Z",
     "start_time": "2022-03-22T13:59:54.341888Z"
    }
   },
   "outputs": [
    {
     "name": "stdout",
     "output_type": "stream",
     "text": [
      "epoch: 10, loss = 0.0791\n",
      "epoch: 20, loss = 0.0788\n",
      "epoch: 30, loss = 0.0786\n",
      "epoch: 40, loss = 0.0784\n",
      "epoch: 50, loss = 0.0782\n",
      "epoch: 60, loss = 0.0780\n",
      "epoch: 70, loss = 0.0778\n",
      "epoch: 80, loss = 0.0775\n",
      "epoch: 90, loss = 0.0773\n",
      "epoch: 100, loss = 0.0771\n",
      "epoch: 110, loss = 0.0769\n",
      "epoch: 120, loss = 0.0767\n",
      "epoch: 130, loss = 0.0765\n",
      "epoch: 140, loss = 0.0763\n",
      "epoch: 150, loss = 0.0761\n",
      "epoch: 160, loss = 0.0759\n",
      "epoch: 170, loss = 0.0758\n",
      "epoch: 180, loss = 0.0756\n",
      "epoch: 190, loss = 0.0754\n",
      "epoch: 200, loss = 0.0752\n",
      "epoch: 210, loss = 0.0750\n",
      "epoch: 220, loss = 0.0748\n",
      "epoch: 230, loss = 0.0747\n",
      "epoch: 240, loss = 0.0745\n",
      "epoch: 250, loss = 0.0743\n",
      "epoch: 260, loss = 0.0741\n",
      "epoch: 270, loss = 0.0740\n",
      "epoch: 280, loss = 0.0738\n",
      "epoch: 290, loss = 0.0736\n",
      "epoch: 300, loss = 0.0735\n",
      "epoch: 310, loss = 0.0733\n",
      "epoch: 320, loss = 0.0731\n",
      "epoch: 330, loss = 0.0730\n",
      "epoch: 340, loss = 0.0728\n",
      "epoch: 350, loss = 0.0726\n",
      "epoch: 360, loss = 0.0725\n",
      "epoch: 370, loss = 0.0723\n",
      "epoch: 380, loss = 0.0722\n",
      "epoch: 390, loss = 0.0720\n",
      "epoch: 400, loss = 0.0719\n",
      "epoch: 410, loss = 0.0717\n",
      "epoch: 420, loss = 0.0716\n",
      "epoch: 430, loss = 0.0714\n",
      "epoch: 440, loss = 0.0713\n",
      "epoch: 450, loss = 0.0711\n",
      "epoch: 460, loss = 0.0710\n",
      "epoch: 470, loss = 0.0708\n",
      "epoch: 480, loss = 0.0707\n",
      "epoch: 490, loss = 0.0706\n",
      "epoch: 500, loss = 0.0704\n",
      "epoch: 510, loss = 0.0703\n",
      "epoch: 520, loss = 0.0701\n",
      "epoch: 530, loss = 0.0700\n",
      "epoch: 540, loss = 0.0699\n",
      "epoch: 550, loss = 0.0697\n",
      "epoch: 560, loss = 0.0696\n",
      "epoch: 570, loss = 0.0695\n",
      "epoch: 580, loss = 0.0693\n",
      "epoch: 590, loss = 0.0692\n",
      "epoch: 600, loss = 0.0691\n",
      "epoch: 610, loss = 0.0690\n",
      "epoch: 620, loss = 0.0688\n",
      "epoch: 630, loss = 0.0687\n",
      "epoch: 640, loss = 0.0686\n",
      "epoch: 650, loss = 0.0685\n",
      "epoch: 660, loss = 0.0683\n",
      "epoch: 670, loss = 0.0682\n",
      "epoch: 680, loss = 0.0681\n",
      "epoch: 690, loss = 0.0680\n",
      "epoch: 700, loss = 0.0678\n",
      "epoch: 710, loss = 0.0677\n",
      "epoch: 720, loss = 0.0676\n",
      "epoch: 730, loss = 0.0675\n",
      "epoch: 740, loss = 0.0674\n",
      "epoch: 750, loss = 0.0673\n",
      "epoch: 760, loss = 0.0672\n",
      "epoch: 770, loss = 0.0670\n",
      "epoch: 780, loss = 0.0669\n",
      "epoch: 790, loss = 0.0668\n",
      "epoch: 800, loss = 0.0667\n",
      "epoch: 810, loss = 0.0666\n",
      "epoch: 820, loss = 0.0665\n",
      "epoch: 830, loss = 0.0664\n",
      "epoch: 840, loss = 0.0663\n",
      "epoch: 850, loss = 0.0662\n",
      "epoch: 860, loss = 0.0661\n",
      "epoch: 870, loss = 0.0660\n",
      "epoch: 880, loss = 0.0658\n",
      "epoch: 890, loss = 0.0657\n",
      "epoch: 900, loss = 0.0656\n",
      "epoch: 910, loss = 0.0655\n",
      "epoch: 920, loss = 0.0654\n",
      "epoch: 930, loss = 0.0653\n",
      "epoch: 940, loss = 0.0652\n",
      "epoch: 950, loss = 0.0651\n",
      "epoch: 960, loss = 0.0650\n",
      "epoch: 970, loss = 0.0649\n",
      "epoch: 980, loss = 0.0648\n",
      "epoch: 990, loss = 0.0647\n",
      "epoch: 1000, loss = 0.0646\n",
      "epoch: 1010, loss = 0.0646\n",
      "epoch: 1020, loss = 0.0645\n",
      "epoch: 1030, loss = 0.0644\n",
      "epoch: 1040, loss = 0.0643\n",
      "epoch: 1050, loss = 0.0642\n",
      "epoch: 1060, loss = 0.0641\n",
      "epoch: 1070, loss = 0.0640\n",
      "epoch: 1080, loss = 0.0639\n",
      "epoch: 1090, loss = 0.0638\n",
      "epoch: 1100, loss = 0.0637\n",
      "epoch: 1110, loss = 0.0636\n",
      "epoch: 1120, loss = 0.0635\n",
      "epoch: 1130, loss = 0.0634\n",
      "epoch: 1140, loss = 0.0634\n",
      "epoch: 1150, loss = 0.0633\n",
      "epoch: 1160, loss = 0.0632\n",
      "epoch: 1170, loss = 0.0631\n",
      "epoch: 1180, loss = 0.0630\n",
      "epoch: 1190, loss = 0.0629\n",
      "epoch: 1200, loss = 0.0628\n",
      "epoch: 1210, loss = 0.0628\n",
      "epoch: 1220, loss = 0.0627\n",
      "epoch: 1230, loss = 0.0626\n",
      "epoch: 1240, loss = 0.0625\n",
      "epoch: 1250, loss = 0.0624\n",
      "epoch: 1260, loss = 0.0623\n",
      "epoch: 1270, loss = 0.0623\n",
      "epoch: 1280, loss = 0.0622\n",
      "epoch: 1290, loss = 0.0621\n",
      "epoch: 1300, loss = 0.0620\n",
      "epoch: 1310, loss = 0.0619\n",
      "epoch: 1320, loss = 0.0619\n",
      "epoch: 1330, loss = 0.0618\n",
      "epoch: 1340, loss = 0.0617\n",
      "epoch: 1350, loss = 0.0616\n",
      "epoch: 1360, loss = 0.0615\n",
      "epoch: 1370, loss = 0.0615\n",
      "epoch: 1380, loss = 0.0614\n",
      "epoch: 1390, loss = 0.0613\n",
      "epoch: 1400, loss = 0.0612\n",
      "epoch: 1410, loss = 0.0612\n",
      "epoch: 1420, loss = 0.0611\n",
      "epoch: 1430, loss = 0.0610\n",
      "epoch: 1440, loss = 0.0609\n",
      "epoch: 1450, loss = 0.0609\n",
      "epoch: 1460, loss = 0.0608\n",
      "epoch: 1470, loss = 0.0607\n",
      "epoch: 1480, loss = 0.0606\n",
      "epoch: 1490, loss = 0.0606\n",
      "epoch: 1500, loss = 0.0605\n",
      "epoch: 1510, loss = 0.0604\n",
      "epoch: 1520, loss = 0.0603\n",
      "epoch: 1530, loss = 0.0603\n",
      "epoch: 1540, loss = 0.0602\n",
      "epoch: 1550, loss = 0.0601\n",
      "epoch: 1560, loss = 0.0601\n",
      "epoch: 1570, loss = 0.0600\n",
      "epoch: 1580, loss = 0.0599\n",
      "epoch: 1590, loss = 0.0599\n",
      "epoch: 1600, loss = 0.0598\n",
      "epoch: 1610, loss = 0.0597\n",
      "epoch: 1620, loss = 0.0597\n",
      "epoch: 1630, loss = 0.0596\n",
      "epoch: 1640, loss = 0.0595\n",
      "epoch: 1650, loss = 0.0595\n",
      "epoch: 1660, loss = 0.0594\n",
      "epoch: 1670, loss = 0.0593\n",
      "epoch: 1680, loss = 0.0593\n",
      "epoch: 1690, loss = 0.0592\n",
      "epoch: 1700, loss = 0.0591\n",
      "epoch: 1710, loss = 0.0591\n",
      "epoch: 1720, loss = 0.0590\n",
      "epoch: 1730, loss = 0.0589\n",
      "epoch: 1740, loss = 0.0589\n",
      "epoch: 1750, loss = 0.0588\n",
      "epoch: 1760, loss = 0.0587\n",
      "epoch: 1770, loss = 0.0587\n",
      "epoch: 1780, loss = 0.0586\n",
      "epoch: 1790, loss = 0.0585\n",
      "epoch: 1800, loss = 0.0585\n",
      "epoch: 1810, loss = 0.0584\n",
      "epoch: 1820, loss = 0.0584\n",
      "epoch: 1830, loss = 0.0583\n",
      "epoch: 1840, loss = 0.0582\n",
      "epoch: 1850, loss = 0.0582\n",
      "epoch: 1860, loss = 0.0581\n",
      "epoch: 1870, loss = 0.0581\n",
      "epoch: 1880, loss = 0.0580\n",
      "epoch: 1890, loss = 0.0579\n",
      "epoch: 1900, loss = 0.0579\n",
      "epoch: 1910, loss = 0.0578\n",
      "epoch: 1920, loss = 0.0578\n",
      "epoch: 1930, loss = 0.0577\n",
      "epoch: 1940, loss = 0.0576\n",
      "epoch: 1950, loss = 0.0576\n",
      "epoch: 1960, loss = 0.0575\n",
      "epoch: 1970, loss = 0.0575\n",
      "epoch: 1980, loss = 0.0574\n",
      "epoch: 1990, loss = 0.0574\n",
      "epoch: 2000, loss = 0.0573\n",
      "epoch: 2010, loss = 0.0572\n",
      "epoch: 2020, loss = 0.0572\n",
      "epoch: 2030, loss = 0.0571\n",
      "epoch: 2040, loss = 0.0571\n",
      "epoch: 2050, loss = 0.0570\n",
      "epoch: 2060, loss = 0.0570\n",
      "epoch: 2070, loss = 0.0569\n",
      "epoch: 2080, loss = 0.0568\n",
      "epoch: 2090, loss = 0.0568\n",
      "epoch: 2100, loss = 0.0567\n",
      "epoch: 2110, loss = 0.0567\n",
      "epoch: 2120, loss = 0.0566\n",
      "epoch: 2130, loss = 0.0566\n",
      "epoch: 2140, loss = 0.0565\n",
      "epoch: 2150, loss = 0.0565\n",
      "epoch: 2160, loss = 0.0564\n",
      "epoch: 2170, loss = 0.0564\n",
      "epoch: 2180, loss = 0.0563\n",
      "epoch: 2190, loss = 0.0563\n",
      "epoch: 2200, loss = 0.0562\n",
      "epoch: 2210, loss = 0.0562\n",
      "epoch: 2220, loss = 0.0561\n",
      "epoch: 2230, loss = 0.0561\n",
      "epoch: 2240, loss = 0.0560\n",
      "epoch: 2250, loss = 0.0559\n",
      "epoch: 2260, loss = 0.0559\n",
      "epoch: 2270, loss = 0.0558\n",
      "epoch: 2280, loss = 0.0558\n",
      "epoch: 2290, loss = 0.0557\n",
      "epoch: 2300, loss = 0.0557\n",
      "epoch: 2310, loss = 0.0556\n",
      "epoch: 2320, loss = 0.0556\n",
      "epoch: 2330, loss = 0.0555\n",
      "epoch: 2340, loss = 0.0555\n",
      "epoch: 2350, loss = 0.0554\n",
      "epoch: 2360, loss = 0.0554\n",
      "epoch: 2370, loss = 0.0553\n",
      "epoch: 2380, loss = 0.0553\n",
      "epoch: 2390, loss = 0.0553\n",
      "epoch: 2400, loss = 0.0552\n",
      "epoch: 2410, loss = 0.0552\n",
      "epoch: 2420, loss = 0.0551\n",
      "epoch: 2430, loss = 0.0551\n",
      "epoch: 2440, loss = 0.0550\n",
      "epoch: 2450, loss = 0.0550\n",
      "epoch: 2460, loss = 0.0549\n",
      "epoch: 2470, loss = 0.0549\n",
      "epoch: 2480, loss = 0.0548\n",
      "epoch: 2490, loss = 0.0548\n",
      "epoch: 2500, loss = 0.0547\n",
      "epoch: 2510, loss = 0.0547\n",
      "epoch: 2520, loss = 0.0546\n",
      "epoch: 2530, loss = 0.0546\n",
      "epoch: 2540, loss = 0.0545\n",
      "epoch: 2550, loss = 0.0545\n",
      "epoch: 2560, loss = 0.0545\n",
      "epoch: 2570, loss = 0.0544\n",
      "epoch: 2580, loss = 0.0544\n",
      "epoch: 2590, loss = 0.0543\n",
      "epoch: 2600, loss = 0.0543\n",
      "epoch: 2610, loss = 0.0542\n",
      "epoch: 2620, loss = 0.0542\n",
      "epoch: 2630, loss = 0.0541\n",
      "epoch: 2640, loss = 0.0541\n",
      "epoch: 2650, loss = 0.0541\n",
      "epoch: 2660, loss = 0.0540\n",
      "epoch: 2670, loss = 0.0540\n",
      "epoch: 2680, loss = 0.0539\n",
      "epoch: 2690, loss = 0.0539\n",
      "epoch: 2700, loss = 0.0538\n",
      "epoch: 2710, loss = 0.0538\n",
      "epoch: 2720, loss = 0.0537\n",
      "epoch: 2730, loss = 0.0537\n",
      "epoch: 2740, loss = 0.0537\n",
      "epoch: 2750, loss = 0.0536\n",
      "epoch: 2760, loss = 0.0536\n",
      "epoch: 2770, loss = 0.0535\n",
      "epoch: 2780, loss = 0.0535\n",
      "epoch: 2790, loss = 0.0534\n",
      "epoch: 2800, loss = 0.0534\n",
      "epoch: 2810, loss = 0.0534\n",
      "epoch: 2820, loss = 0.0533\n",
      "epoch: 2830, loss = 0.0533\n",
      "epoch: 2840, loss = 0.0532\n",
      "epoch: 2850, loss = 0.0532\n",
      "epoch: 2860, loss = 0.0532\n",
      "epoch: 2870, loss = 0.0531\n",
      "epoch: 2880, loss = 0.0531\n",
      "epoch: 2890, loss = 0.0530\n",
      "epoch: 2900, loss = 0.0530\n",
      "epoch: 2910, loss = 0.0530\n",
      "epoch: 2920, loss = 0.0529\n",
      "epoch: 2930, loss = 0.0529\n",
      "epoch: 2940, loss = 0.0528\n",
      "epoch: 2950, loss = 0.0528\n",
      "epoch: 2960, loss = 0.0528\n",
      "epoch: 2970, loss = 0.0527\n",
      "epoch: 2980, loss = 0.0527\n",
      "epoch: 2990, loss = 0.0526\n",
      "epoch: 3000, loss = 0.0526\n",
      "epoch: 3010, loss = 0.0526\n",
      "epoch: 3020, loss = 0.0525\n",
      "epoch: 3030, loss = 0.0525\n",
      "epoch: 3040, loss = 0.0524\n",
      "epoch: 3050, loss = 0.0524\n",
      "epoch: 3060, loss = 0.0524\n",
      "epoch: 3070, loss = 0.0523\n",
      "epoch: 3080, loss = 0.0523\n",
      "epoch: 3090, loss = 0.0523\n",
      "epoch: 3100, loss = 0.0522\n",
      "epoch: 3110, loss = 0.0522\n",
      "epoch: 3120, loss = 0.0521\n",
      "epoch: 3130, loss = 0.0521\n",
      "epoch: 3140, loss = 0.0521\n",
      "epoch: 3150, loss = 0.0520\n",
      "epoch: 3160, loss = 0.0520\n",
      "epoch: 3170, loss = 0.0520\n",
      "epoch: 3180, loss = 0.0519\n",
      "epoch: 3190, loss = 0.0519\n",
      "epoch: 3200, loss = 0.0518\n",
      "epoch: 3210, loss = 0.0518\n",
      "epoch: 3220, loss = 0.0518\n",
      "epoch: 3230, loss = 0.0517\n",
      "epoch: 3240, loss = 0.0517\n"
     ]
    },
    {
     "name": "stdout",
     "output_type": "stream",
     "text": [
      "epoch: 3250, loss = 0.0517\n",
      "epoch: 3260, loss = 0.0516\n",
      "epoch: 3270, loss = 0.0516\n",
      "epoch: 3280, loss = 0.0516\n",
      "epoch: 3290, loss = 0.0515\n",
      "epoch: 3300, loss = 0.0515\n",
      "epoch: 3310, loss = 0.0514\n",
      "epoch: 3320, loss = 0.0514\n",
      "epoch: 3330, loss = 0.0514\n",
      "epoch: 3340, loss = 0.0513\n",
      "epoch: 3350, loss = 0.0513\n",
      "epoch: 3360, loss = 0.0513\n",
      "epoch: 3370, loss = 0.0512\n",
      "epoch: 3380, loss = 0.0512\n",
      "epoch: 3390, loss = 0.0512\n",
      "epoch: 3400, loss = 0.0511\n",
      "epoch: 3410, loss = 0.0511\n",
      "epoch: 3420, loss = 0.0511\n",
      "epoch: 3430, loss = 0.0510\n",
      "epoch: 3440, loss = 0.0510\n",
      "epoch: 3450, loss = 0.0510\n",
      "epoch: 3460, loss = 0.0509\n",
      "epoch: 3470, loss = 0.0509\n",
      "epoch: 3480, loss = 0.0509\n",
      "epoch: 3490, loss = 0.0508\n",
      "epoch: 3500, loss = 0.0508\n",
      "epoch: 3510, loss = 0.0508\n",
      "epoch: 3520, loss = 0.0507\n",
      "epoch: 3530, loss = 0.0507\n",
      "epoch: 3540, loss = 0.0507\n",
      "epoch: 3550, loss = 0.0506\n",
      "epoch: 3560, loss = 0.0506\n",
      "epoch: 3570, loss = 0.0506\n",
      "epoch: 3580, loss = 0.0505\n",
      "epoch: 3590, loss = 0.0505\n",
      "epoch: 3600, loss = 0.0505\n",
      "epoch: 3610, loss = 0.0504\n",
      "epoch: 3620, loss = 0.0504\n",
      "epoch: 3630, loss = 0.0504\n",
      "epoch: 3640, loss = 0.0503\n",
      "epoch: 3650, loss = 0.0503\n",
      "epoch: 3660, loss = 0.0503\n",
      "epoch: 3670, loss = 0.0502\n",
      "epoch: 3680, loss = 0.0502\n",
      "epoch: 3690, loss = 0.0502\n",
      "epoch: 3700, loss = 0.0501\n",
      "epoch: 3710, loss = 0.0501\n",
      "epoch: 3720, loss = 0.0501\n",
      "epoch: 3730, loss = 0.0500\n",
      "epoch: 3740, loss = 0.0500\n",
      "epoch: 3750, loss = 0.0500\n",
      "epoch: 3760, loss = 0.0500\n",
      "epoch: 3770, loss = 0.0499\n",
      "epoch: 3780, loss = 0.0499\n",
      "epoch: 3790, loss = 0.0499\n",
      "epoch: 3800, loss = 0.0498\n",
      "epoch: 3810, loss = 0.0498\n",
      "epoch: 3820, loss = 0.0498\n",
      "epoch: 3830, loss = 0.0497\n",
      "epoch: 3840, loss = 0.0497\n",
      "epoch: 3850, loss = 0.0497\n",
      "epoch: 3860, loss = 0.0496\n",
      "epoch: 3870, loss = 0.0496\n",
      "epoch: 3880, loss = 0.0496\n",
      "epoch: 3890, loss = 0.0496\n",
      "epoch: 3900, loss = 0.0495\n",
      "epoch: 3910, loss = 0.0495\n",
      "epoch: 3920, loss = 0.0495\n",
      "epoch: 3930, loss = 0.0494\n",
      "epoch: 3940, loss = 0.0494\n",
      "epoch: 3950, loss = 0.0494\n",
      "epoch: 3960, loss = 0.0494\n",
      "epoch: 3970, loss = 0.0493\n",
      "epoch: 3980, loss = 0.0493\n",
      "epoch: 3990, loss = 0.0493\n",
      "epoch: 4000, loss = 0.0492\n",
      "epoch: 4010, loss = 0.0492\n",
      "epoch: 4020, loss = 0.0492\n",
      "epoch: 4030, loss = 0.0491\n",
      "epoch: 4040, loss = 0.0491\n",
      "epoch: 4050, loss = 0.0491\n",
      "epoch: 4060, loss = 0.0491\n",
      "epoch: 4070, loss = 0.0490\n",
      "epoch: 4080, loss = 0.0490\n",
      "epoch: 4090, loss = 0.0490\n",
      "epoch: 4100, loss = 0.0489\n",
      "epoch: 4110, loss = 0.0489\n",
      "epoch: 4120, loss = 0.0489\n",
      "epoch: 4130, loss = 0.0489\n",
      "epoch: 4140, loss = 0.0488\n",
      "epoch: 4150, loss = 0.0488\n",
      "epoch: 4160, loss = 0.0488\n",
      "epoch: 4170, loss = 0.0487\n",
      "epoch: 4180, loss = 0.0487\n",
      "epoch: 4190, loss = 0.0487\n",
      "epoch: 4200, loss = 0.0487\n",
      "epoch: 4210, loss = 0.0486\n",
      "epoch: 4220, loss = 0.0486\n",
      "epoch: 4230, loss = 0.0486\n",
      "epoch: 4240, loss = 0.0486\n",
      "epoch: 4250, loss = 0.0485\n",
      "epoch: 4260, loss = 0.0485\n",
      "epoch: 4270, loss = 0.0485\n",
      "epoch: 4280, loss = 0.0484\n",
      "epoch: 4290, loss = 0.0484\n",
      "epoch: 4300, loss = 0.0484\n",
      "epoch: 4310, loss = 0.0484\n",
      "epoch: 4320, loss = 0.0483\n",
      "epoch: 4330, loss = 0.0483\n",
      "epoch: 4340, loss = 0.0483\n",
      "epoch: 4350, loss = 0.0483\n",
      "epoch: 4360, loss = 0.0482\n",
      "epoch: 4370, loss = 0.0482\n",
      "epoch: 4380, loss = 0.0482\n",
      "epoch: 4390, loss = 0.0482\n",
      "epoch: 4400, loss = 0.0481\n",
      "epoch: 4410, loss = 0.0481\n",
      "epoch: 4420, loss = 0.0481\n",
      "epoch: 4430, loss = 0.0480\n",
      "epoch: 4440, loss = 0.0480\n",
      "epoch: 4450, loss = 0.0480\n",
      "epoch: 4460, loss = 0.0480\n",
      "epoch: 4470, loss = 0.0479\n",
      "epoch: 4480, loss = 0.0479\n",
      "epoch: 4490, loss = 0.0479\n",
      "epoch: 4500, loss = 0.0479\n",
      "epoch: 4510, loss = 0.0478\n",
      "epoch: 4520, loss = 0.0478\n",
      "epoch: 4530, loss = 0.0478\n",
      "epoch: 4540, loss = 0.0478\n",
      "epoch: 4550, loss = 0.0477\n",
      "epoch: 4560, loss = 0.0477\n",
      "epoch: 4570, loss = 0.0477\n",
      "epoch: 4580, loss = 0.0477\n",
      "epoch: 4590, loss = 0.0476\n",
      "epoch: 4600, loss = 0.0476\n",
      "epoch: 4610, loss = 0.0476\n",
      "epoch: 4620, loss = 0.0476\n",
      "epoch: 4630, loss = 0.0475\n",
      "epoch: 4640, loss = 0.0475\n",
      "epoch: 4650, loss = 0.0475\n",
      "epoch: 4660, loss = 0.0475\n",
      "epoch: 4670, loss = 0.0474\n",
      "epoch: 4680, loss = 0.0474\n",
      "epoch: 4690, loss = 0.0474\n",
      "epoch: 4700, loss = 0.0474\n",
      "epoch: 4710, loss = 0.0473\n",
      "epoch: 4720, loss = 0.0473\n",
      "epoch: 4730, loss = 0.0473\n",
      "epoch: 4740, loss = 0.0473\n",
      "epoch: 4750, loss = 0.0472\n",
      "epoch: 4760, loss = 0.0472\n",
      "epoch: 4770, loss = 0.0472\n",
      "epoch: 4780, loss = 0.0472\n",
      "epoch: 4790, loss = 0.0471\n",
      "epoch: 4800, loss = 0.0471\n",
      "epoch: 4810, loss = 0.0471\n",
      "epoch: 4820, loss = 0.0471\n",
      "epoch: 4830, loss = 0.0470\n",
      "epoch: 4840, loss = 0.0470\n",
      "epoch: 4850, loss = 0.0470\n",
      "epoch: 4860, loss = 0.0470\n",
      "epoch: 4870, loss = 0.0470\n",
      "epoch: 4880, loss = 0.0469\n",
      "epoch: 4890, loss = 0.0469\n",
      "epoch: 4900, loss = 0.0469\n",
      "epoch: 4910, loss = 0.0469\n",
      "epoch: 4920, loss = 0.0468\n",
      "epoch: 4930, loss = 0.0468\n",
      "epoch: 4940, loss = 0.0468\n",
      "epoch: 4950, loss = 0.0468\n",
      "epoch: 4960, loss = 0.0467\n",
      "epoch: 4970, loss = 0.0467\n",
      "epoch: 4980, loss = 0.0467\n",
      "epoch: 4990, loss = 0.0467\n",
      "epoch: 5000, loss = 0.0466\n",
      "epoch: 5010, loss = 0.0466\n",
      "epoch: 5020, loss = 0.0466\n",
      "epoch: 5030, loss = 0.0466\n",
      "epoch: 5040, loss = 0.0466\n",
      "epoch: 5050, loss = 0.0465\n",
      "epoch: 5060, loss = 0.0465\n",
      "epoch: 5070, loss = 0.0465\n",
      "epoch: 5080, loss = 0.0465\n",
      "epoch: 5090, loss = 0.0464\n",
      "epoch: 5100, loss = 0.0464\n",
      "epoch: 5110, loss = 0.0464\n",
      "epoch: 5120, loss = 0.0464\n",
      "epoch: 5130, loss = 0.0464\n",
      "epoch: 5140, loss = 0.0463\n",
      "epoch: 5150, loss = 0.0463\n",
      "epoch: 5160, loss = 0.0463\n",
      "epoch: 5170, loss = 0.0463\n",
      "epoch: 5180, loss = 0.0462\n",
      "epoch: 5190, loss = 0.0462\n",
      "epoch: 5200, loss = 0.0462\n",
      "epoch: 5210, loss = 0.0462\n",
      "epoch: 5220, loss = 0.0462\n",
      "epoch: 5230, loss = 0.0461\n",
      "epoch: 5240, loss = 0.0461\n",
      "epoch: 5250, loss = 0.0461\n",
      "epoch: 5260, loss = 0.0461\n",
      "epoch: 5270, loss = 0.0460\n",
      "epoch: 5280, loss = 0.0460\n",
      "epoch: 5290, loss = 0.0460\n",
      "epoch: 5300, loss = 0.0460\n",
      "epoch: 5310, loss = 0.0460\n",
      "epoch: 5320, loss = 0.0459\n",
      "epoch: 5330, loss = 0.0459\n",
      "epoch: 5340, loss = 0.0459\n",
      "epoch: 5350, loss = 0.0459\n",
      "epoch: 5360, loss = 0.0459\n",
      "epoch: 5370, loss = 0.0458\n",
      "epoch: 5380, loss = 0.0458\n",
      "epoch: 5390, loss = 0.0458\n",
      "epoch: 5400, loss = 0.0458\n",
      "epoch: 5410, loss = 0.0457\n",
      "epoch: 5420, loss = 0.0457\n",
      "epoch: 5430, loss = 0.0457\n",
      "epoch: 5440, loss = 0.0457\n",
      "epoch: 5450, loss = 0.0457\n",
      "epoch: 5460, loss = 0.0456\n",
      "epoch: 5470, loss = 0.0456\n",
      "epoch: 5480, loss = 0.0456\n",
      "epoch: 5490, loss = 0.0456\n",
      "epoch: 5500, loss = 0.0456\n",
      "epoch: 5510, loss = 0.0455\n",
      "epoch: 5520, loss = 0.0455\n",
      "epoch: 5530, loss = 0.0455\n",
      "epoch: 5540, loss = 0.0455\n",
      "epoch: 5550, loss = 0.0455\n",
      "epoch: 5560, loss = 0.0454\n",
      "epoch: 5570, loss = 0.0454\n",
      "epoch: 5580, loss = 0.0454\n",
      "epoch: 5590, loss = 0.0454\n",
      "epoch: 5600, loss = 0.0454\n",
      "epoch: 5610, loss = 0.0453\n",
      "epoch: 5620, loss = 0.0453\n",
      "epoch: 5630, loss = 0.0453\n",
      "epoch: 5640, loss = 0.0453\n",
      "epoch: 5650, loss = 0.0453\n",
      "epoch: 5660, loss = 0.0452\n",
      "epoch: 5670, loss = 0.0452\n",
      "epoch: 5680, loss = 0.0452\n",
      "epoch: 5690, loss = 0.0452\n",
      "epoch: 5700, loss = 0.0452\n",
      "epoch: 5710, loss = 0.0451\n",
      "epoch: 5720, loss = 0.0451\n",
      "epoch: 5730, loss = 0.0451\n",
      "epoch: 5740, loss = 0.0451\n",
      "epoch: 5750, loss = 0.0451\n",
      "epoch: 5760, loss = 0.0450\n",
      "epoch: 5770, loss = 0.0450\n",
      "epoch: 5780, loss = 0.0450\n",
      "epoch: 5790, loss = 0.0450\n",
      "epoch: 5800, loss = 0.0450\n",
      "epoch: 5810, loss = 0.0449\n",
      "epoch: 5820, loss = 0.0449\n",
      "epoch: 5830, loss = 0.0449\n",
      "epoch: 5840, loss = 0.0449\n",
      "epoch: 5850, loss = 0.0449\n",
      "epoch: 5860, loss = 0.0448\n",
      "epoch: 5870, loss = 0.0448\n",
      "epoch: 5880, loss = 0.0448\n",
      "epoch: 5890, loss = 0.0448\n",
      "epoch: 5900, loss = 0.0448\n",
      "epoch: 5910, loss = 0.0447\n",
      "epoch: 5920, loss = 0.0447\n",
      "epoch: 5930, loss = 0.0447\n",
      "epoch: 5940, loss = 0.0447\n",
      "epoch: 5950, loss = 0.0447\n",
      "epoch: 5960, loss = 0.0447\n",
      "epoch: 5970, loss = 0.0446\n",
      "epoch: 5980, loss = 0.0446\n",
      "epoch: 5990, loss = 0.0446\n",
      "epoch: 6000, loss = 0.0446\n",
      "epoch: 6010, loss = 0.0446\n",
      "epoch: 6020, loss = 0.0445\n",
      "epoch: 6030, loss = 0.0445\n",
      "epoch: 6040, loss = 0.0445\n",
      "epoch: 6050, loss = 0.0445\n",
      "epoch: 6060, loss = 0.0445\n",
      "epoch: 6070, loss = 0.0444\n",
      "epoch: 6080, loss = 0.0444\n",
      "epoch: 6090, loss = 0.0444\n",
      "epoch: 6100, loss = 0.0444\n",
      "epoch: 6110, loss = 0.0444\n",
      "epoch: 6120, loss = 0.0444\n",
      "epoch: 6130, loss = 0.0443\n",
      "epoch: 6140, loss = 0.0443\n",
      "epoch: 6150, loss = 0.0443\n",
      "epoch: 6160, loss = 0.0443\n",
      "epoch: 6170, loss = 0.0443\n",
      "epoch: 6180, loss = 0.0442\n",
      "epoch: 6190, loss = 0.0442\n",
      "epoch: 6200, loss = 0.0442\n",
      "epoch: 6210, loss = 0.0442\n",
      "epoch: 6220, loss = 0.0442\n",
      "epoch: 6230, loss = 0.0442\n",
      "epoch: 6240, loss = 0.0441\n",
      "epoch: 6250, loss = 0.0441\n",
      "epoch: 6260, loss = 0.0441\n",
      "epoch: 6270, loss = 0.0441\n",
      "epoch: 6280, loss = 0.0441\n",
      "epoch: 6290, loss = 0.0441\n",
      "epoch: 6300, loss = 0.0440\n",
      "epoch: 6310, loss = 0.0440\n",
      "epoch: 6320, loss = 0.0440\n",
      "epoch: 6330, loss = 0.0440\n",
      "epoch: 6340, loss = 0.0440\n",
      "epoch: 6350, loss = 0.0439\n",
      "epoch: 6360, loss = 0.0439\n",
      "epoch: 6370, loss = 0.0439\n",
      "epoch: 6380, loss = 0.0439\n"
     ]
    },
    {
     "name": "stdout",
     "output_type": "stream",
     "text": [
      "epoch: 6390, loss = 0.0439\n",
      "epoch: 6400, loss = 0.0439\n",
      "epoch: 6410, loss = 0.0438\n",
      "epoch: 6420, loss = 0.0438\n",
      "epoch: 6430, loss = 0.0438\n",
      "epoch: 6440, loss = 0.0438\n",
      "epoch: 6450, loss = 0.0438\n",
      "epoch: 6460, loss = 0.0438\n",
      "epoch: 6470, loss = 0.0437\n",
      "epoch: 6480, loss = 0.0437\n",
      "epoch: 6490, loss = 0.0437\n",
      "epoch: 6500, loss = 0.0437\n",
      "epoch: 6510, loss = 0.0437\n",
      "epoch: 6520, loss = 0.0437\n",
      "epoch: 6530, loss = 0.0436\n",
      "epoch: 6540, loss = 0.0436\n",
      "epoch: 6550, loss = 0.0436\n",
      "epoch: 6560, loss = 0.0436\n",
      "epoch: 6570, loss = 0.0436\n",
      "epoch: 6580, loss = 0.0435\n",
      "epoch: 6590, loss = 0.0435\n",
      "epoch: 6600, loss = 0.0435\n",
      "epoch: 6610, loss = 0.0435\n",
      "epoch: 6620, loss = 0.0435\n",
      "epoch: 6630, loss = 0.0435\n",
      "epoch: 6640, loss = 0.0434\n",
      "epoch: 6650, loss = 0.0434\n",
      "epoch: 6660, loss = 0.0434\n",
      "epoch: 6670, loss = 0.0434\n",
      "epoch: 6680, loss = 0.0434\n",
      "epoch: 6690, loss = 0.0434\n",
      "epoch: 6700, loss = 0.0433\n",
      "epoch: 6710, loss = 0.0433\n",
      "epoch: 6720, loss = 0.0433\n",
      "epoch: 6730, loss = 0.0433\n",
      "epoch: 6740, loss = 0.0433\n",
      "epoch: 6750, loss = 0.0433\n",
      "epoch: 6760, loss = 0.0433\n",
      "epoch: 6770, loss = 0.0432\n",
      "epoch: 6780, loss = 0.0432\n",
      "epoch: 6790, loss = 0.0432\n",
      "epoch: 6800, loss = 0.0432\n",
      "epoch: 6810, loss = 0.0432\n",
      "epoch: 6820, loss = 0.0432\n",
      "epoch: 6830, loss = 0.0431\n",
      "epoch: 6840, loss = 0.0431\n",
      "epoch: 6850, loss = 0.0431\n",
      "epoch: 6860, loss = 0.0431\n",
      "epoch: 6870, loss = 0.0431\n",
      "epoch: 6880, loss = 0.0431\n",
      "epoch: 6890, loss = 0.0430\n",
      "epoch: 6900, loss = 0.0430\n",
      "epoch: 6910, loss = 0.0430\n",
      "epoch: 6920, loss = 0.0430\n",
      "epoch: 6930, loss = 0.0430\n",
      "epoch: 6940, loss = 0.0430\n",
      "epoch: 6950, loss = 0.0429\n",
      "epoch: 6960, loss = 0.0429\n",
      "epoch: 6970, loss = 0.0429\n",
      "epoch: 6980, loss = 0.0429\n",
      "epoch: 6990, loss = 0.0429\n",
      "epoch: 7000, loss = 0.0429\n",
      "epoch: 7010, loss = 0.0429\n",
      "epoch: 7020, loss = 0.0428\n",
      "epoch: 7030, loss = 0.0428\n",
      "epoch: 7040, loss = 0.0428\n",
      "epoch: 7050, loss = 0.0428\n",
      "epoch: 7060, loss = 0.0428\n",
      "epoch: 7070, loss = 0.0428\n",
      "epoch: 7080, loss = 0.0427\n",
      "epoch: 7090, loss = 0.0427\n",
      "epoch: 7100, loss = 0.0427\n",
      "epoch: 7110, loss = 0.0427\n",
      "epoch: 7120, loss = 0.0427\n",
      "epoch: 7130, loss = 0.0427\n",
      "epoch: 7140, loss = 0.0426\n",
      "epoch: 7150, loss = 0.0426\n",
      "epoch: 7160, loss = 0.0426\n",
      "epoch: 7170, loss = 0.0426\n",
      "epoch: 7180, loss = 0.0426\n",
      "epoch: 7190, loss = 0.0426\n",
      "epoch: 7200, loss = 0.0426\n",
      "epoch: 7210, loss = 0.0425\n",
      "epoch: 7220, loss = 0.0425\n",
      "epoch: 7230, loss = 0.0425\n",
      "epoch: 7240, loss = 0.0425\n",
      "epoch: 7250, loss = 0.0425\n",
      "epoch: 7260, loss = 0.0425\n",
      "epoch: 7270, loss = 0.0425\n",
      "epoch: 7280, loss = 0.0424\n",
      "epoch: 7290, loss = 0.0424\n",
      "epoch: 7300, loss = 0.0424\n",
      "epoch: 7310, loss = 0.0424\n",
      "epoch: 7320, loss = 0.0424\n",
      "epoch: 7330, loss = 0.0424\n",
      "epoch: 7340, loss = 0.0423\n",
      "epoch: 7350, loss = 0.0423\n",
      "epoch: 7360, loss = 0.0423\n",
      "epoch: 7370, loss = 0.0423\n",
      "epoch: 7380, loss = 0.0423\n",
      "epoch: 7390, loss = 0.0423\n",
      "epoch: 7400, loss = 0.0423\n",
      "epoch: 7410, loss = 0.0422\n",
      "epoch: 7420, loss = 0.0422\n",
      "epoch: 7430, loss = 0.0422\n",
      "epoch: 7440, loss = 0.0422\n",
      "epoch: 7450, loss = 0.0422\n",
      "epoch: 7460, loss = 0.0422\n",
      "epoch: 7470, loss = 0.0422\n",
      "epoch: 7480, loss = 0.0421\n",
      "epoch: 7490, loss = 0.0421\n",
      "epoch: 7500, loss = 0.0421\n",
      "epoch: 7510, loss = 0.0421\n",
      "epoch: 7520, loss = 0.0421\n",
      "epoch: 7530, loss = 0.0421\n",
      "epoch: 7540, loss = 0.0421\n",
      "epoch: 7550, loss = 0.0420\n",
      "epoch: 7560, loss = 0.0420\n",
      "epoch: 7570, loss = 0.0420\n",
      "epoch: 7580, loss = 0.0420\n",
      "epoch: 7590, loss = 0.0420\n",
      "epoch: 7600, loss = 0.0420\n",
      "epoch: 7610, loss = 0.0420\n",
      "epoch: 7620, loss = 0.0419\n",
      "epoch: 7630, loss = 0.0419\n",
      "epoch: 7640, loss = 0.0419\n",
      "epoch: 7650, loss = 0.0419\n",
      "epoch: 7660, loss = 0.0419\n",
      "epoch: 7670, loss = 0.0419\n",
      "epoch: 7680, loss = 0.0419\n",
      "epoch: 7690, loss = 0.0418\n",
      "epoch: 7700, loss = 0.0418\n",
      "epoch: 7710, loss = 0.0418\n",
      "epoch: 7720, loss = 0.0418\n",
      "epoch: 7730, loss = 0.0418\n",
      "epoch: 7740, loss = 0.0418\n",
      "epoch: 7750, loss = 0.0418\n",
      "epoch: 7760, loss = 0.0417\n",
      "epoch: 7770, loss = 0.0417\n",
      "epoch: 7780, loss = 0.0417\n",
      "epoch: 7790, loss = 0.0417\n",
      "epoch: 7800, loss = 0.0417\n",
      "epoch: 7810, loss = 0.0417\n",
      "epoch: 7820, loss = 0.0417\n",
      "epoch: 7830, loss = 0.0416\n",
      "epoch: 7840, loss = 0.0416\n",
      "epoch: 7850, loss = 0.0416\n",
      "epoch: 7860, loss = 0.0416\n",
      "epoch: 7870, loss = 0.0416\n",
      "epoch: 7880, loss = 0.0416\n",
      "epoch: 7890, loss = 0.0416\n",
      "epoch: 7900, loss = 0.0416\n",
      "epoch: 7910, loss = 0.0415\n",
      "epoch: 7920, loss = 0.0415\n",
      "epoch: 7930, loss = 0.0415\n",
      "epoch: 7940, loss = 0.0415\n",
      "epoch: 7950, loss = 0.0415\n",
      "epoch: 7960, loss = 0.0415\n",
      "epoch: 7970, loss = 0.0415\n",
      "epoch: 7980, loss = 0.0414\n",
      "epoch: 7990, loss = 0.0414\n",
      "epoch: 8000, loss = 0.0414\n",
      "epoch: 8010, loss = 0.0414\n",
      "epoch: 8020, loss = 0.0414\n",
      "epoch: 8030, loss = 0.0414\n",
      "epoch: 8040, loss = 0.0414\n",
      "epoch: 8050, loss = 0.0414\n",
      "epoch: 8060, loss = 0.0413\n",
      "epoch: 8070, loss = 0.0413\n",
      "epoch: 8080, loss = 0.0413\n",
      "epoch: 8090, loss = 0.0413\n",
      "epoch: 8100, loss = 0.0413\n",
      "epoch: 8110, loss = 0.0413\n",
      "epoch: 8120, loss = 0.0413\n",
      "epoch: 8130, loss = 0.0412\n",
      "epoch: 8140, loss = 0.0412\n",
      "epoch: 8150, loss = 0.0412\n",
      "epoch: 8160, loss = 0.0412\n",
      "epoch: 8170, loss = 0.0412\n",
      "epoch: 8180, loss = 0.0412\n",
      "epoch: 8190, loss = 0.0412\n",
      "epoch: 8200, loss = 0.0412\n",
      "epoch: 8210, loss = 0.0411\n",
      "epoch: 8220, loss = 0.0411\n",
      "epoch: 8230, loss = 0.0411\n",
      "epoch: 8240, loss = 0.0411\n",
      "epoch: 8250, loss = 0.0411\n",
      "epoch: 8260, loss = 0.0411\n",
      "epoch: 8270, loss = 0.0411\n",
      "epoch: 8280, loss = 0.0410\n",
      "epoch: 8290, loss = 0.0410\n",
      "epoch: 8300, loss = 0.0410\n",
      "epoch: 8310, loss = 0.0410\n",
      "epoch: 8320, loss = 0.0410\n",
      "epoch: 8330, loss = 0.0410\n",
      "epoch: 8340, loss = 0.0410\n",
      "epoch: 8350, loss = 0.0410\n",
      "epoch: 8360, loss = 0.0409\n",
      "epoch: 8370, loss = 0.0409\n",
      "epoch: 8380, loss = 0.0409\n",
      "epoch: 8390, loss = 0.0409\n",
      "epoch: 8400, loss = 0.0409\n",
      "epoch: 8410, loss = 0.0409\n",
      "epoch: 8420, loss = 0.0409\n",
      "epoch: 8430, loss = 0.0409\n",
      "epoch: 8440, loss = 0.0408\n",
      "epoch: 8450, loss = 0.0408\n",
      "epoch: 8460, loss = 0.0408\n",
      "epoch: 8470, loss = 0.0408\n",
      "epoch: 8480, loss = 0.0408\n",
      "epoch: 8490, loss = 0.0408\n",
      "epoch: 8500, loss = 0.0408\n",
      "epoch: 8510, loss = 0.0408\n",
      "epoch: 8520, loss = 0.0407\n",
      "epoch: 8530, loss = 0.0407\n",
      "epoch: 8540, loss = 0.0407\n",
      "epoch: 8550, loss = 0.0407\n",
      "epoch: 8560, loss = 0.0407\n",
      "epoch: 8570, loss = 0.0407\n",
      "epoch: 8580, loss = 0.0407\n",
      "epoch: 8590, loss = 0.0407\n",
      "epoch: 8600, loss = 0.0406\n",
      "epoch: 8610, loss = 0.0406\n",
      "epoch: 8620, loss = 0.0406\n",
      "epoch: 8630, loss = 0.0406\n",
      "epoch: 8640, loss = 0.0406\n",
      "epoch: 8650, loss = 0.0406\n",
      "epoch: 8660, loss = 0.0406\n",
      "epoch: 8670, loss = 0.0406\n",
      "epoch: 8680, loss = 0.0405\n",
      "epoch: 8690, loss = 0.0405\n",
      "epoch: 8700, loss = 0.0405\n",
      "epoch: 8710, loss = 0.0405\n",
      "epoch: 8720, loss = 0.0405\n",
      "epoch: 8730, loss = 0.0405\n",
      "epoch: 8740, loss = 0.0405\n",
      "epoch: 8750, loss = 0.0405\n",
      "epoch: 8760, loss = 0.0405\n",
      "epoch: 8770, loss = 0.0404\n",
      "epoch: 8780, loss = 0.0404\n",
      "epoch: 8790, loss = 0.0404\n",
      "epoch: 8800, loss = 0.0404\n",
      "epoch: 8810, loss = 0.0404\n",
      "epoch: 8820, loss = 0.0404\n",
      "epoch: 8830, loss = 0.0404\n",
      "epoch: 8840, loss = 0.0404\n",
      "epoch: 8850, loss = 0.0403\n",
      "epoch: 8860, loss = 0.0403\n",
      "epoch: 8870, loss = 0.0403\n",
      "epoch: 8880, loss = 0.0403\n",
      "epoch: 8890, loss = 0.0403\n",
      "epoch: 8900, loss = 0.0403\n",
      "epoch: 8910, loss = 0.0403\n",
      "epoch: 8920, loss = 0.0403\n",
      "epoch: 8930, loss = 0.0403\n",
      "epoch: 8940, loss = 0.0402\n",
      "epoch: 8950, loss = 0.0402\n",
      "epoch: 8960, loss = 0.0402\n",
      "epoch: 8970, loss = 0.0402\n",
      "epoch: 8980, loss = 0.0402\n",
      "epoch: 8990, loss = 0.0402\n",
      "epoch: 9000, loss = 0.0402\n",
      "epoch: 9010, loss = 0.0402\n",
      "epoch: 9020, loss = 0.0401\n",
      "epoch: 9030, loss = 0.0401\n",
      "epoch: 9040, loss = 0.0401\n",
      "epoch: 9050, loss = 0.0401\n",
      "epoch: 9060, loss = 0.0401\n",
      "epoch: 9070, loss = 0.0401\n",
      "epoch: 9080, loss = 0.0401\n",
      "epoch: 9090, loss = 0.0401\n",
      "epoch: 9100, loss = 0.0401\n",
      "epoch: 9110, loss = 0.0400\n",
      "epoch: 9120, loss = 0.0400\n",
      "epoch: 9130, loss = 0.0400\n",
      "epoch: 9140, loss = 0.0400\n",
      "epoch: 9150, loss = 0.0400\n",
      "epoch: 9160, loss = 0.0400\n",
      "epoch: 9170, loss = 0.0400\n",
      "epoch: 9180, loss = 0.0400\n",
      "epoch: 9190, loss = 0.0400\n",
      "epoch: 9200, loss = 0.0399\n",
      "epoch: 9210, loss = 0.0399\n",
      "epoch: 9220, loss = 0.0399\n",
      "epoch: 9230, loss = 0.0399\n",
      "epoch: 9240, loss = 0.0399\n",
      "epoch: 9250, loss = 0.0399\n",
      "epoch: 9260, loss = 0.0399\n",
      "epoch: 9270, loss = 0.0399\n",
      "epoch: 9280, loss = 0.0398\n",
      "epoch: 9290, loss = 0.0398\n",
      "epoch: 9300, loss = 0.0398\n",
      "epoch: 9310, loss = 0.0398\n",
      "epoch: 9320, loss = 0.0398\n",
      "epoch: 9330, loss = 0.0398\n",
      "epoch: 9340, loss = 0.0398\n",
      "epoch: 9350, loss = 0.0398\n",
      "epoch: 9360, loss = 0.0398\n",
      "epoch: 9370, loss = 0.0397\n",
      "epoch: 9380, loss = 0.0397\n",
      "epoch: 9390, loss = 0.0397\n",
      "epoch: 9400, loss = 0.0397\n",
      "epoch: 9410, loss = 0.0397\n",
      "epoch: 9420, loss = 0.0397\n",
      "epoch: 9430, loss = 0.0397\n",
      "epoch: 9440, loss = 0.0397\n",
      "epoch: 9450, loss = 0.0397\n",
      "epoch: 9460, loss = 0.0397\n",
      "epoch: 9470, loss = 0.0396\n",
      "epoch: 9480, loss = 0.0396\n",
      "epoch: 9490, loss = 0.0396\n",
      "epoch: 9500, loss = 0.0396\n",
      "epoch: 9510, loss = 0.0396\n",
      "epoch: 9520, loss = 0.0396\n",
      "epoch: 9530, loss = 0.0396\n",
      "epoch: 9540, loss = 0.0396\n",
      "epoch: 9550, loss = 0.0396\n",
      "epoch: 9560, loss = 0.0395\n",
      "epoch: 9570, loss = 0.0395\n"
     ]
    },
    {
     "name": "stdout",
     "output_type": "stream",
     "text": [
      "epoch: 9580, loss = 0.0395\n",
      "epoch: 9590, loss = 0.0395\n",
      "epoch: 9600, loss = 0.0395\n",
      "epoch: 9610, loss = 0.0395\n",
      "epoch: 9620, loss = 0.0395\n",
      "epoch: 9630, loss = 0.0395\n",
      "epoch: 9640, loss = 0.0395\n",
      "epoch: 9650, loss = 0.0394\n",
      "epoch: 9660, loss = 0.0394\n",
      "epoch: 9670, loss = 0.0394\n",
      "epoch: 9680, loss = 0.0394\n",
      "epoch: 9690, loss = 0.0394\n",
      "epoch: 9700, loss = 0.0394\n",
      "epoch: 9710, loss = 0.0394\n",
      "epoch: 9720, loss = 0.0394\n",
      "epoch: 9730, loss = 0.0394\n",
      "epoch: 9740, loss = 0.0393\n",
      "epoch: 9750, loss = 0.0393\n",
      "epoch: 9760, loss = 0.0393\n",
      "epoch: 9770, loss = 0.0393\n",
      "epoch: 9780, loss = 0.0393\n",
      "epoch: 9790, loss = 0.0393\n",
      "epoch: 9800, loss = 0.0393\n",
      "epoch: 9810, loss = 0.0393\n",
      "epoch: 9820, loss = 0.0393\n",
      "epoch: 9830, loss = 0.0393\n",
      "epoch: 9840, loss = 0.0392\n",
      "epoch: 9850, loss = 0.0392\n",
      "epoch: 9860, loss = 0.0392\n",
      "epoch: 9870, loss = 0.0392\n",
      "epoch: 9880, loss = 0.0392\n",
      "epoch: 9890, loss = 0.0392\n",
      "epoch: 9900, loss = 0.0392\n",
      "epoch: 9910, loss = 0.0392\n",
      "epoch: 9920, loss = 0.0392\n",
      "epoch: 9930, loss = 0.0392\n",
      "epoch: 9940, loss = 0.0391\n",
      "epoch: 9950, loss = 0.0391\n",
      "epoch: 9960, loss = 0.0391\n",
      "epoch: 9970, loss = 0.0391\n",
      "epoch: 9980, loss = 0.0391\n",
      "epoch: 9990, loss = 0.0391\n",
      "epoch: 10000, loss = 0.0391\n",
      "accuracy: 0.9561\n"
     ]
    }
   ],
   "source": [
    "# 3) Training loop\n",
    "for epoch in range(num_epochs):\n",
    "    # Forward pass and loss\n",
    "    y_pred = model(X_train)\n",
    "    loss = criterion(y_pred, y_train)\n",
    "\n",
    "    # Backward pass and update\n",
    "    loss.backward()\n",
    "    optimizer.step()\n",
    "\n",
    "    # zero grad before new step\n",
    "    optimizer.zero_grad()\n",
    "\n",
    "    if (epoch+1) % 10 == 0:\n",
    "        print(f'epoch: {epoch+1}, loss = {loss.item():.4f}')\n",
    "\n",
    "\n",
    "y_predicted = model(X_test)\n",
    "y_predicted_cls = y_predicted.round()\n",
    "acc = y_predicted_cls.eq(y_test).sum() / float(y_test.shape[0])\n",
    "print(f'accuracy: {acc.item():.4f}')"
   ]
  },
  {
   "cell_type": "markdown",
   "metadata": {},
   "source": [
    "## Dataset and Data Loader"
   ]
  },
  {
   "cell_type": "code",
   "execution_count": 33,
   "metadata": {
    "ExecuteTime": {
     "end_time": "2022-03-23T12:15:14.565430Z",
     "start_time": "2022-03-23T12:15:14.558450Z"
    }
   },
   "outputs": [],
   "source": [
    "import torch\n",
    "import torchvision\n",
    "from torch.utils.data import Dataset, DataLoader\n",
    "import numpy as np\n",
    "import math\n",
    "import pandas as pd"
   ]
  },
  {
   "cell_type": "code",
   "execution_count": 57,
   "metadata": {
    "ExecuteTime": {
     "end_time": "2022-03-23T12:20:29.018845Z",
     "start_time": "2022-03-23T12:20:29.007874Z"
    }
   },
   "outputs": [],
   "source": [
    "# gradient computation etc. not efficient for whole data set\n",
    "# -> divide dataset into small batches\n",
    "\n",
    "'''\n",
    "# training loop\n",
    "for epoch in range(num_epochs):\n",
    "    # loop over all batches\n",
    "    for i in range(total_batches):\n",
    "        batch_x, batch_y = ...\n",
    "'''\n",
    "\n",
    "# epoch = one forward and backward pass of ALL training samples\n",
    "# batch_size = number of training samples used in one forward/backward pass\n",
    "# number of iterations = number of passes, each pass (forward+backward) using [batch_size] number of sampes\n",
    "# e.g : 100 samples, batch_size=20 -> 100/20=5 iterations for 1 epoch\n",
    "\n",
    "# --> DataLoader can do the batch computation for us\n",
    "\n",
    "# Implement a custom Dataset:\n",
    "# inherit Dataset\n",
    "# implement __init__ , __getitem__ , and __len__\n",
    "\n",
    "class WineDataset(Dataset):\n",
    "\n",
    "    def __init__(self):\n",
    "        # Initialize data, download, etc.\n",
    "        # read with numpy or pandas\n",
    "        xy = pd.read_table('wine.TXT', delimiter=',', dtype=np.float32)\n",
    "        self.n_samples = xy.shape[0]\n",
    "\n",
    "        # here the first column is the class label, the rest are the features\n",
    "        self.x_data = torch.from_numpy(xy.iloc[:,1:].to_numpy()) # size [n_samples, n_features]\n",
    "        self.y_data = torch.from_numpy(xy['Wine'].to_numpy()) # size [n_samples, 1]\n",
    "\n",
    "    # support indexing such that dataset[i] can be used to get i-th sample\n",
    "    def __getitem__(self, index):\n",
    "        return self.x_data[index], self.y_data[index]\n",
    "\n",
    "    # we can call len(dataset) to return the size\n",
    "    def __len__(self):\n",
    "        return self.n_samples"
   ]
  },
  {
   "cell_type": "code",
   "execution_count": 60,
   "metadata": {
    "ExecuteTime": {
     "end_time": "2022-03-23T12:21:12.728202Z",
     "start_time": "2022-03-23T12:21:12.712245Z"
    }
   },
   "outputs": [
    {
     "data": {
      "text/plain": [
       "178"
      ]
     },
     "execution_count": 60,
     "metadata": {},
     "output_type": "execute_result"
    }
   ],
   "source": [
    "len(dataset)"
   ]
  },
  {
   "cell_type": "code",
   "execution_count": 58,
   "metadata": {
    "ExecuteTime": {
     "end_time": "2022-03-23T12:20:52.959019Z",
     "start_time": "2022-03-23T12:20:52.940069Z"
    }
   },
   "outputs": [],
   "source": [
    "dataset = WineDataset()"
   ]
  },
  {
   "cell_type": "code",
   "execution_count": 23,
   "metadata": {
    "ExecuteTime": {
     "end_time": "2022-03-23T12:08:17.572288Z",
     "start_time": "2022-03-23T12:08:17.550346Z"
    }
   },
   "outputs": [
    {
     "name": "stdout",
     "output_type": "stream",
     "text": [
      "tensor([1.4230e+01, 1.7100e+00, 2.4300e+00, 1.5600e+01, 1.2700e+02, 2.8000e+00,\n",
      "        3.0600e+00, 2.8000e-01, 2.2900e+00, 5.6400e+00, 1.0400e+00, 3.9200e+00,\n",
      "        1.0650e+03]) tensor([1.])\n"
     ]
    }
   ],
   "source": [
    "# get first sample and unpack\n",
    "first_data = dataset[0]\n",
    "features, labels = first_data\n",
    "print(features, labels)"
   ]
  },
  {
   "cell_type": "code",
   "execution_count": 77,
   "metadata": {
    "ExecuteTime": {
     "end_time": "2022-03-23T13:31:02.151500Z",
     "start_time": "2022-03-23T13:31:02.142525Z"
    }
   },
   "outputs": [],
   "source": [
    "# Load whole dataset with DataLoader\n",
    "# shuffle: shuffle data, good for training\n",
    "# num_workers: faster loading with multiple subprocesses\n",
    "# !!! IF YOU GET AN ERROR DURING LOADING, SET num_workers TO 0 !!!\n",
    "train_loader = DataLoader(dataset=dataset,\n",
    "                          batch_size=4,\n",
    "                          shuffle=True,\n",
    "                          num_workers=0)"
   ]
  },
  {
   "cell_type": "code",
   "execution_count": 80,
   "metadata": {
    "ExecuteTime": {
     "end_time": "2022-03-23T13:31:11.704653Z",
     "start_time": "2022-03-23T13:31:11.699667Z"
    }
   },
   "outputs": [
    {
     "data": {
      "text/plain": [
       "torch.Size([4, 13])"
      ]
     },
     "execution_count": 80,
     "metadata": {},
     "output_type": "execute_result"
    }
   ],
   "source": [
    "features.shape"
   ]
  },
  {
   "cell_type": "code",
   "execution_count": 81,
   "metadata": {
    "ExecuteTime": {
     "end_time": "2022-03-23T13:31:32.213210Z",
     "start_time": "2022-03-23T13:31:32.200246Z"
    }
   },
   "outputs": [
    {
     "name": "stdout",
     "output_type": "stream",
     "text": [
      "tensor([[1.3720e+01, 1.4300e+00, 2.5000e+00, 1.6700e+01, 1.0800e+02, 3.4000e+00,\n",
      "         3.6700e+00, 1.9000e-01, 2.0400e+00, 6.8000e+00, 8.9000e-01, 2.8700e+00,\n",
      "         1.2850e+03],\n",
      "        [1.2250e+01, 1.7300e+00, 2.1200e+00, 1.9000e+01, 8.0000e+01, 1.6500e+00,\n",
      "         2.0300e+00, 3.7000e-01, 1.6300e+00, 3.4000e+00, 1.0000e+00, 3.1700e+00,\n",
      "         5.1000e+02],\n",
      "        [1.1460e+01, 3.7400e+00, 1.8200e+00, 1.9500e+01, 1.0700e+02, 3.1800e+00,\n",
      "         2.5800e+00, 2.4000e-01, 3.5800e+00, 2.9000e+00, 7.5000e-01, 2.8100e+00,\n",
      "         5.6200e+02],\n",
      "        [1.3240e+01, 2.5900e+00, 2.8700e+00, 2.1000e+01, 1.1800e+02, 2.8000e+00,\n",
      "         2.6900e+00, 3.9000e-01, 1.8200e+00, 4.3200e+00, 1.0400e+00, 2.9300e+00,\n",
      "         7.3500e+02]]) tensor([1., 2., 2., 1.])\n",
      "178 45\n"
     ]
    }
   ],
   "source": [
    "# convert to an iterator and look at one random sample\n",
    "dataiter = iter(train_loader)\n",
    "data = dataiter.next()\n",
    "features, labels = data\n",
    "print(features, labels)\n",
    "\n",
    "# Dummy Training loop\n",
    "num_epochs = 2\n",
    "total_samples = len(dataset)\n",
    "n_iterations = math.ceil(total_samples/4)\n",
    "print(total_samples, n_iterations)"
   ]
  },
  {
   "cell_type": "code",
   "execution_count": 82,
   "metadata": {
    "ExecuteTime": {
     "end_time": "2022-03-23T13:31:32.759368Z",
     "start_time": "2022-03-23T13:31:32.696512Z"
    }
   },
   "outputs": [
    {
     "name": "stdout",
     "output_type": "stream",
     "text": [
      "Epoch: 1/2, Step 5/45| Inputs torch.Size([3, 1, 28, 28]) | Labels torch.Size([4])\n",
      "Epoch: 1/2, Step 10/45| Inputs torch.Size([3, 1, 28, 28]) | Labels torch.Size([4])\n",
      "Epoch: 1/2, Step 15/45| Inputs torch.Size([3, 1, 28, 28]) | Labels torch.Size([4])\n",
      "Epoch: 1/2, Step 20/45| Inputs torch.Size([3, 1, 28, 28]) | Labels torch.Size([4])\n",
      "Epoch: 1/2, Step 25/45| Inputs torch.Size([3, 1, 28, 28]) | Labels torch.Size([4])\n",
      "Epoch: 1/2, Step 30/45| Inputs torch.Size([3, 1, 28, 28]) | Labels torch.Size([4])\n",
      "Epoch: 1/2, Step 35/45| Inputs torch.Size([3, 1, 28, 28]) | Labels torch.Size([4])\n",
      "Epoch: 1/2, Step 40/45| Inputs torch.Size([3, 1, 28, 28]) | Labels torch.Size([4])\n",
      "Epoch: 1/2, Step 45/45| Inputs torch.Size([3, 1, 28, 28]) | Labels torch.Size([2])\n",
      "Epoch: 2/2, Step 5/45| Inputs torch.Size([3, 1, 28, 28]) | Labels torch.Size([4])\n",
      "Epoch: 2/2, Step 10/45| Inputs torch.Size([3, 1, 28, 28]) | Labels torch.Size([4])\n",
      "Epoch: 2/2, Step 15/45| Inputs torch.Size([3, 1, 28, 28]) | Labels torch.Size([4])\n",
      "Epoch: 2/2, Step 20/45| Inputs torch.Size([3, 1, 28, 28]) | Labels torch.Size([4])\n",
      "Epoch: 2/2, Step 25/45| Inputs torch.Size([3, 1, 28, 28]) | Labels torch.Size([4])\n",
      "Epoch: 2/2, Step 30/45| Inputs torch.Size([3, 1, 28, 28]) | Labels torch.Size([4])\n",
      "Epoch: 2/2, Step 35/45| Inputs torch.Size([3, 1, 28, 28]) | Labels torch.Size([4])\n",
      "Epoch: 2/2, Step 40/45| Inputs torch.Size([3, 1, 28, 28]) | Labels torch.Size([4])\n",
      "Epoch: 2/2, Step 45/45| Inputs torch.Size([3, 1, 28, 28]) | Labels torch.Size([2])\n",
      "torch.Size([3, 1, 28, 28]) torch.Size([3])\n"
     ]
    }
   ],
   "source": [
    "for epoch in range(num_epochs):\n",
    "    for i,(features, labels) in enumerate(train_loader):\n",
    "        #print(i, (features, labels))\n",
    "        # here: 178 samples, batch_size = 4, n_iters=178/4=44.5 -> 45 iterations\n",
    "        # Run your training process\n",
    "        if (i+1) % 5 == 0:\n",
    "            print(f'Epoch: {epoch+1}/{num_epochs}, Step {i+1}/{n_iterations}| Inputs {inputs.shape} | Labels {labels.shape}')\n",
    "\n",
    "# some famous datasets are available in torchvision.datasets\n",
    "# e.g. MNIST, Fashion-MNIST, CIFAR10, COCO\n",
    "\n",
    "train_dataset = torchvision.datasets.MNIST(root='./data', \n",
    "                                           train=True, \n",
    "                                           transform=torchvision.transforms.ToTensor(),  \n",
    "                                           download=True)\n",
    "\n",
    "train_loader = DataLoader(dataset=train_dataset, \n",
    "                                           batch_size=3, \n",
    "                                           shuffle=True)\n",
    "\n",
    "# look at one random sample\n",
    "dataiter = iter(train_loader)\n",
    "data = dataiter.next()\n",
    "inputs, targets = data\n",
    "print(inputs.shape, targets.shape)"
   ]
  },
  {
   "cell_type": "code",
   "execution_count": 64,
   "metadata": {
    "ExecuteTime": {
     "end_time": "2022-03-23T13:26:04.993599Z",
     "start_time": "2022-03-23T13:26:04.978640Z"
    }
   },
   "outputs": [
    {
     "data": {
      "text/plain": [
       "<enumerate at 0x1d5035f8680>"
      ]
     },
     "execution_count": 64,
     "metadata": {},
     "output_type": "execute_result"
    }
   ],
   "source": [
    "enumerate(train_loader)"
   ]
  },
  {
   "cell_type": "markdown",
   "metadata": {},
   "source": [
    "## Softmax and cross entropy for multi class classification"
   ]
  },
  {
   "cell_type": "code",
   "execution_count": 1,
   "metadata": {
    "ExecuteTime": {
     "end_time": "2022-03-23T17:57:24.086898Z",
     "start_time": "2022-03-23T17:57:21.566196Z"
    }
   },
   "outputs": [],
   "source": [
    "import torch\n",
    "import torch.nn as nn\n",
    "import numpy as np\n",
    "\n",
    "#\n",
    "#        -> 2.0              -> 0.65  \n",
    "# Linear -> 1.0  -> Softmax  -> 0.25   -> CrossEntropy(y, y_hat)\n",
    "#        -> 0.1              -> 0.1                   \n",
    "#\n",
    "#     scores(logits)      probabilities\n",
    "#                           sum = 1.0\n",
    "#\n",
    "\n",
    "# Softmax applies the exponential function to each element, and normalizes\n",
    "# by dividing by the sum of all these exponentials\n",
    "# -> squashes the output to be between 0 and 1 = probability\n",
    "# sum of all probabilities is 1"
   ]
  },
  {
   "cell_type": "code",
   "execution_count": null,
   "metadata": {},
   "outputs": [],
   "source": [
    "np.exp()"
   ]
  },
  {
   "cell_type": "code",
   "execution_count": 86,
   "metadata": {
    "ExecuteTime": {
     "end_time": "2022-03-23T16:05:19.118994Z",
     "start_time": "2022-03-23T16:05:19.081094Z"
    }
   },
   "outputs": [
    {
     "name": "stdout",
     "output_type": "stream",
     "text": [
      "softmax numpy: [0.65900114 0.24243297 0.09856589]\n",
      "softmax torch: tensor([0.6590, 0.2424, 0.0986])\n"
     ]
    }
   ],
   "source": [
    "def softmax(x):\n",
    "    return np.exp(x) / np.sum(np.exp(x), axis=0)\n",
    "\n",
    "x = np.array([2.0, 1.0, 0.1])\n",
    "outputs = softmax(x)\n",
    "print('softmax numpy:', outputs)\n",
    "\n",
    "x = torch.tensor([2.0, 1.0, 0.1])\n",
    "outputs = torch.softmax(x, dim=0) # along values along first axis\n",
    "print('softmax torch:', outputs)"
   ]
  },
  {
   "cell_type": "code",
   "execution_count": 87,
   "metadata": {
    "ExecuteTime": {
     "end_time": "2022-03-23T16:52:31.387871Z",
     "start_time": "2022-03-23T16:52:31.376903Z"
    }
   },
   "outputs": [],
   "source": [
    "# Cross entropy\n",
    "# Cross-entropy loss, or log loss, measures the performance of a classification model \n",
    "# whose output is a probability value between 0 and 1. \n",
    "# -> loss increases as the predicted probability diverges from the actual label\n",
    "def cross_entropy(actual, predicted):\n",
    "    EPS = 1e-15\n",
    "    predicted = np.clip(predicted, EPS, 1 - EPS)\n",
    "    loss = -np.sum(actual * np.log(predicted))\n",
    "    return loss # / float(predicted.shape[0])"
   ]
  },
  {
   "cell_type": "code",
   "execution_count": null,
   "metadata": {},
   "outputs": [],
   "source": [
    "# y must be one hot encoded\n",
    "# if class 0: [1 0 0]\n",
    "# if class 1: [0 1 0]\n",
    "# if class 2: [0 0 1]\n",
    "Y = np.array([1, 0, 0])\n",
    "Y_pred_good = np.array([0.7, 0.2, 0.1])\n",
    "Y_pred_bad = np.array([0.1, 0.3, 0.6])\n",
    "l1 = cross_entropy(Y, Y_pred_good)\n",
    "l2 = cross_entropy(Y, Y_pred_bad)\n",
    "print(f'Loss1 numpy: {l1:.4f}')\n",
    "print(f'Loss2 numpy: {l2:.4f}')"
   ]
  },
  {
   "cell_type": "code",
   "execution_count": 2,
   "metadata": {
    "ExecuteTime": {
     "end_time": "2022-03-23T17:57:26.448773Z",
     "start_time": "2022-03-23T17:57:26.424837Z"
    }
   },
   "outputs": [
    {
     "name": "stdout",
     "output_type": "stream",
     "text": [
      "PyTorch Loss1: 0.4170\n",
      "PyTorch Loss2: 1.8406\n"
     ]
    }
   ],
   "source": [
    "# CrossEntropyLoss in PyTorch (applies Softmax)\n",
    "# nn.LogSoftmax + nn.NLLLoss\n",
    "# NLLLoss = negative log likelihood loss\n",
    "loss = nn.CrossEntropyLoss()\n",
    "# loss(input, target)\n",
    "\n",
    "# target is of size nSamples = 1\n",
    "# each element has class label: 0, 1, or 2\n",
    "# Y (=target) contains class labels, not one-hot\n",
    "Y = torch.tensor([0])\n",
    "\n",
    "# input is of size nSamples x nClasses = 1 x 3\n",
    "# y_pred (=input) must be raw, unnormalizes scores (logits) for each class, not softmax\n",
    "Y_pred_good = torch.tensor([[2.0, 1.0, 0.1]])\n",
    "Y_pred_bad = torch.tensor([[0.5, 2.0, 0.3]])\n",
    "l1 = loss(Y_pred_good, Y)\n",
    "l2 = loss(Y_pred_bad, Y)\n",
    "\n",
    "print(f'PyTorch Loss1: {l1.item():.4f}')\n",
    "print(f'PyTorch Loss2: {l2.item():.4f}')"
   ]
  },
  {
   "cell_type": "code",
   "execution_count": 3,
   "metadata": {
    "ExecuteTime": {
     "end_time": "2022-03-23T17:57:29.847975Z",
     "start_time": "2022-03-23T17:57:29.839996Z"
    }
   },
   "outputs": [
    {
     "name": "stdout",
     "output_type": "stream",
     "text": [
      "Actual class: 0, Y_pred1: 0, Y_pred2: 1\n"
     ]
    }
   ],
   "source": [
    "# get predictions\n",
    "_, predictions1 = torch.max(Y_pred_good, 1)\n",
    "_, predictions2 = torch.max(Y_pred_bad, 1)\n",
    "print(f'Actual class: {Y.item()}, Y_pred1: {predictions1.item()}, Y_pred2: {predictions2.item()}')"
   ]
  },
  {
   "cell_type": "code",
   "execution_count": 4,
   "metadata": {
    "ExecuteTime": {
     "end_time": "2022-03-23T17:58:22.451306Z",
     "start_time": "2022-03-23T17:58:22.427370Z"
    }
   },
   "outputs": [
    {
     "name": "stdout",
     "output_type": "stream",
     "text": [
      "Batch Loss1:  0.2834\n",
      "Batch Loss2: 1.6418\n",
      "Actual class: tensor([2, 0, 1]), Y_pred1: tensor([2, 0, 1]), Y_pred2: tensor([0, 2, 0])\n"
     ]
    }
   ],
   "source": [
    "# allows batch loss for multiple samples\n",
    "\n",
    "# target is of size nBatch = 3\n",
    "# each element has class label: 0, 1, or 2\n",
    "Y = torch.tensor([2, 0, 1])\n",
    "\n",
    "# input is of size nBatch x nClasses = 3 x 3\n",
    "# Y_pred are logits (not softmax)\n",
    "Y_pred_good = torch.tensor(\n",
    "    [[0.1, 0.2, 3.9], # predict class 2\n",
    "    [1.2, 0.1, 0.3], # predict class 0\n",
    "    [0.3, 2.2, 0.2]]) # predict class 1\n",
    "\n",
    "Y_pred_bad = torch.tensor(\n",
    "    [[0.9, 0.2, 0.1],\n",
    "    [0.1, 0.3, 1.5],\n",
    "    [1.2, 0.2, 0.5]])\n",
    "\n",
    "l1 = loss(Y_pred_good, Y)\n",
    "l2 = loss(Y_pred_bad, Y)\n",
    "print(f'Batch Loss1:  {l1.item():.4f}')\n",
    "print(f'Batch Loss2: {l2.item():.4f}')\n",
    "\n",
    "# get predictions\n",
    "_, predictions1 = torch.max(Y_pred_good, 1)\n",
    "_, predictions2 = torch.max(Y_pred_bad, 1)\n",
    "print(f'Actual class: {Y}, Y_pred1: {predictions1}, Y_pred2: {predictions2}')"
   ]
  },
  {
   "cell_type": "code",
   "execution_count": null,
   "metadata": {},
   "outputs": [],
   "source": [
    "# Binary classification\n",
    "class NeuralNet1(nn.Module):\n",
    "    def __init__(self, input_size, hidden_size):\n",
    "        super(NeuralNet1, self).__init__()\n",
    "        self.linear1 = nn.Linear(input_size, hidden_size) \n",
    "        self.relu = nn.ReLU()\n",
    "        self.linear2 = nn.Linear(hidden_size, 1)  \n",
    "    \n",
    "    def forward(self, x):\n",
    "        out = self.linear1(x)\n",
    "        out = self.relu(out)#activation\n",
    "        out = self.linear2(out)\n",
    "        # sigmoid at the end\n",
    "        y_pred = torch.sigmoid(out)\n",
    "        return y_pred\n",
    "\n",
    "model = NeuralNet1(input_size=28*28, hidden_size=5)\n",
    "criterion = nn.BCELoss()\n",
    "\n",
    "# Multiclass problem\n",
    "class NeuralNet2(nn.Module):\n",
    "    def __init__(self, input_size, hidden_size, num_classes):\n",
    "        super(NeuralNet2, self).__init__()\n",
    "        self.linear1 = nn.Linear(input_size, hidden_size) \n",
    "        self.relu = nn.ReLU()#activation\n",
    "        self.linear2 = nn.Linear(hidden_size, num_classes)  \n",
    "    \n",
    "    def forward(self, x):\n",
    "        out = self.linear1(x)\n",
    "        out = self.relu(out)\n",
    "        out = self.linear2(out)\n",
    "        # no softmax at the end\n",
    "        return out\n",
    "\n",
    "model = NeuralNet2(input_size=28*28, hidden_size=5, num_classes=3)\n",
    "criterion = nn.CrossEntropyLoss()  # (applies Softmax)"
   ]
  },
  {
   "cell_type": "markdown",
   "metadata": {},
   "source": [
    "## Activation function"
   ]
  },
  {
   "cell_type": "code",
   "execution_count": null,
   "metadata": {},
   "outputs": [],
   "source": [
    "import torch\n",
    "import torch.nn as nn\n",
    "import torch.nn.functional as F\n",
    "\n",
    "x = torch.tensor([-1.0, 1.0, 2.0, 3.0])\n",
    "\n",
    "# sofmax\n",
    "output = torch.softmax(x, dim=0)\n",
    "print(output)\n",
    "sm = nn.Softmax(dim=0)\n",
    "output = sm(x)\n",
    "print(output)\n",
    "\n",
    "# sigmoid \n",
    "output = torch.sigmoid(x)\n",
    "print(output)\n",
    "s = nn.Sigmoid()\n",
    "output = s(x)\n",
    "print(output)\n",
    "\n",
    "#tanh\n",
    "output = torch.tanh(x)\n",
    "print(output)\n",
    "t = nn.Tanh()\n",
    "output = t(x)\n",
    "print(output)\n",
    "\n",
    "# relu\n",
    "output = torch.relu(x)\n",
    "print(output)\n",
    "relu = nn.ReLU()\n",
    "output = relu(x)\n",
    "print(output)\n",
    "\n",
    "# leaky relu\n",
    "output = F.leaky_relu(x)\n",
    "print(output)\n",
    "lrelu = nn.LeakyReLU()\n",
    "output = lrelu(x)\n",
    "print(output)\n",
    "\n",
    "#nn.ReLU() creates an nn.Module which you can add e.g. to an nn.Sequential model.\n",
    "#torch.relu on the other side is just the functional API call to the relu function,\n",
    "#so that you can add it e.g. in your forward method yourself."
   ]
  },
  {
   "cell_type": "code",
   "execution_count": null,
   "metadata": {},
   "outputs": [],
   "source": [
    "# option 1 (create nn modules)\n",
    "class NeuralNet(nn.Module):\n",
    "    def __init__(self, input_size, hidden_size):\n",
    "        super(NeuralNet, self).__init__()\n",
    "        self.linear1 = nn.Linear(input_size, hidden_size)\n",
    "        self.relu = nn.ReLU()\n",
    "        self.linear2 = nn.Linear(hidden_size, 1)\n",
    "        self.sigmoid = nn.Sigmoid()\n",
    "    \n",
    "    def forward(self, x):\n",
    "        out = self.linear1(x)\n",
    "        out = self.relu(out)\n",
    "        out = self.linear2(out)\n",
    "        out = self.sigmoid(out)\n",
    "        return out\n",
    "\n",
    "# option 2 (use activation functions directly in forward pass)\n",
    "class NeuralNet(nn.Module):\n",
    "    def __init__(self, input_size, hidden_size):\n",
    "        super(NeuralNet, self).__init__()\n",
    "        self.linear1 = nn.Linear(input_size, hidden_size)\n",
    "        self.linear2 = nn.Linear(hidden_size, 1)\n",
    "    \n",
    "    def forward(self, x):\n",
    "        out = torch.relu(self.linear1(x))\n",
    "        out = torch.sigmoid(self.linear2(out))\n",
    "        return out"
   ]
  },
  {
   "cell_type": "markdown",
   "metadata": {},
   "source": [
    "## Feed forward"
   ]
  },
  {
   "cell_type": "code",
   "execution_count": 1,
   "metadata": {
    "ExecuteTime": {
     "end_time": "2022-03-25T10:42:04.344995Z",
     "start_time": "2022-03-25T10:42:01.228723Z"
    }
   },
   "outputs": [],
   "source": [
    "import torch\n",
    "import torch.nn as nn\n",
    "import torchvision\n",
    "import torchvision.transforms as transforms\n",
    "import matplotlib.pyplot as plt"
   ]
  },
  {
   "cell_type": "code",
   "execution_count": 2,
   "metadata": {
    "ExecuteTime": {
     "end_time": "2022-03-25T10:42:04.392605Z",
     "start_time": "2022-03-25T10:42:04.345992Z"
    }
   },
   "outputs": [],
   "source": [
    "# Device configuration\n",
    "device = torch.device('cuda' if torch.cuda.is_available() else 'cpu')"
   ]
  },
  {
   "cell_type": "code",
   "execution_count": 3,
   "metadata": {
    "ExecuteTime": {
     "end_time": "2022-03-25T10:42:04.704612Z",
     "start_time": "2022-03-25T10:42:04.694638Z"
    }
   },
   "outputs": [
    {
     "data": {
      "text/plain": [
       "device(type='cuda')"
      ]
     },
     "execution_count": 3,
     "metadata": {},
     "output_type": "execute_result"
    }
   ],
   "source": [
    "device"
   ]
  },
  {
   "cell_type": "code",
   "execution_count": 4,
   "metadata": {
    "ExecuteTime": {
     "end_time": "2022-03-25T10:42:05.287719Z",
     "start_time": "2022-03-25T10:42:05.273756Z"
    }
   },
   "outputs": [],
   "source": [
    "# Hyper-parameters \n",
    "input_size = 784 # 28x28\n",
    "hidden_size = 500 \n",
    "num_classes = 10\n",
    "num_epochs = 2\n",
    "batch_size = 100\n",
    "learning_rate = 0.001"
   ]
  },
  {
   "cell_type": "code",
   "execution_count": 5,
   "metadata": {
    "ExecuteTime": {
     "end_time": "2022-03-25T10:42:13.168082Z",
     "start_time": "2022-03-25T10:42:13.090291Z"
    }
   },
   "outputs": [],
   "source": [
    "# MNIST dataset \n",
    "train_dataset = torchvision.datasets.MNIST(root='./data', \n",
    "                                           train=True, \n",
    "                                           transform=transforms.ToTensor(),  \n",
    "                                           download=True)"
   ]
  },
  {
   "cell_type": "code",
   "execution_count": 6,
   "metadata": {
    "ExecuteTime": {
     "end_time": "2022-03-25T10:43:15.436905Z",
     "start_time": "2022-03-25T10:43:15.397013Z"
    }
   },
   "outputs": [],
   "source": [
    "test_dataset = torchvision.datasets.MNIST(root='./data', \n",
    "                                          train=False, \n",
    "                                          transform=transforms.ToTensor())"
   ]
  },
  {
   "cell_type": "code",
   "execution_count": 9,
   "metadata": {
    "ExecuteTime": {
     "end_time": "2022-03-25T10:43:45.105733Z",
     "start_time": "2022-03-25T10:43:45.099751Z"
    }
   },
   "outputs": [
    {
     "data": {
      "text/plain": [
       "Dataset MNIST\n",
       "    Number of datapoints: 60000\n",
       "    Root location: ./data\n",
       "    Split: Train\n",
       "    StandardTransform\n",
       "Transform: ToTensor()"
      ]
     },
     "execution_count": 9,
     "metadata": {},
     "output_type": "execute_result"
    }
   ],
   "source": [
    "train_dataset"
   ]
  },
  {
   "cell_type": "code",
   "execution_count": 10,
   "metadata": {
    "ExecuteTime": {
     "end_time": "2022-03-25T10:43:58.743517Z",
     "start_time": "2022-03-25T10:43:58.736536Z"
    }
   },
   "outputs": [],
   "source": [
    "# Data loader\n",
    "train_loader = torch.utils.data.DataLoader(dataset=train_dataset, \n",
    "                                           batch_size=batch_size, \n",
    "                                           shuffle=True)\n",
    "\n",
    "test_loader = torch.utils.data.DataLoader(dataset=test_dataset, \n",
    "                                          batch_size=batch_size, \n",
    "                                          shuffle=False)"
   ]
  },
  {
   "cell_type": "code",
   "execution_count": 12,
   "metadata": {
    "ExecuteTime": {
     "end_time": "2022-03-25T10:45:14.128766Z",
     "start_time": "2022-03-25T10:45:14.089869Z"
    }
   },
   "outputs": [],
   "source": [
    "examples = iter(test_loader)\n",
    "example_data, example_targets = examples.next()"
   ]
  },
  {
   "cell_type": "code",
   "execution_count": 13,
   "metadata": {
    "ExecuteTime": {
     "end_time": "2022-03-25T10:45:21.793854Z",
     "start_time": "2022-03-25T10:45:21.786872Z"
    }
   },
   "outputs": [
    {
     "data": {
      "text/plain": [
       "<torch.utils.data.dataloader._SingleProcessDataLoaderIter at 0x192124c1760>"
      ]
     },
     "execution_count": 13,
     "metadata": {},
     "output_type": "execute_result"
    }
   ],
   "source": [
    "examples"
   ]
  },
  {
   "cell_type": "code",
   "execution_count": 14,
   "metadata": {
    "ExecuteTime": {
     "end_time": "2022-03-25T10:45:27.839001Z",
     "start_time": "2022-03-25T10:45:27.501903Z"
    }
   },
   "outputs": [
    {
     "data": {
      "image/png": "[encoded data removed]",
      "text/plain": [
       "<Figure size 432x288 with 6 Axes>"
      ]
     },
     "metadata": {
      "needs_background": "light"
     },
     "output_type": "display_data"
    }
   ],
   "source": [
    "for i in range(6):\n",
    "    plt.subplot(2,3,i+1)\n",
    "    plt.imshow(example_data[i][0], cmap='gray')\n",
    "plt.show()"
   ]
  },
  {
   "cell_type": "code",
   "execution_count": 15,
   "metadata": {
    "ExecuteTime": {
     "end_time": "2022-03-25T10:52:33.861528Z",
     "start_time": "2022-03-25T10:52:33.848562Z"
    }
   },
   "outputs": [],
   "source": [
    "# Fully connected neural network with one hidden layer\n",
    "class NeuralNet(nn.Module):\n",
    "    def __init__(self, input_size, hidden_size, num_classes):\n",
    "        super(NeuralNet, self).__init__()\n",
    "        self.input_size = input_size\n",
    "        self.l1 = nn.Linear(input_size, hidden_size) \n",
    "        self.relu = nn.ReLU()\n",
    "        self.l2 = nn.Linear(hidden_size, num_classes)  \n",
    "    \n",
    "    def forward(self, x):\n",
    "        out = self.l1(x)\n",
    "        out = self.relu(out)\n",
    "        out = self.l2(out)\n",
    "        # no activation and no softmax at the end\n",
    "        return out"
   ]
  },
  {
   "cell_type": "code",
   "execution_count": 16,
   "metadata": {
    "ExecuteTime": {
     "end_time": "2022-03-25T10:52:49.910121Z",
     "start_time": "2022-03-25T10:52:49.801858Z"
    }
   },
   "outputs": [],
   "source": [
    "model = NeuralNet(input_size, hidden_size, num_classes).to(device)\n",
    "\n",
    "# Loss and optimizer\n",
    "criterion = nn.CrossEntropyLoss()\n",
    "optimizer = torch.optim.Adam(model.parameters(), lr=learning_rate)  "
   ]
  },
  {
   "cell_type": "code",
   "execution_count": 23,
   "metadata": {
    "ExecuteTime": {
     "end_time": "2022-03-25T12:03:29.732559Z",
     "start_time": "2022-03-25T12:03:25.108569Z"
    }
   },
   "outputs": [
    {
     "name": "stdout",
     "output_type": "stream",
     "text": [
      "torch.Size([100])\n",
      "torch.Size([100])\n",
      "torch.Size([100])\n",
      "torch.Size([100])\n",
      "torch.Size([100])\n",
      "torch.Size([100])\n",
      "torch.Size([100])\n",
      "torch.Size([100])\n",
      "torch.Size([100])\n",
      "torch.Size([100])\n",
      "torch.Size([100])\n",
      "torch.Size([100])\n",
      "torch.Size([100])\n",
      "torch.Size([100])\n",
      "torch.Size([100])\n",
      "torch.Size([100])\n",
      "torch.Size([100])\n",
      "torch.Size([100])\n",
      "torch.Size([100])\n",
      "torch.Size([100])\n",
      "torch.Size([100])\n",
      "torch.Size([100])\n",
      "torch.Size([100])\n",
      "torch.Size([100])\n",
      "torch.Size([100])\n",
      "torch.Size([100])\n",
      "torch.Size([100])\n",
      "torch.Size([100])\n",
      "torch.Size([100])\n",
      "torch.Size([100])\n",
      "torch.Size([100])\n",
      "torch.Size([100])\n",
      "torch.Size([100])\n",
      "torch.Size([100])\n",
      "torch.Size([100])\n",
      "torch.Size([100])\n",
      "torch.Size([100])\n",
      "torch.Size([100])\n",
      "torch.Size([100])\n",
      "torch.Size([100])\n",
      "torch.Size([100])\n",
      "torch.Size([100])\n",
      "torch.Size([100])\n",
      "torch.Size([100])\n",
      "torch.Size([100])\n",
      "torch.Size([100])\n",
      "torch.Size([100])\n",
      "torch.Size([100])\n",
      "torch.Size([100])\n",
      "torch.Size([100])\n",
      "torch.Size([100])\n",
      "torch.Size([100])\n",
      "torch.Size([100])\n",
      "torch.Size([100])\n",
      "torch.Size([100])\n",
      "torch.Size([100])\n",
      "torch.Size([100])\n",
      "torch.Size([100])\n",
      "torch.Size([100])\n",
      "torch.Size([100])\n",
      "torch.Size([100])\n",
      "torch.Size([100])\n",
      "torch.Size([100])\n",
      "torch.Size([100])\n",
      "torch.Size([100])\n",
      "torch.Size([100])\n",
      "torch.Size([100])\n",
      "torch.Size([100])\n",
      "torch.Size([100])\n",
      "torch.Size([100])\n",
      "torch.Size([100])\n",
      "torch.Size([100])\n",
      "torch.Size([100])\n",
      "torch.Size([100])\n",
      "torch.Size([100])\n",
      "torch.Size([100])\n",
      "torch.Size([100])\n",
      "torch.Size([100])\n",
      "torch.Size([100])\n",
      "torch.Size([100])\n",
      "torch.Size([100])\n",
      "torch.Size([100])\n",
      "torch.Size([100])\n",
      "torch.Size([100])\n",
      "torch.Size([100])\n",
      "torch.Size([100])\n",
      "torch.Size([100])\n",
      "torch.Size([100])\n",
      "torch.Size([100])\n",
      "torch.Size([100])\n",
      "torch.Size([100])\n",
      "torch.Size([100])\n",
      "torch.Size([100])\n",
      "torch.Size([100])\n",
      "torch.Size([100])\n",
      "torch.Size([100])\n",
      "torch.Size([100])\n",
      "torch.Size([100])\n",
      "torch.Size([100])\n",
      "torch.Size([100])\n",
      "torch.Size([100])\n",
      "torch.Size([100])\n",
      "torch.Size([100])\n",
      "torch.Size([100])\n",
      "torch.Size([100])\n",
      "torch.Size([100])\n",
      "torch.Size([100])\n",
      "torch.Size([100])\n",
      "torch.Size([100])\n",
      "torch.Size([100])\n",
      "torch.Size([100])\n",
      "torch.Size([100])\n",
      "torch.Size([100])\n",
      "torch.Size([100])\n",
      "torch.Size([100])\n",
      "torch.Size([100])\n",
      "torch.Size([100])\n",
      "torch.Size([100])\n",
      "torch.Size([100])\n",
      "torch.Size([100])\n",
      "torch.Size([100])\n",
      "torch.Size([100])\n",
      "torch.Size([100])\n",
      "torch.Size([100])\n",
      "torch.Size([100])\n",
      "torch.Size([100])\n",
      "torch.Size([100])\n",
      "torch.Size([100])\n",
      "torch.Size([100])\n",
      "torch.Size([100])\n",
      "torch.Size([100])\n",
      "torch.Size([100])\n",
      "torch.Size([100])\n",
      "torch.Size([100])\n",
      "torch.Size([100])\n",
      "torch.Size([100])\n",
      "torch.Size([100])\n",
      "torch.Size([100])\n",
      "torch.Size([100])\n",
      "torch.Size([100])\n",
      "torch.Size([100])\n",
      "torch.Size([100])\n",
      "torch.Size([100])\n",
      "torch.Size([100])\n",
      "torch.Size([100])\n",
      "torch.Size([100])\n",
      "torch.Size([100])\n",
      "torch.Size([100])\n",
      "torch.Size([100])\n",
      "torch.Size([100])\n",
      "torch.Size([100])\n",
      "torch.Size([100])\n",
      "torch.Size([100])\n",
      "torch.Size([100])\n",
      "torch.Size([100])\n",
      "torch.Size([100])\n",
      "torch.Size([100])\n",
      "torch.Size([100])\n",
      "torch.Size([100])\n",
      "torch.Size([100])\n",
      "torch.Size([100])\n",
      "torch.Size([100])\n",
      "torch.Size([100])\n",
      "torch.Size([100])\n",
      "torch.Size([100])\n",
      "torch.Size([100])\n",
      "torch.Size([100])\n",
      "torch.Size([100])\n",
      "torch.Size([100])\n",
      "torch.Size([100])\n",
      "torch.Size([100])\n",
      "torch.Size([100])\n",
      "torch.Size([100])\n",
      "torch.Size([100])\n",
      "torch.Size([100])\n",
      "torch.Size([100])\n",
      "torch.Size([100])\n",
      "torch.Size([100])\n",
      "torch.Size([100])\n",
      "torch.Size([100])\n",
      "torch.Size([100])\n",
      "torch.Size([100])\n",
      "torch.Size([100])\n",
      "torch.Size([100])\n",
      "torch.Size([100])\n",
      "torch.Size([100])\n",
      "torch.Size([100])\n",
      "torch.Size([100])\n",
      "torch.Size([100])\n",
      "torch.Size([100])\n",
      "torch.Size([100])\n",
      "torch.Size([100])\n",
      "torch.Size([100])\n",
      "torch.Size([100])\n",
      "torch.Size([100])\n",
      "torch.Size([100])\n",
      "torch.Size([100])\n",
      "torch.Size([100])\n",
      "torch.Size([100])\n",
      "torch.Size([100])\n",
      "torch.Size([100])\n",
      "torch.Size([100])\n",
      "torch.Size([100])\n",
      "torch.Size([100])\n",
      "torch.Size([100])\n",
      "torch.Size([100])\n",
      "torch.Size([100])\n",
      "torch.Size([100])\n",
      "torch.Size([100])\n",
      "torch.Size([100])\n",
      "torch.Size([100])\n",
      "torch.Size([100])\n",
      "torch.Size([100])\n",
      "torch.Size([100])\n",
      "torch.Size([100])\n",
      "torch.Size([100])\n",
      "torch.Size([100])\n",
      "torch.Size([100])\n",
      "torch.Size([100])\n",
      "torch.Size([100])\n",
      "torch.Size([100])\n",
      "torch.Size([100])\n",
      "torch.Size([100])\n",
      "torch.Size([100])\n",
      "torch.Size([100])\n",
      "torch.Size([100])\n",
      "torch.Size([100])\n",
      "torch.Size([100])\n",
      "torch.Size([100])\n",
      "torch.Size([100])\n",
      "torch.Size([100])\n",
      "torch.Size([100])\n",
      "torch.Size([100])\n",
      "torch.Size([100])\n",
      "torch.Size([100])\n",
      "torch.Size([100])\n",
      "torch.Size([100])\n",
      "torch.Size([100])\n",
      "torch.Size([100])\n",
      "torch.Size([100])\n",
      "torch.Size([100])\n",
      "torch.Size([100])\n",
      "torch.Size([100])\n",
      "torch.Size([100])\n",
      "torch.Size([100])\n",
      "torch.Size([100])\n",
      "torch.Size([100])\n",
      "torch.Size([100])\n",
      "torch.Size([100])\n",
      "torch.Size([100])\n",
      "torch.Size([100])\n",
      "torch.Size([100])\n",
      "torch.Size([100])\n",
      "torch.Size([100])\n",
      "torch.Size([100])\n",
      "torch.Size([100])\n",
      "torch.Size([100])\n",
      "torch.Size([100])\n",
      "torch.Size([100])\n",
      "torch.Size([100])\n",
      "torch.Size([100])\n",
      "torch.Size([100])\n",
      "torch.Size([100])\n",
      "torch.Size([100])\n",
      "torch.Size([100])\n",
      "torch.Size([100])\n",
      "torch.Size([100])\n",
      "torch.Size([100])\n",
      "torch.Size([100])\n",
      "torch.Size([100])\n",
      "torch.Size([100])\n",
      "torch.Size([100])\n",
      "torch.Size([100])\n",
      "torch.Size([100])\n",
      "torch.Size([100])\n",
      "torch.Size([100])\n",
      "torch.Size([100])\n",
      "torch.Size([100])\n",
      "torch.Size([100])\n",
      "torch.Size([100])\n",
      "torch.Size([100])\n",
      "torch.Size([100])\n",
      "torch.Size([100])\n",
      "torch.Size([100])\n",
      "torch.Size([100])\n",
      "torch.Size([100])\n",
      "torch.Size([100])\n",
      "torch.Size([100])\n",
      "torch.Size([100])\n",
      "torch.Size([100])\n",
      "torch.Size([100])\n",
      "torch.Size([100])\n",
      "torch.Size([100])\n",
      "torch.Size([100])\n",
      "torch.Size([100])\n",
      "torch.Size([100])\n",
      "torch.Size([100])\n",
      "torch.Size([100])\n",
      "torch.Size([100])\n",
      "torch.Size([100])\n",
      "torch.Size([100])\n",
      "torch.Size([100])\n",
      "torch.Size([100])\n",
      "torch.Size([100])\n",
      "torch.Size([100])\n",
      "torch.Size([100])\n",
      "torch.Size([100])\n",
      "torch.Size([100])\n",
      "torch.Size([100])\n",
      "torch.Size([100])\n",
      "torch.Size([100])\n",
      "torch.Size([100])\n",
      "torch.Size([100])\n",
      "torch.Size([100])\n",
      "torch.Size([100])\n",
      "torch.Size([100])\n",
      "torch.Size([100])\n",
      "torch.Size([100])\n",
      "torch.Size([100])\n",
      "torch.Size([100])\n",
      "torch.Size([100])\n",
      "torch.Size([100])\n",
      "torch.Size([100])\n",
      "torch.Size([100])\n",
      "torch.Size([100])\n",
      "torch.Size([100])\n",
      "torch.Size([100])\n",
      "torch.Size([100])\n",
      "torch.Size([100])\n",
      "torch.Size([100])\n",
      "torch.Size([100])\n",
      "torch.Size([100])\n",
      "torch.Size([100])\n",
      "torch.Size([100])\n",
      "torch.Size([100])\n",
      "torch.Size([100])\n",
      "torch.Size([100])\n",
      "torch.Size([100])\n",
      "torch.Size([100])\n",
      "torch.Size([100])\n",
      "torch.Size([100])\n",
      "torch.Size([100])\n",
      "torch.Size([100])\n",
      "torch.Size([100])\n",
      "torch.Size([100])\n",
      "torch.Size([100])\n",
      "torch.Size([100])\n",
      "torch.Size([100])\n",
      "torch.Size([100])\n",
      "torch.Size([100])\n",
      "torch.Size([100])\n",
      "torch.Size([100])\n",
      "torch.Size([100])\n",
      "torch.Size([100])\n",
      "torch.Size([100])\n",
      "torch.Size([100])\n",
      "torch.Size([100])\n",
      "torch.Size([100])\n",
      "torch.Size([100])\n",
      "torch.Size([100])\n",
      "torch.Size([100])\n",
      "torch.Size([100])\n",
      "torch.Size([100])\n",
      "torch.Size([100])\n",
      "torch.Size([100])\n",
      "torch.Size([100])\n",
      "torch.Size([100])\n",
      "torch.Size([100])\n",
      "torch.Size([100])\n",
      "torch.Size([100])\n",
      "torch.Size([100])\n",
      "torch.Size([100])\n",
      "torch.Size([100])\n",
      "torch.Size([100])\n",
      "torch.Size([100])\n",
      "torch.Size([100])\n",
      "torch.Size([100])\n",
      "torch.Size([100])\n",
      "torch.Size([100])\n",
      "torch.Size([100])\n",
      "torch.Size([100])\n",
      "torch.Size([100])\n",
      "torch.Size([100])\n",
      "torch.Size([100])\n",
      "torch.Size([100])\n",
      "torch.Size([100])\n",
      "torch.Size([100])\n",
      "torch.Size([100])\n",
      "torch.Size([100])\n",
      "torch.Size([100])\n",
      "torch.Size([100])\n",
      "torch.Size([100])\n",
      "torch.Size([100])\n",
      "torch.Size([100])\n",
      "torch.Size([100])\n",
      "torch.Size([100])\n",
      "torch.Size([100])\n",
      "torch.Size([100])\n",
      "torch.Size([100])\n",
      "torch.Size([100])\n",
      "torch.Size([100])\n",
      "torch.Size([100])\n",
      "torch.Size([100])\n",
      "torch.Size([100])\n",
      "torch.Size([100])\n",
      "torch.Size([100])\n",
      "torch.Size([100])\n",
      "torch.Size([100])\n",
      "torch.Size([100])\n",
      "torch.Size([100])\n",
      "torch.Size([100])\n",
      "torch.Size([100])\n",
      "torch.Size([100])\n",
      "torch.Size([100])\n",
      "torch.Size([100])\n",
      "torch.Size([100])\n",
      "torch.Size([100])\n",
      "torch.Size([100])\n",
      "torch.Size([100])\n",
      "torch.Size([100])\n",
      "torch.Size([100])\n",
      "torch.Size([100])\n",
      "torch.Size([100])\n",
      "torch.Size([100])\n",
      "torch.Size([100])\n",
      "torch.Size([100])\n",
      "torch.Size([100])\n",
      "torch.Size([100])\n",
      "torch.Size([100])\n",
      "torch.Size([100])\n",
      "torch.Size([100])\n",
      "torch.Size([100])\n",
      "torch.Size([100])\n",
      "torch.Size([100])\n",
      "torch.Size([100])\n",
      "torch.Size([100])\n",
      "torch.Size([100])\n",
      "torch.Size([100])\n",
      "torch.Size([100])\n",
      "torch.Size([100])\n",
      "torch.Size([100])\n",
      "torch.Size([100])\n",
      "torch.Size([100])\n",
      "torch.Size([100])\n",
      "torch.Size([100])\n",
      "torch.Size([100])\n",
      "torch.Size([100])\n",
      "torch.Size([100])\n",
      "torch.Size([100])\n",
      "torch.Size([100])\n",
      "torch.Size([100])\n",
      "torch.Size([100])\n",
      "torch.Size([100])\n",
      "torch.Size([100])\n",
      "torch.Size([100])\n",
      "torch.Size([100])\n",
      "torch.Size([100])\n",
      "torch.Size([100])\n",
      "torch.Size([100])\n",
      "torch.Size([100])\n",
      "torch.Size([100])\n",
      "torch.Size([100])\n"
     ]
    },
    {
     "name": "stdout",
     "output_type": "stream",
     "text": [
      "torch.Size([100])\n",
      "torch.Size([100])\n",
      "torch.Size([100])\n",
      "torch.Size([100])\n",
      "torch.Size([100])\n",
      "torch.Size([100])\n",
      "torch.Size([100])\n",
      "torch.Size([100])\n",
      "torch.Size([100])\n",
      "torch.Size([100])\n",
      "torch.Size([100])\n",
      "torch.Size([100])\n",
      "torch.Size([100])\n",
      "torch.Size([100])\n",
      "torch.Size([100])\n",
      "torch.Size([100])\n",
      "torch.Size([100])\n",
      "torch.Size([100])\n",
      "torch.Size([100])\n",
      "torch.Size([100])\n",
      "torch.Size([100])\n",
      "torch.Size([100])\n",
      "torch.Size([100])\n",
      "torch.Size([100])\n",
      "torch.Size([100])\n",
      "torch.Size([100])\n",
      "torch.Size([100])\n",
      "torch.Size([100])\n",
      "torch.Size([100])\n",
      "torch.Size([100])\n",
      "torch.Size([100])\n",
      "torch.Size([100])\n",
      "torch.Size([100])\n",
      "torch.Size([100])\n",
      "torch.Size([100])\n",
      "torch.Size([100])\n",
      "torch.Size([100])\n",
      "torch.Size([100])\n",
      "torch.Size([100])\n",
      "torch.Size([100])\n",
      "torch.Size([100])\n",
      "torch.Size([100])\n",
      "torch.Size([100])\n",
      "torch.Size([100])\n",
      "torch.Size([100])\n",
      "torch.Size([100])\n",
      "torch.Size([100])\n",
      "torch.Size([100])\n",
      "torch.Size([100])\n",
      "torch.Size([100])\n",
      "torch.Size([100])\n",
      "torch.Size([100])\n",
      "torch.Size([100])\n",
      "torch.Size([100])\n",
      "torch.Size([100])\n",
      "torch.Size([100])\n",
      "torch.Size([100])\n",
      "torch.Size([100])\n",
      "torch.Size([100])\n",
      "torch.Size([100])\n",
      "torch.Size([100])\n",
      "torch.Size([100])\n",
      "torch.Size([100])\n",
      "torch.Size([100])\n",
      "torch.Size([100])\n",
      "torch.Size([100])\n",
      "torch.Size([100])\n",
      "torch.Size([100])\n",
      "torch.Size([100])\n",
      "torch.Size([100])\n",
      "torch.Size([100])\n",
      "torch.Size([100])\n",
      "torch.Size([100])\n",
      "torch.Size([100])\n",
      "torch.Size([100])\n",
      "torch.Size([100])\n",
      "torch.Size([100])\n",
      "torch.Size([100])\n",
      "torch.Size([100])\n",
      "torch.Size([100])\n",
      "torch.Size([100])\n",
      "torch.Size([100])\n",
      "torch.Size([100])\n",
      "torch.Size([100])\n",
      "torch.Size([100])\n",
      "torch.Size([100])\n",
      "torch.Size([100])\n",
      "torch.Size([100])\n",
      "torch.Size([100])\n",
      "torch.Size([100])\n",
      "torch.Size([100])\n",
      "torch.Size([100])\n",
      "torch.Size([100])\n",
      "torch.Size([100])\n",
      "torch.Size([100])\n",
      "torch.Size([100])\n",
      "torch.Size([100])\n",
      "torch.Size([100])\n",
      "torch.Size([100])\n",
      "torch.Size([100])\n",
      "torch.Size([100])\n",
      "torch.Size([100])\n",
      "torch.Size([100])\n",
      "torch.Size([100])\n",
      "torch.Size([100])\n",
      "torch.Size([100])\n",
      "torch.Size([100])\n",
      "torch.Size([100])\n",
      "torch.Size([100])\n",
      "torch.Size([100])\n",
      "torch.Size([100])\n",
      "torch.Size([100])\n",
      "torch.Size([100])\n",
      "torch.Size([100])\n",
      "torch.Size([100])\n",
      "torch.Size([100])\n",
      "torch.Size([100])\n",
      "torch.Size([100])\n",
      "torch.Size([100])\n",
      "torch.Size([100])\n",
      "torch.Size([100])\n",
      "torch.Size([100])\n",
      "torch.Size([100])\n",
      "torch.Size([100])\n",
      "torch.Size([100])\n",
      "torch.Size([100])\n",
      "torch.Size([100])\n",
      "torch.Size([100])\n",
      "torch.Size([100])\n",
      "torch.Size([100])\n",
      "torch.Size([100])\n",
      "torch.Size([100])\n",
      "torch.Size([100])\n",
      "torch.Size([100])\n",
      "torch.Size([100])\n",
      "torch.Size([100])\n",
      "torch.Size([100])\n",
      "torch.Size([100])\n"
     ]
    }
   ],
   "source": [
    "for images, labels in train_loader:\n",
    "    print(labels.shape)"
   ]
  },
  {
   "cell_type": "code",
   "execution_count": 28,
   "metadata": {
    "ExecuteTime": {
     "end_time": "2022-03-25T17:20:12.035146Z",
     "start_time": "2022-03-25T17:20:12.018191Z"
    }
   },
   "outputs": [
    {
     "data": {
      "text/plain": [
       "<torch.utils.data.dataloader.DataLoader at 0x192124c1b20>"
      ]
     },
     "execution_count": 28,
     "metadata": {},
     "output_type": "execute_result"
    }
   ],
   "source": [
    "train_loader"
   ]
  },
  {
   "cell_type": "code",
   "execution_count": 26,
   "metadata": {
    "ExecuteTime": {
     "end_time": "2022-03-25T12:05:03.698321Z",
     "start_time": "2022-03-25T12:04:51.840621Z"
    }
   },
   "outputs": [
    {
     "name": "stdout",
     "output_type": "stream",
     "text": [
      "Epoch [1/2], Step [100/600], Loss: 0.0496\n",
      "Epoch [1/2], Step [200/600], Loss: 0.0194\n",
      "Epoch [1/2], Step [300/600], Loss: 0.0241\n",
      "Epoch [1/2], Step [400/600], Loss: 0.0459\n",
      "Epoch [1/2], Step [500/600], Loss: 0.0572\n",
      "Epoch [1/2], Step [600/600], Loss: 0.0376\n",
      "Epoch [2/2], Step [100/600], Loss: 0.0258\n",
      "Epoch [2/2], Step [200/600], Loss: 0.0115\n",
      "Epoch [2/2], Step [300/600], Loss: 0.0181\n",
      "Epoch [2/2], Step [400/600], Loss: 0.0038\n",
      "Epoch [2/2], Step [500/600], Loss: 0.0295\n",
      "Epoch [2/2], Step [600/600], Loss: 0.0472\n"
     ]
    }
   ],
   "source": [
    "# Train the model\n",
    "n_total_steps = len(train_loader)\n",
    "for epoch in range(num_epochs):\n",
    "    for i,(images, labels) in enumerate(train_loader):  \n",
    "        # origin shape: [100, 1, 28, 28]\n",
    "        # resized: [100, 784]\n",
    "        images = images.reshape(-1, 28*28).to(device)\n",
    "        labels = labels.to(device)\n",
    "        \n",
    "        # Forward pass\n",
    "        outputs = model(images)\n",
    "        loss = criterion(outputs, labels)\n",
    "        \n",
    "        # Backward and optimize\n",
    "        optimizer.zero_grad()\n",
    "        loss.backward()\n",
    "        optimizer.step()\n",
    "        \n",
    "        if (i+1) % 100 == 0:\n",
    "            print (f'Epoch [{epoch+1}/{num_epochs}], Step [{i+1}/{n_total_steps}], Loss: {loss.item():.4f}')"
   ]
  },
  {
   "cell_type": "code",
   "execution_count": 18,
   "metadata": {
    "ExecuteTime": {
     "end_time": "2022-03-25T10:57:50.460044Z",
     "start_time": "2022-03-25T10:57:49.455790Z"
    }
   },
   "outputs": [
    {
     "name": "stdout",
     "output_type": "stream",
     "text": [
      "Accuracy of the network on the 10000 test images: 97.05 %\n"
     ]
    }
   ],
   "source": [
    "# Test the model\n",
    "# In test phase, we don't need to compute gradients (for memory efficiency)\n",
    "with torch.no_grad():\n",
    "    n_correct = 0\n",
    "    n_samples = 0\n",
    "    for images, labels in test_loader:\n",
    "        images = images.reshape(-1, 28*28).to(device)\n",
    "        labels = labels.to(device)\n",
    "        outputs = model(images)\n",
    "        # max returns (value ,index)\n",
    "        _, predicted = torch.max(outputs.data, 1)\n",
    "        n_samples += labels.size(0)\n",
    "        n_correct += (predicted == labels).sum().item()\n",
    "\n",
    "    acc = 100.0 * n_correct / n_samples\n",
    "    print(f'Accuracy of the network on the 10000 test images: {acc} %')"
   ]
  },
  {
   "cell_type": "markdown",
   "metadata": {
    "ExecuteTime": {
     "end_time": "2022-03-25T17:22:31.529899Z",
     "start_time": "2022-03-25T17:22:31.460087Z"
    }
   },
   "source": [
    "##  Convolutional Neural Network (CNN)"
   ]
  },
  {
   "cell_type": "code",
   "execution_count": 3,
   "metadata": {
    "ExecuteTime": {
     "end_time": "2022-03-26T13:09:19.895582Z",
     "start_time": "2022-03-26T13:09:19.891593Z"
    }
   },
   "outputs": [],
   "source": [
    "import torch\n",
    "import torch.nn as nn\n",
    "import torch.nn.functional as F\n",
    "import torchvision\n",
    "import torchvision.transforms as transforms\n",
    "import matplotlib.pyplot as plt\n",
    "import numpy as np"
   ]
  },
  {
   "cell_type": "code",
   "execution_count": 21,
   "metadata": {
    "ExecuteTime": {
     "end_time": "2022-03-26T19:02:55.591328Z",
     "start_time": "2022-03-26T19:02:55.581355Z"
    }
   },
   "outputs": [],
   "source": [
    "# Device configuration\n",
    "device = torch.device('cuda' if torch.cuda.is_available() else 'cpu')\n",
    "\n",
    "# Hyper-parameters \n",
    "num_epochs = 20\n",
    "batch_size = 4\n",
    "learning_rate = 0.001"
   ]
  },
  {
   "cell_type": "code",
   "execution_count": 5,
   "metadata": {
    "ExecuteTime": {
     "end_time": "2022-03-26T13:09:22.212955Z",
     "start_time": "2022-03-26T13:09:20.739906Z"
    }
   },
   "outputs": [
    {
     "name": "stdout",
     "output_type": "stream",
     "text": [
      "Files already downloaded and verified\n",
      "Files already downloaded and verified\n"
     ]
    }
   ],
   "source": [
    "# dataset has PILImage images of range [0, 1]. \n",
    "# We transform them to Tensors of normalized range [-1, 1]\n",
    "transform = transforms.Compose(\n",
    "    [transforms.ToTensor(),\n",
    "     transforms.Normalize((0.5, 0.5, 0.5), (0.5, 0.5, 0.5))])\n",
    "\n",
    "# CIFAR10: 60000 32x32 color images in 10 classes, with 6000 images per class\n",
    "train_dataset = torchvision.datasets.CIFAR10(root='./data', train=True,\n",
    "                                        download=True, transform=transform)\n",
    "\n",
    "test_dataset = torchvision.datasets.CIFAR10(root='./data', train=False,\n",
    "                                       download=True, transform=transform)\n",
    "\n",
    "train_loader = torch.utils.data.DataLoader(train_dataset, batch_size=batch_size,\n",
    "                                          shuffle=True)\n",
    "\n",
    "test_loader = torch.utils.data.DataLoader(test_dataset, batch_size=batch_size,\n",
    "                                         shuffle=False)\n",
    "\n",
    "classes = ('plane', 'car', 'bird', 'cat',\n",
    "           'deer', 'dog', 'frog', 'horse', 'ship', 'truck')\n",
    "\n",
    "def imshow(img):\n",
    "    img = img / 2 + 0.5  # unnormalize\n",
    "    npimg = img.numpy()\n",
    "    plt.imshow(np.transpose(npimg, (1, 2, 0)))\n",
    "    plt.show()"
   ]
  },
  {
   "cell_type": "code",
   "execution_count": 6,
   "metadata": {
    "ExecuteTime": {
     "end_time": "2022-03-26T13:09:31.897636Z",
     "start_time": "2022-03-26T13:09:31.825827Z"
    }
   },
   "outputs": [],
   "source": [
    "# get some random training images\n",
    "dataiter = iter(train_loader)\n",
    "images, labels = dataiter.next()"
   ]
  },
  {
   "cell_type": "code",
   "execution_count": 7,
   "metadata": {
    "ExecuteTime": {
     "end_time": "2022-03-26T13:09:36.183335Z",
     "start_time": "2022-03-26T13:09:36.017864Z"
    }
   },
   "outputs": [
    {
     "data": {
      "image/png": "[encoded data removed]",
      "text/plain": [
       "<Figure size 432x288 with 1 Axes>"
      ]
     },
     "metadata": {
      "needs_background": "light"
     },
     "output_type": "display_data"
    }
   ],
   "source": [
    "# show images\n",
    "imshow(torchvision.utils.make_grid(images))"
   ]
  },
  {
   "cell_type": "code",
   "execution_count": 8,
   "metadata": {
    "ExecuteTime": {
     "end_time": "2022-03-26T13:19:19.469199Z",
     "start_time": "2022-03-26T13:19:19.445264Z"
    }
   },
   "outputs": [],
   "source": [
    "conv1 = nn.Conv2d(3,6,5)"
   ]
  },
  {
   "cell_type": "code",
   "execution_count": 11,
   "metadata": {
    "ExecuteTime": {
     "end_time": "2022-03-26T13:20:05.525581Z",
     "start_time": "2022-03-26T13:20:05.405902Z"
    }
   },
   "outputs": [
    {
     "data": {
      "image/png": "[encoded data removed]",
      "text/plain": [
       "<Figure size 432x288 with 1 Axes>"
      ]
     },
     "metadata": {
      "needs_background": "light"
     },
     "output_type": "display_data"
    }
   ],
   "source": [
    "imshow(torchvision.utils.make_grid(images))"
   ]
  },
  {
   "cell_type": "code",
   "execution_count": 13,
   "metadata": {
    "ExecuteTime": {
     "end_time": "2022-03-26T13:20:39.665279Z",
     "start_time": "2022-03-26T13:20:39.629375Z"
    }
   },
   "outputs": [],
   "source": [
    "x = conv1(images)"
   ]
  },
  {
   "cell_type": "code",
   "execution_count": 14,
   "metadata": {
    "ExecuteTime": {
     "end_time": "2022-03-26T13:20:44.809380Z",
     "start_time": "2022-03-26T13:20:44.792425Z"
    }
   },
   "outputs": [
    {
     "data": {
      "text/plain": [
       "torch.Size([4, 6, 28, 28])"
      ]
     },
     "execution_count": 14,
     "metadata": {},
     "output_type": "execute_result"
    }
   ],
   "source": [
    "x.shape"
   ]
  },
  {
   "cell_type": "code",
   "execution_count": 15,
   "metadata": {
    "ExecuteTime": {
     "end_time": "2022-03-26T18:57:12.415892Z",
     "start_time": "2022-03-26T18:57:12.283232Z"
    }
   },
   "outputs": [],
   "source": [
    "class ConvNet(nn.Module):\n",
    "    def __init__(self):\n",
    "        super(ConvNet, self).__init__()\n",
    "        self.conv1 = nn.Conv2d(3, 6, 5)\n",
    "        self.pool = nn.MaxPool2d(2, 2)\n",
    "        self.conv2 = nn.Conv2d(6, 16, 5)\n",
    "        self.fc1 = nn.Linear(16 * 5 * 5, 120)\n",
    "        self.fc2 = nn.Linear(120, 84)\n",
    "        self.fc3 = nn.Linear(84, 10)\n",
    "\n",
    "    def forward(self, x):\n",
    "        # -> n, 3, 32, 32\n",
    "        x = self.pool(F.relu(self.conv1(x)))  # -> n, 6, 14, 14\n",
    "        x = self.pool(F.relu(self.conv2(x)))  # -> n, 16, 5, 5\n",
    "        x = x.view(-1, 16 * 5 * 5)            # -> n, 400\n",
    "        x = F.relu(self.fc1(x))               # -> n, 120\n",
    "        x = F.relu(self.fc2(x))               # -> n, 84\n",
    "        x = self.fc3(x)                       # -> n, 10\n",
    "        return x\n",
    "\n",
    "\n",
    "model = ConvNet().to(device)\n",
    "\n",
    "criterion = nn.CrossEntropyLoss()\n",
    "optimizer = torch.optim.SGD(model.parameters(), lr=learning_rate)"
   ]
  },
  {
   "cell_type": "code",
   "execution_count": 22,
   "metadata": {
    "ExecuteTime": {
     "end_time": "2022-03-26T19:13:51.658637Z",
     "start_time": "2022-03-26T19:02:59.629284Z"
    }
   },
   "outputs": [
    {
     "name": "stdout",
     "output_type": "stream",
     "text": [
      "Epoch [1/20], Step [2000/12500], Loss: 0.8529\n",
      "Epoch [1/20], Step [4000/12500], Loss: 1.0773\n",
      "Epoch [1/20], Step [6000/12500], Loss: 1.3882\n",
      "Epoch [1/20], Step [8000/12500], Loss: 0.9873\n",
      "Epoch [1/20], Step [10000/12500], Loss: 1.7858\n",
      "Epoch [1/20], Step [12000/12500], Loss: 0.5687\n",
      "Epoch [2/20], Step [2000/12500], Loss: 0.8159\n",
      "Epoch [2/20], Step [4000/12500], Loss: 1.2168\n",
      "Epoch [2/20], Step [6000/12500], Loss: 1.0022\n",
      "Epoch [2/20], Step [8000/12500], Loss: 2.1209\n",
      "Epoch [2/20], Step [10000/12500], Loss: 1.1430\n",
      "Epoch [2/20], Step [12000/12500], Loss: 1.3973\n",
      "Epoch [3/20], Step [2000/12500], Loss: 1.4987\n",
      "Epoch [3/20], Step [4000/12500], Loss: 2.4225\n",
      "Epoch [3/20], Step [6000/12500], Loss: 1.2568\n",
      "Epoch [3/20], Step [8000/12500], Loss: 1.0361\n",
      "Epoch [3/20], Step [10000/12500], Loss: 0.9556\n",
      "Epoch [3/20], Step [12000/12500], Loss: 0.6221\n",
      "Epoch [4/20], Step [2000/12500], Loss: 0.9638\n",
      "Epoch [4/20], Step [4000/12500], Loss: 0.8315\n",
      "Epoch [4/20], Step [6000/12500], Loss: 1.0244\n",
      "Epoch [4/20], Step [8000/12500], Loss: 1.2620\n",
      "Epoch [4/20], Step [10000/12500], Loss: 0.5531\n",
      "Epoch [4/20], Step [12000/12500], Loss: 0.9259\n",
      "Epoch [5/20], Step [2000/12500], Loss: 1.2051\n",
      "Epoch [5/20], Step [4000/12500], Loss: 1.0129\n",
      "Epoch [5/20], Step [6000/12500], Loss: 1.1667\n",
      "Epoch [5/20], Step [8000/12500], Loss: 1.3495\n",
      "Epoch [5/20], Step [10000/12500], Loss: 0.4813\n",
      "Epoch [5/20], Step [12000/12500], Loss: 0.2457\n",
      "Epoch [6/20], Step [2000/12500], Loss: 0.5891\n",
      "Epoch [6/20], Step [4000/12500], Loss: 1.9442\n",
      "Epoch [6/20], Step [6000/12500], Loss: 0.3802\n",
      "Epoch [6/20], Step [8000/12500], Loss: 1.8291\n",
      "Epoch [6/20], Step [10000/12500], Loss: 0.7902\n",
      "Epoch [6/20], Step [12000/12500], Loss: 0.8039\n",
      "Epoch [7/20], Step [2000/12500], Loss: 1.3636\n",
      "Epoch [7/20], Step [4000/12500], Loss: 0.7638\n",
      "Epoch [7/20], Step [6000/12500], Loss: 0.8204\n",
      "Epoch [7/20], Step [8000/12500], Loss: 1.2140\n",
      "Epoch [7/20], Step [10000/12500], Loss: 2.5551\n",
      "Epoch [7/20], Step [12000/12500], Loss: 0.7687\n",
      "Epoch [8/20], Step [2000/12500], Loss: 1.4725\n",
      "Epoch [8/20], Step [4000/12500], Loss: 0.4920\n",
      "Epoch [8/20], Step [6000/12500], Loss: 0.8374\n",
      "Epoch [8/20], Step [8000/12500], Loss: 0.4000\n",
      "Epoch [8/20], Step [10000/12500], Loss: 1.3082\n",
      "Epoch [8/20], Step [12000/12500], Loss: 0.7902\n",
      "Epoch [9/20], Step [2000/12500], Loss: 0.2011\n",
      "Epoch [9/20], Step [4000/12500], Loss: 1.1615\n",
      "Epoch [9/20], Step [6000/12500], Loss: 0.1789\n",
      "Epoch [9/20], Step [8000/12500], Loss: 0.0914\n",
      "Epoch [9/20], Step [10000/12500], Loss: 1.0690\n",
      "Epoch [9/20], Step [12000/12500], Loss: 0.5607\n",
      "Epoch [10/20], Step [2000/12500], Loss: 0.8063\n",
      "Epoch [10/20], Step [4000/12500], Loss: 1.3568\n",
      "Epoch [10/20], Step [6000/12500], Loss: 0.5598\n",
      "Epoch [10/20], Step [8000/12500], Loss: 0.5549\n",
      "Epoch [10/20], Step [10000/12500], Loss: 1.1190\n",
      "Epoch [10/20], Step [12000/12500], Loss: 1.9390\n",
      "Epoch [11/20], Step [2000/12500], Loss: 0.8567\n",
      "Epoch [11/20], Step [4000/12500], Loss: 0.5431\n",
      "Epoch [11/20], Step [6000/12500], Loss: 0.5751\n",
      "Epoch [11/20], Step [8000/12500], Loss: 0.8489\n",
      "Epoch [11/20], Step [10000/12500], Loss: 1.2326\n",
      "Epoch [11/20], Step [12000/12500], Loss: 0.3864\n",
      "Epoch [12/20], Step [2000/12500], Loss: 0.5597\n",
      "Epoch [12/20], Step [4000/12500], Loss: 1.0633\n",
      "Epoch [12/20], Step [6000/12500], Loss: 0.2353\n",
      "Epoch [12/20], Step [8000/12500], Loss: 1.2406\n",
      "Epoch [12/20], Step [10000/12500], Loss: 0.9701\n",
      "Epoch [12/20], Step [12000/12500], Loss: 0.3116\n",
      "Epoch [13/20], Step [2000/12500], Loss: 1.0238\n",
      "Epoch [13/20], Step [4000/12500], Loss: 0.3301\n",
      "Epoch [13/20], Step [6000/12500], Loss: 0.9709\n",
      "Epoch [13/20], Step [8000/12500], Loss: 2.1560\n",
      "Epoch [13/20], Step [10000/12500], Loss: 0.6170\n",
      "Epoch [13/20], Step [12000/12500], Loss: 0.5224\n",
      "Epoch [14/20], Step [2000/12500], Loss: 1.7070\n",
      "Epoch [14/20], Step [4000/12500], Loss: 0.1205\n",
      "Epoch [14/20], Step [6000/12500], Loss: 0.3697\n",
      "Epoch [14/20], Step [8000/12500], Loss: 0.9871\n",
      "Epoch [14/20], Step [10000/12500], Loss: 0.9312\n",
      "Epoch [14/20], Step [12000/12500], Loss: 0.9002\n",
      "Epoch [15/20], Step [2000/12500], Loss: 0.7304\n",
      "Epoch [15/20], Step [4000/12500], Loss: 1.1090\n",
      "Epoch [15/20], Step [6000/12500], Loss: 0.9380\n",
      "Epoch [15/20], Step [8000/12500], Loss: 0.4834\n",
      "Epoch [15/20], Step [10000/12500], Loss: 1.3907\n",
      "Epoch [15/20], Step [12000/12500], Loss: 0.6433\n",
      "Epoch [16/20], Step [2000/12500], Loss: 0.5532\n",
      "Epoch [16/20], Step [4000/12500], Loss: 1.1356\n",
      "Epoch [16/20], Step [6000/12500], Loss: 0.5921\n",
      "Epoch [16/20], Step [8000/12500], Loss: 1.0949\n",
      "Epoch [16/20], Step [10000/12500], Loss: 0.2861\n",
      "Epoch [16/20], Step [12000/12500], Loss: 0.8322\n",
      "Epoch [17/20], Step [2000/12500], Loss: 0.2559\n",
      "Epoch [17/20], Step [4000/12500], Loss: 1.7094\n",
      "Epoch [17/20], Step [6000/12500], Loss: 2.0934\n",
      "Epoch [17/20], Step [8000/12500], Loss: 0.6204\n",
      "Epoch [17/20], Step [10000/12500], Loss: 0.4746\n",
      "Epoch [17/20], Step [12000/12500], Loss: 0.2495\n",
      "Epoch [18/20], Step [2000/12500], Loss: 0.1110\n",
      "Epoch [18/20], Step [4000/12500], Loss: 0.2336\n",
      "Epoch [18/20], Step [6000/12500], Loss: 0.5105\n",
      "Epoch [18/20], Step [8000/12500], Loss: 0.4869\n",
      "Epoch [18/20], Step [10000/12500], Loss: 2.7549\n",
      "Epoch [18/20], Step [12000/12500], Loss: 2.3608\n",
      "Epoch [19/20], Step [2000/12500], Loss: 0.3159\n",
      "Epoch [19/20], Step [4000/12500], Loss: 0.5603\n",
      "Epoch [19/20], Step [6000/12500], Loss: 0.5409\n",
      "Epoch [19/20], Step [8000/12500], Loss: 0.6180\n",
      "Epoch [19/20], Step [10000/12500], Loss: 2.2922\n",
      "Epoch [19/20], Step [12000/12500], Loss: 0.2697\n",
      "Epoch [20/20], Step [2000/12500], Loss: 0.1061\n",
      "Epoch [20/20], Step [4000/12500], Loss: 0.2678\n",
      "Epoch [20/20], Step [6000/12500], Loss: 0.7507\n",
      "Epoch [20/20], Step [8000/12500], Loss: 1.7122\n",
      "Epoch [20/20], Step [10000/12500], Loss: 0.6085\n",
      "Epoch [20/20], Step [12000/12500], Loss: 1.8922\n",
      "Finished Training\n"
     ]
    }
   ],
   "source": [
    "n_total_steps = len(train_loader)\n",
    "for epoch in range(num_epochs):\n",
    "    for i, (images, labels) in enumerate(train_loader):\n",
    "        # origin shape: [4, 3, 32, 32] = 4, 3, 1024\n",
    "        # input_layer: 3 input channels, 6 output channels, 5 kernel size\n",
    "        images = images.to(device)\n",
    "        labels = labels.to(device)\n",
    "\n",
    "        # Forward pass\n",
    "        outputs = model(images)\n",
    "        loss = criterion(outputs, labels)\n",
    "\n",
    "        # Backward and optimize\n",
    "        optimizer.zero_grad()\n",
    "        loss.backward()\n",
    "        optimizer.step()\n",
    "\n",
    "        if (i+1) % 2000 == 0:\n",
    "            print (f'Epoch [{epoch+1}/{num_epochs}], Step [{i+1}/{n_total_steps}], Loss: {loss.item():.4f}')\n",
    "\n",
    "print('Finished Training')\n",
    "PATH = './cnn2.pth'\n",
    "torch.save(model.state_dict(), PATH)"
   ]
  },
  {
   "cell_type": "code",
   "execution_count": 23,
   "metadata": {
    "ExecuteTime": {
     "end_time": "2022-03-26T20:35:26.249292Z",
     "start_time": "2022-03-26T20:35:18.641154Z"
    }
   },
   "outputs": [
    {
     "name": "stdout",
     "output_type": "stream",
     "text": [
      "Accuracy of the network: 64.23 %\n",
      "Accuracy of plane: 72.5 %\n",
      "Accuracy of car: 72.2 %\n",
      "Accuracy of bird: 42.6 %\n",
      "Accuracy of cat: 50.2 %\n",
      "Accuracy of deer: 68.7 %\n",
      "Accuracy of dog: 48.3 %\n",
      "Accuracy of frog: 68.0 %\n",
      "Accuracy of horse: 66.8 %\n",
      "Accuracy of ship: 77.2 %\n",
      "Accuracy of truck: 75.8 %\n"
     ]
    }
   ],
   "source": [
    "with torch.no_grad():\n",
    "    n_correct = 0\n",
    "    n_samples = 0\n",
    "    n_class_correct = [0 for i in range(10)]\n",
    "    n_class_samples = [0 for i in range(10)]\n",
    "    for images, labels in test_loader:\n",
    "        images = images.to(device)\n",
    "        labels = labels.to(device)\n",
    "        outputs = model(images)\n",
    "        # max returns (value ,index)\n",
    "        _, predicted = torch.max(outputs, 1)\n",
    "        n_samples += labels.size(0)\n",
    "        n_correct += (predicted == labels).sum().item()\n",
    "        \n",
    "        for i in range(batch_size):\n",
    "            label = labels[i]\n",
    "            pred = predicted[i]\n",
    "            if (label == pred):\n",
    "                n_class_correct[label] += 1\n",
    "            n_class_samples[label] += 1\n",
    "\n",
    "    acc = 100.0 * n_correct / n_samples\n",
    "    print(f'Accuracy of the network: {acc} %')\n",
    "\n",
    "    for i in range(10):\n",
    "        acc = 100.0 * n_class_correct[i] / n_class_samples[i]\n",
    "        print(f'Accuracy of {classes[i]}: {acc} %')"
   ]
  },
  {
   "cell_type": "markdown",
   "metadata": {},
   "source": [
    "## Transfer learning"
   ]
  },
  {
   "cell_type": "code",
   "execution_count": 1,
   "metadata": {
    "ExecuteTime": {
     "end_time": "2022-03-27T16:35:17.902925Z",
     "start_time": "2022-03-27T16:35:14.636691Z"
    }
   },
   "outputs": [],
   "source": [
    "import torch\n",
    "import torch.nn as nn\n",
    "import torch.optim as optim\n",
    "from torch.optim import lr_scheduler\n",
    "import numpy as np\n",
    "import torchvision\n",
    "from torchvision import datasets, models, transforms\n",
    "import matplotlib.pyplot as plt\n",
    "import time\n",
    "import os\n",
    "import copy"
   ]
  },
  {
   "cell_type": "code",
   "execution_count": 25,
   "metadata": {
    "ExecuteTime": {
     "end_time": "2022-03-26T20:41:15.008918Z",
     "start_time": "2022-03-26T20:41:14.995953Z"
    }
   },
   "outputs": [],
   "source": [
    "mean = np.array([0.5, 0.5, 0.5])\n",
    "std = np.array([0.25, 0.25, 0.25])\n",
    "\n",
    "data_transforms = {\n",
    "    'train': transforms.Compose([\n",
    "        transforms.RandomResizedCrop(224),\n",
    "        transforms.RandomHorizontalFlip(),\n",
    "        transforms.ToTensor(),\n",
    "        transforms.Normalize(mean, std)\n",
    "    ]),\n",
    "    'val': transforms.Compose([\n",
    "        transforms.Resize(256),\n",
    "        transforms.CenterCrop(224),\n",
    "        transforms.ToTensor(),\n",
    "        transforms.Normalize(mean, std)\n",
    "    ]),\n",
    "}"
   ]
  },
  {
   "cell_type": "code",
   "execution_count": null,
   "metadata": {
    "ExecuteTime": {
     "end_time": "2022-03-26T20:41:23.420010Z",
     "start_time": "2022-03-26T20:41:23.356179Z"
    }
   },
   "outputs": [],
   "source": [
    "data_dir = 'data/hymenoptera_data'\n",
    "image_datasets = {x: datasets.ImageFolder(os.path.join(data_dir, x),\n",
    "                                          data_transforms[x])\n",
    "                  for x in ['train', 'val']}\n",
    "dataloaders = {x: torch.utils.data.DataLoader(image_datasets[x], batch_size=4,\n",
    "                                             shuffle=True, num_workers=0)\n",
    "              for x in ['train', 'val']}\n",
    "dataset_sizes = {x: len(image_datasets[x]) for x in ['train', 'val']}\n",
    "class_names = image_datasets['train'].classes"
   ]
  },
  {
   "cell_type": "code",
   "execution_count": 5,
   "metadata": {
    "ExecuteTime": {
     "end_time": "2022-03-27T18:39:56.175049Z",
     "start_time": "2022-03-27T18:39:56.109221Z"
    }
   },
   "outputs": [],
   "source": [
    "device = torch.device(\"cuda:0\" if torch.cuda.is_available() else \"cpu\")"
   ]
  },
  {
   "cell_type": "code",
   "execution_count": 26,
   "metadata": {
    "ExecuteTime": {
     "end_time": "2022-03-26T20:41:23.420010Z",
     "start_time": "2022-03-26T20:41:23.356179Z"
    }
   },
   "outputs": [
    {
     "ename": "FileNotFoundError",
     "evalue": "[WinError 3] Системе не удается найти указанный путь: 'data/hymenoptera_data\\\\train'",
     "output_type": "error",
     "traceback": [
      "\u001b[1;31m---------------------------------------------------------------------------\u001b[0m",
      "\u001b[1;31mFileNotFoundError\u001b[0m                         Traceback (most recent call last)",
      "\u001b[1;32m<ipython-input-26-fb6785caca38>\u001b[0m in \u001b[0;36m<module>\u001b[1;34m\u001b[0m\n\u001b[0;32m      1\u001b[0m \u001b[0mdata_dir\u001b[0m \u001b[1;33m=\u001b[0m \u001b[1;34m'data/hymenoptera_data'\u001b[0m\u001b[1;33m\u001b[0m\u001b[1;33m\u001b[0m\u001b[0m\n\u001b[1;32m----> 2\u001b[1;33m image_datasets = {x: datasets.ImageFolder(os.path.join(data_dir, x),\n\u001b[0m\u001b[0;32m      3\u001b[0m                                           data_transforms[x])\n\u001b[0;32m      4\u001b[0m                   for x in ['train', 'val']}\n\u001b[0;32m      5\u001b[0m dataloaders = {x: torch.utils.data.DataLoader(image_datasets[x], batch_size=4,\n",
      "\u001b[1;32m<ipython-input-26-fb6785caca38>\u001b[0m in \u001b[0;36m<dictcomp>\u001b[1;34m(.0)\u001b[0m\n\u001b[0;32m      1\u001b[0m \u001b[0mdata_dir\u001b[0m \u001b[1;33m=\u001b[0m \u001b[1;34m'data/hymenoptera_data'\u001b[0m\u001b[1;33m\u001b[0m\u001b[1;33m\u001b[0m\u001b[0m\n\u001b[1;32m----> 2\u001b[1;33m image_datasets = {x: datasets.ImageFolder(os.path.join(data_dir, x),\n\u001b[0m\u001b[0;32m      3\u001b[0m                                           data_transforms[x])\n\u001b[0;32m      4\u001b[0m                   for x in ['train', 'val']}\n\u001b[0;32m      5\u001b[0m dataloaders = {x: torch.utils.data.DataLoader(image_datasets[x], batch_size=4,\n",
      "\u001b[1;32m~\\anaconda3\\lib\\site-packages\\torchvision\\datasets\\folder.py\u001b[0m in \u001b[0;36m__init__\u001b[1;34m(self, root, transform, target_transform, loader, is_valid_file)\u001b[0m\n\u001b[0;32m    308\u001b[0m             \u001b[0mis_valid_file\u001b[0m\u001b[1;33m:\u001b[0m \u001b[0mOptional\u001b[0m\u001b[1;33m[\u001b[0m\u001b[0mCallable\u001b[0m\u001b[1;33m[\u001b[0m\u001b[1;33m[\u001b[0m\u001b[0mstr\u001b[0m\u001b[1;33m]\u001b[0m\u001b[1;33m,\u001b[0m \u001b[0mbool\u001b[0m\u001b[1;33m]\u001b[0m\u001b[1;33m]\u001b[0m \u001b[1;33m=\u001b[0m \u001b[1;32mNone\u001b[0m\u001b[1;33m,\u001b[0m\u001b[1;33m\u001b[0m\u001b[1;33m\u001b[0m\u001b[0m\n\u001b[0;32m    309\u001b[0m     ):\n\u001b[1;32m--> 310\u001b[1;33m         super(ImageFolder, self).__init__(root, loader, IMG_EXTENSIONS if is_valid_file is None else None,\n\u001b[0m\u001b[0;32m    311\u001b[0m                                           \u001b[0mtransform\u001b[0m\u001b[1;33m=\u001b[0m\u001b[0mtransform\u001b[0m\u001b[1;33m,\u001b[0m\u001b[1;33m\u001b[0m\u001b[1;33m\u001b[0m\u001b[0m\n\u001b[0;32m    312\u001b[0m                                           \u001b[0mtarget_transform\u001b[0m\u001b[1;33m=\u001b[0m\u001b[0mtarget_transform\u001b[0m\u001b[1;33m,\u001b[0m\u001b[1;33m\u001b[0m\u001b[1;33m\u001b[0m\u001b[0m\n",
      "\u001b[1;32m~\\anaconda3\\lib\\site-packages\\torchvision\\datasets\\folder.py\u001b[0m in \u001b[0;36m__init__\u001b[1;34m(self, root, loader, extensions, transform, target_transform, is_valid_file)\u001b[0m\n\u001b[0;32m    143\u001b[0m         super(DatasetFolder, self).__init__(root, transform=transform,\n\u001b[0;32m    144\u001b[0m                                             target_transform=target_transform)\n\u001b[1;32m--> 145\u001b[1;33m         \u001b[0mclasses\u001b[0m\u001b[1;33m,\u001b[0m \u001b[0mclass_to_idx\u001b[0m \u001b[1;33m=\u001b[0m \u001b[0mself\u001b[0m\u001b[1;33m.\u001b[0m\u001b[0mfind_classes\u001b[0m\u001b[1;33m(\u001b[0m\u001b[0mself\u001b[0m\u001b[1;33m.\u001b[0m\u001b[0mroot\u001b[0m\u001b[1;33m)\u001b[0m\u001b[1;33m\u001b[0m\u001b[1;33m\u001b[0m\u001b[0m\n\u001b[0m\u001b[0;32m    146\u001b[0m         \u001b[0msamples\u001b[0m \u001b[1;33m=\u001b[0m \u001b[0mself\u001b[0m\u001b[1;33m.\u001b[0m\u001b[0mmake_dataset\u001b[0m\u001b[1;33m(\u001b[0m\u001b[0mself\u001b[0m\u001b[1;33m.\u001b[0m\u001b[0mroot\u001b[0m\u001b[1;33m,\u001b[0m \u001b[0mclass_to_idx\u001b[0m\u001b[1;33m,\u001b[0m \u001b[0mextensions\u001b[0m\u001b[1;33m,\u001b[0m \u001b[0mis_valid_file\u001b[0m\u001b[1;33m)\u001b[0m\u001b[1;33m\u001b[0m\u001b[1;33m\u001b[0m\u001b[0m\n\u001b[0;32m    147\u001b[0m \u001b[1;33m\u001b[0m\u001b[0m\n",
      "\u001b[1;32m~\\anaconda3\\lib\\site-packages\\torchvision\\datasets\\folder.py\u001b[0m in \u001b[0;36mfind_classes\u001b[1;34m(self, directory)\u001b[0m\n\u001b[0;32m    219\u001b[0m             \u001b[1;33m(\u001b[0m\u001b[0mTuple\u001b[0m\u001b[1;33m[\u001b[0m\u001b[0mList\u001b[0m\u001b[1;33m[\u001b[0m\u001b[0mstr\u001b[0m\u001b[1;33m]\u001b[0m\u001b[1;33m,\u001b[0m \u001b[0mDict\u001b[0m\u001b[1;33m[\u001b[0m\u001b[0mstr\u001b[0m\u001b[1;33m,\u001b[0m \u001b[0mint\u001b[0m\u001b[1;33m]\u001b[0m\u001b[1;33m]\u001b[0m\u001b[1;33m)\u001b[0m\u001b[1;33m:\u001b[0m \u001b[0mList\u001b[0m \u001b[0mof\u001b[0m \u001b[0mall\u001b[0m \u001b[0mclasses\u001b[0m \u001b[1;32mand\u001b[0m \u001b[0mdictionary\u001b[0m \u001b[0mmapping\u001b[0m \u001b[0meach\u001b[0m \u001b[1;32mclass\u001b[0m \u001b[0mto\u001b[0m \u001b[0man\u001b[0m \u001b[0mindex\u001b[0m\u001b[1;33m.\u001b[0m\u001b[1;33m\u001b[0m\u001b[1;33m\u001b[0m\u001b[0m\n\u001b[0;32m    220\u001b[0m         \"\"\"\n\u001b[1;32m--> 221\u001b[1;33m         \u001b[1;32mreturn\u001b[0m \u001b[0mfind_classes\u001b[0m\u001b[1;33m(\u001b[0m\u001b[0mdirectory\u001b[0m\u001b[1;33m)\u001b[0m\u001b[1;33m\u001b[0m\u001b[1;33m\u001b[0m\u001b[0m\n\u001b[0m\u001b[0;32m    222\u001b[0m \u001b[1;33m\u001b[0m\u001b[0m\n\u001b[0;32m    223\u001b[0m     \u001b[1;32mdef\u001b[0m \u001b[0m__getitem__\u001b[0m\u001b[1;33m(\u001b[0m\u001b[0mself\u001b[0m\u001b[1;33m,\u001b[0m \u001b[0mindex\u001b[0m\u001b[1;33m:\u001b[0m \u001b[0mint\u001b[0m\u001b[1;33m)\u001b[0m \u001b[1;33m->\u001b[0m \u001b[0mTuple\u001b[0m\u001b[1;33m[\u001b[0m\u001b[0mAny\u001b[0m\u001b[1;33m,\u001b[0m \u001b[0mAny\u001b[0m\u001b[1;33m]\u001b[0m\u001b[1;33m:\u001b[0m\u001b[1;33m\u001b[0m\u001b[1;33m\u001b[0m\u001b[0m\n",
      "\u001b[1;32m~\\anaconda3\\lib\\site-packages\\torchvision\\datasets\\folder.py\u001b[0m in \u001b[0;36mfind_classes\u001b[1;34m(directory)\u001b[0m\n\u001b[0;32m     38\u001b[0m     \u001b[0mSee\u001b[0m \u001b[1;33m:\u001b[0m\u001b[1;32mclass\u001b[0m\u001b[1;33m:\u001b[0m\u001b[0;31m`\u001b[0m\u001b[0mDatasetFolder\u001b[0m\u001b[0;31m`\u001b[0m \u001b[1;32mfor\u001b[0m \u001b[0mdetails\u001b[0m\u001b[1;33m.\u001b[0m\u001b[1;33m\u001b[0m\u001b[1;33m\u001b[0m\u001b[0m\n\u001b[0;32m     39\u001b[0m     \"\"\"\n\u001b[1;32m---> 40\u001b[1;33m     \u001b[0mclasses\u001b[0m \u001b[1;33m=\u001b[0m \u001b[0msorted\u001b[0m\u001b[1;33m(\u001b[0m\u001b[0mentry\u001b[0m\u001b[1;33m.\u001b[0m\u001b[0mname\u001b[0m \u001b[1;32mfor\u001b[0m \u001b[0mentry\u001b[0m \u001b[1;32min\u001b[0m \u001b[0mos\u001b[0m\u001b[1;33m.\u001b[0m\u001b[0mscandir\u001b[0m\u001b[1;33m(\u001b[0m\u001b[0mdirectory\u001b[0m\u001b[1;33m)\u001b[0m \u001b[1;32mif\u001b[0m \u001b[0mentry\u001b[0m\u001b[1;33m.\u001b[0m\u001b[0mis_dir\u001b[0m\u001b[1;33m(\u001b[0m\u001b[1;33m)\u001b[0m\u001b[1;33m)\u001b[0m\u001b[1;33m\u001b[0m\u001b[1;33m\u001b[0m\u001b[0m\n\u001b[0m\u001b[0;32m     41\u001b[0m     \u001b[1;32mif\u001b[0m \u001b[1;32mnot\u001b[0m \u001b[0mclasses\u001b[0m\u001b[1;33m:\u001b[0m\u001b[1;33m\u001b[0m\u001b[1;33m\u001b[0m\u001b[0m\n\u001b[0;32m     42\u001b[0m         \u001b[1;32mraise\u001b[0m \u001b[0mFileNotFoundError\u001b[0m\u001b[1;33m(\u001b[0m\u001b[1;34mf\"Couldn't find any class folder in {directory}.\"\u001b[0m\u001b[1;33m)\u001b[0m\u001b[1;33m\u001b[0m\u001b[1;33m\u001b[0m\u001b[0m\n",
      "\u001b[1;31mFileNotFoundError\u001b[0m: [WinError 3] Системе не удается найти указанный путь: 'data/hymenoptera_data\\\\train'"
     ]
    }
   ],
   "source": [
    "print(class_names)"
   ]
  },
  {
   "cell_type": "code",
   "execution_count": null,
   "metadata": {},
   "outputs": [],
   "source": [
    "def imshow(inp, title):\n",
    "    \"\"\"Imshow for Tensor.\"\"\"\n",
    "    inp = inp.numpy().transpose((1, 2, 0))\n",
    "    inp = std * inp + mean\n",
    "    inp = np.clip(inp, 0, 1)\n",
    "    plt.imshow(inp)\n",
    "    plt.title(title)\n",
    "    plt.show()\n",
    "\n",
    "\n",
    "# Get a batch of training data\n",
    "inputs, classes = next(iter(dataloaders['train']))\n",
    "\n",
    "# Make a grid from batch\n",
    "out = torchvision.utils.make_grid(inputs)\n",
    "\n",
    "imshow(out, title=[class_names[x] for x in classes])\n",
    "\n",
    "def train_model(model, criterion, optimizer, scheduler, num_epochs=25):\n",
    "    since = time.time()\n",
    "\n",
    "    best_model_wts = copy.deepcopy(model.state_dict())\n",
    "    best_acc = 0.0\n",
    "\n",
    "    for epoch in range(num_epochs):\n",
    "        print('Epoch {}/{}'.format(epoch, num_epochs - 1))\n",
    "        print('-' * 10)\n",
    "\n",
    "        # Each epoch has a training and validation phase\n",
    "        for phase in ['train', 'val']:\n",
    "            if phase == 'train':\n",
    "                model.train()  # Set model to training mode\n",
    "            else:\n",
    "                model.eval()   # Set model to evaluate mode\n",
    "\n",
    "            running_loss = 0.0\n",
    "            running_corrects = 0\n",
    "\n",
    "            # Iterate over data.\n",
    "            for inputs, labels in dataloaders[phase]:\n",
    "                inputs = inputs.to(device)\n",
    "                labels = labels.to(device)\n",
    "\n",
    "                # forward\n",
    "                # track history if only in train\n",
    "                with torch.set_grad_enabled(phase == 'train'):\n",
    "                    outputs = model(inputs)\n",
    "                    _, preds = torch.max(outputs, 1)\n",
    "                    loss = criterion(outputs, labels)\n",
    "\n",
    "                    # backward + optimize only if in training phase\n",
    "                    if phase == 'train':\n",
    "                        optimizer.zero_grad()\n",
    "                        loss.backward()\n",
    "                        optimizer.step()\n",
    "\n",
    "                # statistics\n",
    "                running_loss += loss.item() * inputs.size(0)\n",
    "                running_corrects += torch.sum(preds == labels.data)\n",
    "\n",
    "            if phase == 'train':\n",
    "                scheduler.step()\n",
    "\n",
    "            epoch_loss = running_loss / dataset_sizes[phase]\n",
    "            epoch_acc = running_corrects.double() / dataset_sizes[phase]\n",
    "\n",
    "            print('{} Loss: {:.4f} Acc: {:.4f}'.format(\n",
    "                phase, epoch_loss, epoch_acc))\n",
    "\n",
    "            # deep copy the model\n",
    "            if phase == 'val' and epoch_acc > best_acc:\n",
    "                best_acc = epoch_acc\n",
    "                best_model_wts = copy.deepcopy(model.state_dict())\n",
    "\n",
    "        print()\n",
    "\n",
    "    time_elapsed = time.time() - since\n",
    "    print('Training complete in {:.0f}m {:.0f}s'.format(\n",
    "        time_elapsed // 60, time_elapsed % 60))\n",
    "    print('Best val Acc: {:4f}'.format(best_acc))\n",
    "\n",
    "    # load best model weights\n",
    "    model.load_state_dict(best_model_wts)\n",
    "    return model"
   ]
  },
  {
   "cell_type": "code",
   "execution_count": 2,
   "metadata": {
    "ExecuteTime": {
     "end_time": "2022-03-27T16:39:53.887111Z",
     "start_time": "2022-03-27T16:39:46.275484Z"
    }
   },
   "outputs": [
    {
     "name": "stderr",
     "output_type": "stream",
     "text": [
      "Downloading: \"https://download.pytorch.org/models/resnet18-f37072fd.pth\" to C:\\Users\\erik6/.cache\\torch\\hub\\checkpoints\\resnet18-f37072fd.pth\n"
     ]
    },
    {
     "data": {
      "application/vnd.jupyter.widget-view+json": {
       "model_id": "c88dd3c0e3614326adced21fd8b93411",
       "version_major": 2,
       "version_minor": 0
      },
      "text/plain": [
       "HBox(children=(HTML(value=''), FloatProgress(value=0.0, max=46830571.0), HTML(value='')))"
      ]
     },
     "metadata": {},
     "output_type": "display_data"
    },
    {
     "name": "stdout",
     "output_type": "stream",
     "text": [
      "\n"
     ]
    }
   ],
   "source": [
    "#### Finetuning the convnet ####\n",
    "# Load a pretrained model and reset final fully connected layer.\n",
    "\n",
    "model = models.resnet18(pretrained=True)\n",
    "num_ftrs = model.fc.in_features\n",
    "# Here the size of each output sample is set to 2.\n",
    "# Alternatively, it can be generalized to nn.Linear(num_ftrs, len(class_names))."
   ]
  },
  {
   "cell_type": "code",
   "execution_count": 3,
   "metadata": {
    "ExecuteTime": {
     "end_time": "2022-03-27T16:40:00.466504Z",
     "start_time": "2022-03-27T16:40:00.452542Z"
    }
   },
   "outputs": [
    {
     "data": {
      "text/plain": [
       "512"
      ]
     },
     "execution_count": 3,
     "metadata": {},
     "output_type": "execute_result"
    }
   ],
   "source": [
    "model.fc."
   ]
  },
  {
   "cell_type": "code",
   "execution_count": 6,
   "metadata": {
    "ExecuteTime": {
     "end_time": "2022-03-27T18:40:01.256827Z",
     "start_time": "2022-03-27T18:40:00.971590Z"
    }
   },
   "outputs": [],
   "source": [
    "model.fc = nn.Linear(num_ftrs, 2)\n",
    "\n",
    "model = model.to(device)\n",
    "\n",
    "criterion = nn.CrossEntropyLoss()\n",
    "\n",
    "# Observe that all parameters are being optimized\n",
    "optimizer = optim.SGD(model.parameters(), lr=0.001)"
   ]
  },
  {
   "cell_type": "code",
   "execution_count": null,
   "metadata": {},
   "outputs": [],
   "source": [
    "# StepLR Decays the learning rate of each parameter group by gamma every step_size epochs\n",
    "# Decay LR by a factor of 0.1 every 7 epochs\n",
    "# Learning rate scheduling should be applied after optimizer’s update\n",
    "# e.g., you should write your code this way:\n",
    "# for epoch in range(100):\n",
    "#     train(...)\n",
    "#     validate(...)\n",
    "#     scheduler.step()\n",
    "\n",
    "step_lr_scheduler = lr_scheduler.StepLR(optimizer, step_size=7, gamma=0.1)\n",
    "\n",
    "model = train_model(model, criterion, optimizer, step_lr_scheduler, num_epochs=25)\n",
    "\n",
    "\n",
    "#### ConvNet as fixed feature extractor ####\n",
    "# Here, we need to freeze all the network except the final layer.\n",
    "# We need to set requires_grad == False to freeze the parameters so that the gradients are not computed in backward()\n",
    "model_conv = torchvision.models.resnet18(pretrained=True)\n",
    "for param in model_conv.parameters():\n",
    "    param.requires_grad = False\n",
    "\n",
    "# Parameters of newly constructed modules have requires_grad=True by default\n",
    "num_ftrs = model_conv.fc.in_features\n",
    "model_conv.fc = nn.Linear(num_ftrs, 2)\n",
    "\n",
    "model_conv = model_conv.to(device)\n",
    "\n",
    "criterion = nn.CrossEntropyLoss()\n",
    "\n",
    "# Observe that only parameters of final layer are being optimized as\n",
    "# opposed to before.\n",
    "optimizer_conv = optim.SGD(model_conv.fc.parameters(), lr=0.001, momentum=0.9)\n",
    "\n",
    "# Decay LR by a factor of 0.1 every 7 epochs\n",
    "exp_lr_scheduler = lr_scheduler.StepLR(optimizer_conv, step_size=7, gamma=0.1)\n",
    "\n",
    "model_conv = train_model(model_conv, criterion, optimizer_conv,\n",
    "                         exp_lr_scheduler, num_epochs=25)"
   ]
  },
  {
   "cell_type": "markdown",
   "metadata": {},
   "source": [
    "## Tensorboard"
   ]
  },
  {
   "cell_type": "code",
   "execution_count": 22,
   "metadata": {
    "ExecuteTime": {
     "end_time": "2022-03-28T10:08:35.416372Z",
     "start_time": "2022-03-28T10:08:35.403407Z"
    }
   },
   "outputs": [],
   "source": [
    "import torch\n",
    "import torch.nn as nn\n",
    "import torchvision\n",
    "import torchvision.transforms as transforms\n",
    "import matplotlib.pyplot as plt"
   ]
  },
  {
   "cell_type": "code",
   "execution_count": 23,
   "metadata": {
    "ExecuteTime": {
     "end_time": "2022-03-28T10:08:35.743513Z",
     "start_time": "2022-03-28T10:08:35.737529Z"
    }
   },
   "outputs": [],
   "source": [
    "############## TENSORBOARD ########################\n",
    "import sys\n",
    "import torch.nn.functional as F\n",
    "from torch.utils.tensorboard import SummaryWriter\n",
    "# default `log_dir` is \"runs\" - we'll be more specific here\n",
    "writer = SummaryWriter('runs/mnist1')\n",
    "###################################################"
   ]
  },
  {
   "cell_type": "code",
   "execution_count": 27,
   "metadata": {
    "ExecuteTime": {
     "end_time": "2022-03-28T10:09:10.461089Z",
     "start_time": "2022-03-28T10:09:10.452113Z"
    }
   },
   "outputs": [
    {
     "data": {
      "text/plain": [
       "True"
      ]
     },
     "execution_count": 27,
     "metadata": {},
     "output_type": "execute_result"
    }
   ],
   "source": [
    "torch.cuda.is_available()"
   ]
  },
  {
   "cell_type": "code",
   "execution_count": 29,
   "metadata": {
    "ExecuteTime": {
     "end_time": "2022-03-28T10:09:45.479897Z",
     "start_time": "2022-03-28T10:09:45.465936Z"
    }
   },
   "outputs": [],
   "source": [
    "device = torch.device('cuda' if torch.cuda.is_available() else 'cpu')"
   ]
  },
  {
   "cell_type": "code",
   "execution_count": 30,
   "metadata": {
    "ExecuteTime": {
     "end_time": "2022-03-28T10:09:45.761145Z",
     "start_time": "2022-03-28T10:09:45.744192Z"
    }
   },
   "outputs": [
    {
     "data": {
      "text/plain": [
       "device(type='cuda')"
      ]
     },
     "execution_count": 30,
     "metadata": {},
     "output_type": "execute_result"
    }
   ],
   "source": [
    "device"
   ]
  },
  {
   "cell_type": "code",
   "execution_count": 15,
   "metadata": {
    "ExecuteTime": {
     "end_time": "2022-03-28T10:07:38.687495Z",
     "start_time": "2022-03-28T10:07:38.682511Z"
    }
   },
   "outputs": [],
   "source": [
    "\n",
    "# Hyper-parameters \n",
    "input_size = 784 # 28x28\n",
    "hidden_size = 500 \n",
    "num_classes = 10\n",
    "num_epochs = 1\n",
    "batch_size = 64\n",
    "learning_rate = 0.001"
   ]
  },
  {
   "cell_type": "code",
   "execution_count": 31,
   "metadata": {
    "ExecuteTime": {
     "end_time": "2022-03-28T10:09:48.714895Z",
     "start_time": "2022-03-28T10:09:48.330923Z"
    }
   },
   "outputs": [
    {
     "data": {
      "image/png": "[encoded data removed]",
      "text/plain": [
       "<Figure size 432x288 with 6 Axes>"
      ]
     },
     "metadata": {
      "needs_background": "light"
     },
     "output_type": "display_data"
    }
   ],
   "source": [
    "# MNIST dataset \n",
    "train_dataset = torchvision.datasets.MNIST(root='./data', \n",
    "                                           train=True, \n",
    "                                           transform=transforms.ToTensor(),  \n",
    "                                           download=True)\n",
    "\n",
    "test_dataset = torchvision.datasets.MNIST(root='./data', \n",
    "                                          train=False, \n",
    "                                          transform=transforms.ToTensor())\n",
    "\n",
    "# Data loader\n",
    "train_loader = torch.utils.data.DataLoader(dataset=train_dataset, \n",
    "                                           batch_size=batch_size, \n",
    "                                           shuffle=True)\n",
    "\n",
    "test_loader = torch.utils.data.DataLoader(dataset=test_dataset, \n",
    "                                          batch_size=batch_size, \n",
    "                                          shuffle=False)\n",
    "\n",
    "examples = iter(test_loader)\n",
    "example_data, example_targets = examples.next()\n",
    "\n",
    "for i in range(6):\n",
    "    plt.subplot(2,3,i+1)\n",
    "    plt.imshow(example_data[i][0], cmap='gray')\n",
    "#plt.show()"
   ]
  },
  {
   "cell_type": "code",
   "execution_count": 32,
   "metadata": {
    "ExecuteTime": {
     "end_time": "2022-03-28T10:09:49.820305Z",
     "start_time": "2022-03-28T10:09:49.790387Z"
    }
   },
   "outputs": [],
   "source": [
    "############## TENSORBOARD ########################\n",
    "img_grid = torchvision.utils.make_grid(example_data)\n",
    "writer.add_image('mnist_images', img_grid)\n",
    "#writer.close()\n",
    "#sys.exit()\n",
    "###################################################"
   ]
  },
  {
   "cell_type": "code",
   "execution_count": 35,
   "metadata": {
    "ExecuteTime": {
     "end_time": "2022-03-28T10:12:52.044693Z",
     "start_time": "2022-03-28T10:12:52.036713Z"
    }
   },
   "outputs": [],
   "source": [
    "# Fully connected neural network with one hidden layer\n",
    "class NeuralNet(nn.Module):\n",
    "    def __init__(self, input_size, hidden_size, num_classes):\n",
    "        super(NeuralNet, self).__init__()\n",
    "        self.input_size = input_size\n",
    "        self.l1 = nn.Linear(input_size, hidden_size) \n",
    "        self.relu = nn.ReLU()\n",
    "        self.l2 = nn.Linear(hidden_size, num_classes)  \n",
    "    \n",
    "    def forward(self, x):\n",
    "        out = self.l1(x)\n",
    "        out = self.relu(out)\n",
    "        out = self.l2(out)\n",
    "        # no activation and no softmax at the end\n",
    "        return out\n",
    "\n",
    "model = NeuralNet(input_size, hidden_size, num_classes)"
   ]
  },
  {
   "cell_type": "code",
   "execution_count": 36,
   "metadata": {
    "ExecuteTime": {
     "end_time": "2022-03-28T10:12:54.783392Z",
     "start_time": "2022-03-28T10:12:54.582927Z"
    }
   },
   "outputs": [],
   "source": [
    "# Loss and optimizer\n",
    "criterion = nn.CrossEntropyLoss()\n",
    "optimizer = torch.optim.Adam(model.parameters(), lr=learning_rate)  \n",
    "\n",
    "############## TENSORBOARD ########################\n",
    "writer.add_graph(model, example_data.reshape(-1, 28*28))\n",
    "#writer.close()\n",
    "#sys.exit()\n",
    "###################################################"
   ]
  },
  {
   "cell_type": "code",
   "execution_count": 18,
   "metadata": {
    "ExecuteTime": {
     "end_time": "2022-03-28T10:07:42.277861Z",
     "start_time": "2022-03-28T10:07:42.196079Z"
    }
   },
   "outputs": [
    {
     "name": "stdout",
     "output_type": "stream",
     "text": [
      "Expected all tensors to be on the same device, but found at least two devices, cuda:0 and cpu! (when checking argument for argument mat1 in method wrapper_addmm)\n",
      "Error occurs, No graph saved\n"
     ]
    },
    {
     "ename": "RuntimeError",
     "evalue": "Expected all tensors to be on the same device, but found at least two devices, cuda:0 and cpu! (when checking argument for argument mat1 in method wrapper_addmm)",
     "output_type": "error",
     "traceback": [
      "\u001b[1;31m---------------------------------------------------------------------------\u001b[0m",
      "\u001b[1;31mRuntimeError\u001b[0m                              Traceback (most recent call last)",
      "\u001b[1;32m<ipython-input-18-a90884fd183d>\u001b[0m in \u001b[0;36m<module>\u001b[1;34m\u001b[0m\n\u001b[0;32m     22\u001b[0m \u001b[1;33m\u001b[0m\u001b[0m\n\u001b[0;32m     23\u001b[0m \u001b[1;31m############## TENSORBOARD ########################\u001b[0m\u001b[1;33m\u001b[0m\u001b[1;33m\u001b[0m\u001b[1;33m\u001b[0m\u001b[0m\n\u001b[1;32m---> 24\u001b[1;33m \u001b[0mwriter\u001b[0m\u001b[1;33m.\u001b[0m\u001b[0madd_graph\u001b[0m\u001b[1;33m(\u001b[0m\u001b[0mmodel\u001b[0m\u001b[1;33m,\u001b[0m \u001b[0mexample_data\u001b[0m\u001b[1;33m.\u001b[0m\u001b[0mreshape\u001b[0m\u001b[1;33m(\u001b[0m\u001b[1;33m-\u001b[0m\u001b[1;36m1\u001b[0m\u001b[1;33m,\u001b[0m \u001b[1;36m28\u001b[0m\u001b[1;33m*\u001b[0m\u001b[1;36m28\u001b[0m\u001b[1;33m)\u001b[0m\u001b[1;33m)\u001b[0m\u001b[1;33m\u001b[0m\u001b[1;33m\u001b[0m\u001b[0m\n\u001b[0m\u001b[0;32m     25\u001b[0m \u001b[1;31m#writer.close()\u001b[0m\u001b[1;33m\u001b[0m\u001b[1;33m\u001b[0m\u001b[1;33m\u001b[0m\u001b[0m\n\u001b[0;32m     26\u001b[0m \u001b[1;31m#sys.exit()\u001b[0m\u001b[1;33m\u001b[0m\u001b[1;33m\u001b[0m\u001b[1;33m\u001b[0m\u001b[0m\n",
      "\u001b[1;32m~\\anaconda3\\lib\\site-packages\\torch\\utils\\tensorboard\\writer.py\u001b[0m in \u001b[0;36madd_graph\u001b[1;34m(self, model, input_to_model, verbose, use_strict_trace)\u001b[0m\n\u001b[0;32m    734\u001b[0m         \u001b[1;32mif\u001b[0m \u001b[0mhasattr\u001b[0m\u001b[1;33m(\u001b[0m\u001b[0mmodel\u001b[0m\u001b[1;33m,\u001b[0m \u001b[1;34m'forward'\u001b[0m\u001b[1;33m)\u001b[0m\u001b[1;33m:\u001b[0m\u001b[1;33m\u001b[0m\u001b[1;33m\u001b[0m\u001b[0m\n\u001b[0;32m    735\u001b[0m             \u001b[1;31m# A valid PyTorch model should have a 'forward' method\u001b[0m\u001b[1;33m\u001b[0m\u001b[1;33m\u001b[0m\u001b[1;33m\u001b[0m\u001b[0m\n\u001b[1;32m--> 736\u001b[1;33m             \u001b[0mself\u001b[0m\u001b[1;33m.\u001b[0m\u001b[0m_get_file_writer\u001b[0m\u001b[1;33m(\u001b[0m\u001b[1;33m)\u001b[0m\u001b[1;33m.\u001b[0m\u001b[0madd_graph\u001b[0m\u001b[1;33m(\u001b[0m\u001b[0mgraph\u001b[0m\u001b[1;33m(\u001b[0m\u001b[0mmodel\u001b[0m\u001b[1;33m,\u001b[0m \u001b[0minput_to_model\u001b[0m\u001b[1;33m,\u001b[0m \u001b[0mverbose\u001b[0m\u001b[1;33m,\u001b[0m \u001b[0muse_strict_trace\u001b[0m\u001b[1;33m)\u001b[0m\u001b[1;33m)\u001b[0m\u001b[1;33m\u001b[0m\u001b[1;33m\u001b[0m\u001b[0m\n\u001b[0m\u001b[0;32m    737\u001b[0m         \u001b[1;32melse\u001b[0m\u001b[1;33m:\u001b[0m\u001b[1;33m\u001b[0m\u001b[1;33m\u001b[0m\u001b[0m\n\u001b[0;32m    738\u001b[0m             \u001b[1;31m# Caffe2 models do not have the 'forward' method\u001b[0m\u001b[1;33m\u001b[0m\u001b[1;33m\u001b[0m\u001b[1;33m\u001b[0m\u001b[0m\n",
      "\u001b[1;32m~\\anaconda3\\lib\\site-packages\\torch\\utils\\tensorboard\\_pytorch_graph.py\u001b[0m in \u001b[0;36mgraph\u001b[1;34m(model, args, verbose, use_strict_trace)\u001b[0m\n\u001b[0;32m    293\u001b[0m             \u001b[0mprint\u001b[0m\u001b[1;33m(\u001b[0m\u001b[0me\u001b[0m\u001b[1;33m)\u001b[0m\u001b[1;33m\u001b[0m\u001b[1;33m\u001b[0m\u001b[0m\n\u001b[0;32m    294\u001b[0m             \u001b[0mprint\u001b[0m\u001b[1;33m(\u001b[0m\u001b[1;34m'Error occurs, No graph saved'\u001b[0m\u001b[1;33m)\u001b[0m\u001b[1;33m\u001b[0m\u001b[1;33m\u001b[0m\u001b[0m\n\u001b[1;32m--> 295\u001b[1;33m             \u001b[1;32mraise\u001b[0m \u001b[0me\u001b[0m\u001b[1;33m\u001b[0m\u001b[1;33m\u001b[0m\u001b[0m\n\u001b[0m\u001b[0;32m    296\u001b[0m \u001b[1;33m\u001b[0m\u001b[0m\n\u001b[0;32m    297\u001b[0m     \u001b[1;32mif\u001b[0m \u001b[0mverbose\u001b[0m\u001b[1;33m:\u001b[0m\u001b[1;33m\u001b[0m\u001b[1;33m\u001b[0m\u001b[0m\n",
      "\u001b[1;32m~\\anaconda3\\lib\\site-packages\\torch\\utils\\tensorboard\\_pytorch_graph.py\u001b[0m in \u001b[0;36mgraph\u001b[1;34m(model, args, verbose, use_strict_trace)\u001b[0m\n\u001b[0;32m    287\u001b[0m     \u001b[1;32mwith\u001b[0m \u001b[0mtorch\u001b[0m\u001b[1;33m.\u001b[0m\u001b[0monnx\u001b[0m\u001b[1;33m.\u001b[0m\u001b[0mselect_model_mode_for_export\u001b[0m\u001b[1;33m(\u001b[0m\u001b[0mmodel\u001b[0m\u001b[1;33m,\u001b[0m \u001b[0mtorch\u001b[0m\u001b[1;33m.\u001b[0m\u001b[0monnx\u001b[0m\u001b[1;33m.\u001b[0m\u001b[0mTrainingMode\u001b[0m\u001b[1;33m.\u001b[0m\u001b[0mEVAL\u001b[0m\u001b[1;33m)\u001b[0m\u001b[1;33m:\u001b[0m  \u001b[1;31m# TODO: move outside of torch.onnx?\u001b[0m\u001b[1;33m\u001b[0m\u001b[1;33m\u001b[0m\u001b[0m\n\u001b[0;32m    288\u001b[0m         \u001b[1;32mtry\u001b[0m\u001b[1;33m:\u001b[0m\u001b[1;33m\u001b[0m\u001b[1;33m\u001b[0m\u001b[0m\n\u001b[1;32m--> 289\u001b[1;33m             \u001b[0mtrace\u001b[0m \u001b[1;33m=\u001b[0m \u001b[0mtorch\u001b[0m\u001b[1;33m.\u001b[0m\u001b[0mjit\u001b[0m\u001b[1;33m.\u001b[0m\u001b[0mtrace\u001b[0m\u001b[1;33m(\u001b[0m\u001b[0mmodel\u001b[0m\u001b[1;33m,\u001b[0m \u001b[0margs\u001b[0m\u001b[1;33m,\u001b[0m \u001b[0mstrict\u001b[0m\u001b[1;33m=\u001b[0m\u001b[0muse_strict_trace\u001b[0m\u001b[1;33m)\u001b[0m\u001b[1;33m\u001b[0m\u001b[1;33m\u001b[0m\u001b[0m\n\u001b[0m\u001b[0;32m    290\u001b[0m             \u001b[0mgraph\u001b[0m \u001b[1;33m=\u001b[0m \u001b[0mtrace\u001b[0m\u001b[1;33m.\u001b[0m\u001b[0mgraph\u001b[0m\u001b[1;33m\u001b[0m\u001b[1;33m\u001b[0m\u001b[0m\n\u001b[0;32m    291\u001b[0m             \u001b[0mtorch\u001b[0m\u001b[1;33m.\u001b[0m\u001b[0m_C\u001b[0m\u001b[1;33m.\u001b[0m\u001b[0m_jit_pass_inline\u001b[0m\u001b[1;33m(\u001b[0m\u001b[0mgraph\u001b[0m\u001b[1;33m)\u001b[0m\u001b[1;33m\u001b[0m\u001b[1;33m\u001b[0m\u001b[0m\n",
      "\u001b[1;32m~\\anaconda3\\lib\\site-packages\\torch\\jit\\_trace.py\u001b[0m in \u001b[0;36mtrace\u001b[1;34m(func, example_inputs, optimize, check_trace, check_inputs, check_tolerance, strict, _force_outplace, _module_class, _compilation_unit)\u001b[0m\n\u001b[0;32m    739\u001b[0m \u001b[1;33m\u001b[0m\u001b[0m\n\u001b[0;32m    740\u001b[0m     \u001b[1;32mif\u001b[0m \u001b[0misinstance\u001b[0m\u001b[1;33m(\u001b[0m\u001b[0mfunc\u001b[0m\u001b[1;33m,\u001b[0m \u001b[0mtorch\u001b[0m\u001b[1;33m.\u001b[0m\u001b[0mnn\u001b[0m\u001b[1;33m.\u001b[0m\u001b[0mModule\u001b[0m\u001b[1;33m)\u001b[0m\u001b[1;33m:\u001b[0m\u001b[1;33m\u001b[0m\u001b[1;33m\u001b[0m\u001b[0m\n\u001b[1;32m--> 741\u001b[1;33m         return trace_module(\n\u001b[0m\u001b[0;32m    742\u001b[0m             \u001b[0mfunc\u001b[0m\u001b[1;33m,\u001b[0m\u001b[1;33m\u001b[0m\u001b[1;33m\u001b[0m\u001b[0m\n\u001b[0;32m    743\u001b[0m             \u001b[1;33m{\u001b[0m\u001b[1;34m\"forward\"\u001b[0m\u001b[1;33m:\u001b[0m \u001b[0mexample_inputs\u001b[0m\u001b[1;33m}\u001b[0m\u001b[1;33m,\u001b[0m\u001b[1;33m\u001b[0m\u001b[1;33m\u001b[0m\u001b[0m\n",
      "\u001b[1;32m~\\anaconda3\\lib\\site-packages\\torch\\jit\\_trace.py\u001b[0m in \u001b[0;36mtrace_module\u001b[1;34m(mod, inputs, optimize, check_trace, check_inputs, check_tolerance, strict, _force_outplace, _module_class, _compilation_unit)\u001b[0m\n\u001b[0;32m    956\u001b[0m             \u001b[0mexample_inputs\u001b[0m \u001b[1;33m=\u001b[0m \u001b[0mmake_tuple\u001b[0m\u001b[1;33m(\u001b[0m\u001b[0mexample_inputs\u001b[0m\u001b[1;33m)\u001b[0m\u001b[1;33m\u001b[0m\u001b[1;33m\u001b[0m\u001b[0m\n\u001b[0;32m    957\u001b[0m \u001b[1;33m\u001b[0m\u001b[0m\n\u001b[1;32m--> 958\u001b[1;33m             module._c._create_method_from_trace(\n\u001b[0m\u001b[0;32m    959\u001b[0m                 \u001b[0mmethod_name\u001b[0m\u001b[1;33m,\u001b[0m\u001b[1;33m\u001b[0m\u001b[1;33m\u001b[0m\u001b[0m\n\u001b[0;32m    960\u001b[0m                 \u001b[0mfunc\u001b[0m\u001b[1;33m,\u001b[0m\u001b[1;33m\u001b[0m\u001b[1;33m\u001b[0m\u001b[0m\n",
      "\u001b[1;32m~\\anaconda3\\lib\\site-packages\\torch\\nn\\modules\\module.py\u001b[0m in \u001b[0;36m_call_impl\u001b[1;34m(self, *input, **kwargs)\u001b[0m\n\u001b[0;32m   1100\u001b[0m         if not (self._backward_hooks or self._forward_hooks or self._forward_pre_hooks or _global_backward_hooks\n\u001b[0;32m   1101\u001b[0m                 or _global_forward_hooks or _global_forward_pre_hooks):\n\u001b[1;32m-> 1102\u001b[1;33m             \u001b[1;32mreturn\u001b[0m \u001b[0mforward_call\u001b[0m\u001b[1;33m(\u001b[0m\u001b[1;33m*\u001b[0m\u001b[0minput\u001b[0m\u001b[1;33m,\u001b[0m \u001b[1;33m**\u001b[0m\u001b[0mkwargs\u001b[0m\u001b[1;33m)\u001b[0m\u001b[1;33m\u001b[0m\u001b[1;33m\u001b[0m\u001b[0m\n\u001b[0m\u001b[0;32m   1103\u001b[0m         \u001b[1;31m# Do not call functions when jit is used\u001b[0m\u001b[1;33m\u001b[0m\u001b[1;33m\u001b[0m\u001b[1;33m\u001b[0m\u001b[0m\n\u001b[0;32m   1104\u001b[0m         \u001b[0mfull_backward_hooks\u001b[0m\u001b[1;33m,\u001b[0m \u001b[0mnon_full_backward_hooks\u001b[0m \u001b[1;33m=\u001b[0m \u001b[1;33m[\u001b[0m\u001b[1;33m]\u001b[0m\u001b[1;33m,\u001b[0m \u001b[1;33m[\u001b[0m\u001b[1;33m]\u001b[0m\u001b[1;33m\u001b[0m\u001b[1;33m\u001b[0m\u001b[0m\n",
      "\u001b[1;32m~\\anaconda3\\lib\\site-packages\\torch\\nn\\modules\\module.py\u001b[0m in \u001b[0;36m_slow_forward\u001b[1;34m(self, *input, **kwargs)\u001b[0m\n\u001b[0;32m   1088\u001b[0m                 \u001b[0mrecording_scopes\u001b[0m \u001b[1;33m=\u001b[0m \u001b[1;32mFalse\u001b[0m\u001b[1;33m\u001b[0m\u001b[1;33m\u001b[0m\u001b[0m\n\u001b[0;32m   1089\u001b[0m         \u001b[1;32mtry\u001b[0m\u001b[1;33m:\u001b[0m\u001b[1;33m\u001b[0m\u001b[1;33m\u001b[0m\u001b[0m\n\u001b[1;32m-> 1090\u001b[1;33m             \u001b[0mresult\u001b[0m \u001b[1;33m=\u001b[0m \u001b[0mself\u001b[0m\u001b[1;33m.\u001b[0m\u001b[0mforward\u001b[0m\u001b[1;33m(\u001b[0m\u001b[1;33m*\u001b[0m\u001b[0minput\u001b[0m\u001b[1;33m,\u001b[0m \u001b[1;33m**\u001b[0m\u001b[0mkwargs\u001b[0m\u001b[1;33m)\u001b[0m\u001b[1;33m\u001b[0m\u001b[1;33m\u001b[0m\u001b[0m\n\u001b[0m\u001b[0;32m   1091\u001b[0m         \u001b[1;32mfinally\u001b[0m\u001b[1;33m:\u001b[0m\u001b[1;33m\u001b[0m\u001b[1;33m\u001b[0m\u001b[0m\n\u001b[0;32m   1092\u001b[0m             \u001b[1;32mif\u001b[0m \u001b[0mrecording_scopes\u001b[0m\u001b[1;33m:\u001b[0m\u001b[1;33m\u001b[0m\u001b[1;33m\u001b[0m\u001b[0m\n",
      "\u001b[1;32m<ipython-input-18-a90884fd183d>\u001b[0m in \u001b[0;36mforward\u001b[1;34m(self, x)\u001b[0m\n\u001b[0;32m      9\u001b[0m \u001b[1;33m\u001b[0m\u001b[0m\n\u001b[0;32m     10\u001b[0m     \u001b[1;32mdef\u001b[0m \u001b[0mforward\u001b[0m\u001b[1;33m(\u001b[0m\u001b[0mself\u001b[0m\u001b[1;33m,\u001b[0m \u001b[0mx\u001b[0m\u001b[1;33m)\u001b[0m\u001b[1;33m:\u001b[0m\u001b[1;33m\u001b[0m\u001b[1;33m\u001b[0m\u001b[0m\n\u001b[1;32m---> 11\u001b[1;33m         \u001b[0mout\u001b[0m \u001b[1;33m=\u001b[0m \u001b[0mself\u001b[0m\u001b[1;33m.\u001b[0m\u001b[0ml1\u001b[0m\u001b[1;33m(\u001b[0m\u001b[0mx\u001b[0m\u001b[1;33m)\u001b[0m\u001b[1;33m\u001b[0m\u001b[1;33m\u001b[0m\u001b[0m\n\u001b[0m\u001b[0;32m     12\u001b[0m         \u001b[0mout\u001b[0m \u001b[1;33m=\u001b[0m \u001b[0mself\u001b[0m\u001b[1;33m.\u001b[0m\u001b[0mrelu\u001b[0m\u001b[1;33m(\u001b[0m\u001b[0mout\u001b[0m\u001b[1;33m)\u001b[0m\u001b[1;33m\u001b[0m\u001b[1;33m\u001b[0m\u001b[0m\n\u001b[0;32m     13\u001b[0m         \u001b[0mout\u001b[0m \u001b[1;33m=\u001b[0m \u001b[0mself\u001b[0m\u001b[1;33m.\u001b[0m\u001b[0ml2\u001b[0m\u001b[1;33m(\u001b[0m\u001b[0mout\u001b[0m\u001b[1;33m)\u001b[0m\u001b[1;33m\u001b[0m\u001b[1;33m\u001b[0m\u001b[0m\n",
      "\u001b[1;32m~\\anaconda3\\lib\\site-packages\\torch\\nn\\modules\\module.py\u001b[0m in \u001b[0;36m_call_impl\u001b[1;34m(self, *input, **kwargs)\u001b[0m\n\u001b[0;32m   1100\u001b[0m         if not (self._backward_hooks or self._forward_hooks or self._forward_pre_hooks or _global_backward_hooks\n\u001b[0;32m   1101\u001b[0m                 or _global_forward_hooks or _global_forward_pre_hooks):\n\u001b[1;32m-> 1102\u001b[1;33m             \u001b[1;32mreturn\u001b[0m \u001b[0mforward_call\u001b[0m\u001b[1;33m(\u001b[0m\u001b[1;33m*\u001b[0m\u001b[0minput\u001b[0m\u001b[1;33m,\u001b[0m \u001b[1;33m**\u001b[0m\u001b[0mkwargs\u001b[0m\u001b[1;33m)\u001b[0m\u001b[1;33m\u001b[0m\u001b[1;33m\u001b[0m\u001b[0m\n\u001b[0m\u001b[0;32m   1103\u001b[0m         \u001b[1;31m# Do not call functions when jit is used\u001b[0m\u001b[1;33m\u001b[0m\u001b[1;33m\u001b[0m\u001b[1;33m\u001b[0m\u001b[0m\n\u001b[0;32m   1104\u001b[0m         \u001b[0mfull_backward_hooks\u001b[0m\u001b[1;33m,\u001b[0m \u001b[0mnon_full_backward_hooks\u001b[0m \u001b[1;33m=\u001b[0m \u001b[1;33m[\u001b[0m\u001b[1;33m]\u001b[0m\u001b[1;33m,\u001b[0m \u001b[1;33m[\u001b[0m\u001b[1;33m]\u001b[0m\u001b[1;33m\u001b[0m\u001b[1;33m\u001b[0m\u001b[0m\n",
      "\u001b[1;32m~\\anaconda3\\lib\\site-packages\\torch\\nn\\modules\\module.py\u001b[0m in \u001b[0;36m_slow_forward\u001b[1;34m(self, *input, **kwargs)\u001b[0m\n\u001b[0;32m   1088\u001b[0m                 \u001b[0mrecording_scopes\u001b[0m \u001b[1;33m=\u001b[0m \u001b[1;32mFalse\u001b[0m\u001b[1;33m\u001b[0m\u001b[1;33m\u001b[0m\u001b[0m\n\u001b[0;32m   1089\u001b[0m         \u001b[1;32mtry\u001b[0m\u001b[1;33m:\u001b[0m\u001b[1;33m\u001b[0m\u001b[1;33m\u001b[0m\u001b[0m\n\u001b[1;32m-> 1090\u001b[1;33m             \u001b[0mresult\u001b[0m \u001b[1;33m=\u001b[0m \u001b[0mself\u001b[0m\u001b[1;33m.\u001b[0m\u001b[0mforward\u001b[0m\u001b[1;33m(\u001b[0m\u001b[1;33m*\u001b[0m\u001b[0minput\u001b[0m\u001b[1;33m,\u001b[0m \u001b[1;33m**\u001b[0m\u001b[0mkwargs\u001b[0m\u001b[1;33m)\u001b[0m\u001b[1;33m\u001b[0m\u001b[1;33m\u001b[0m\u001b[0m\n\u001b[0m\u001b[0;32m   1091\u001b[0m         \u001b[1;32mfinally\u001b[0m\u001b[1;33m:\u001b[0m\u001b[1;33m\u001b[0m\u001b[1;33m\u001b[0m\u001b[0m\n\u001b[0;32m   1092\u001b[0m             \u001b[1;32mif\u001b[0m \u001b[0mrecording_scopes\u001b[0m\u001b[1;33m:\u001b[0m\u001b[1;33m\u001b[0m\u001b[1;33m\u001b[0m\u001b[0m\n",
      "\u001b[1;32m~\\anaconda3\\lib\\site-packages\\torch\\nn\\modules\\linear.py\u001b[0m in \u001b[0;36mforward\u001b[1;34m(self, input)\u001b[0m\n\u001b[0;32m    101\u001b[0m \u001b[1;33m\u001b[0m\u001b[0m\n\u001b[0;32m    102\u001b[0m     \u001b[1;32mdef\u001b[0m \u001b[0mforward\u001b[0m\u001b[1;33m(\u001b[0m\u001b[0mself\u001b[0m\u001b[1;33m,\u001b[0m \u001b[0minput\u001b[0m\u001b[1;33m:\u001b[0m \u001b[0mTensor\u001b[0m\u001b[1;33m)\u001b[0m \u001b[1;33m->\u001b[0m \u001b[0mTensor\u001b[0m\u001b[1;33m:\u001b[0m\u001b[1;33m\u001b[0m\u001b[1;33m\u001b[0m\u001b[0m\n\u001b[1;32m--> 103\u001b[1;33m         \u001b[1;32mreturn\u001b[0m \u001b[0mF\u001b[0m\u001b[1;33m.\u001b[0m\u001b[0mlinear\u001b[0m\u001b[1;33m(\u001b[0m\u001b[0minput\u001b[0m\u001b[1;33m,\u001b[0m \u001b[0mself\u001b[0m\u001b[1;33m.\u001b[0m\u001b[0mweight\u001b[0m\u001b[1;33m,\u001b[0m \u001b[0mself\u001b[0m\u001b[1;33m.\u001b[0m\u001b[0mbias\u001b[0m\u001b[1;33m)\u001b[0m\u001b[1;33m\u001b[0m\u001b[1;33m\u001b[0m\u001b[0m\n\u001b[0m\u001b[0;32m    104\u001b[0m \u001b[1;33m\u001b[0m\u001b[0m\n\u001b[0;32m    105\u001b[0m     \u001b[1;32mdef\u001b[0m \u001b[0mextra_repr\u001b[0m\u001b[1;33m(\u001b[0m\u001b[0mself\u001b[0m\u001b[1;33m)\u001b[0m \u001b[1;33m->\u001b[0m \u001b[0mstr\u001b[0m\u001b[1;33m:\u001b[0m\u001b[1;33m\u001b[0m\u001b[1;33m\u001b[0m\u001b[0m\n",
      "\u001b[1;32m~\\anaconda3\\lib\\site-packages\\torch\\nn\\functional.py\u001b[0m in \u001b[0;36mlinear\u001b[1;34m(input, weight, bias)\u001b[0m\n\u001b[0;32m   1846\u001b[0m     \u001b[1;32mif\u001b[0m \u001b[0mhas_torch_function_variadic\u001b[0m\u001b[1;33m(\u001b[0m\u001b[0minput\u001b[0m\u001b[1;33m,\u001b[0m \u001b[0mweight\u001b[0m\u001b[1;33m,\u001b[0m \u001b[0mbias\u001b[0m\u001b[1;33m)\u001b[0m\u001b[1;33m:\u001b[0m\u001b[1;33m\u001b[0m\u001b[1;33m\u001b[0m\u001b[0m\n\u001b[0;32m   1847\u001b[0m         \u001b[1;32mreturn\u001b[0m \u001b[0mhandle_torch_function\u001b[0m\u001b[1;33m(\u001b[0m\u001b[0mlinear\u001b[0m\u001b[1;33m,\u001b[0m \u001b[1;33m(\u001b[0m\u001b[0minput\u001b[0m\u001b[1;33m,\u001b[0m \u001b[0mweight\u001b[0m\u001b[1;33m,\u001b[0m \u001b[0mbias\u001b[0m\u001b[1;33m)\u001b[0m\u001b[1;33m,\u001b[0m \u001b[0minput\u001b[0m\u001b[1;33m,\u001b[0m \u001b[0mweight\u001b[0m\u001b[1;33m,\u001b[0m \u001b[0mbias\u001b[0m\u001b[1;33m=\u001b[0m\u001b[0mbias\u001b[0m\u001b[1;33m)\u001b[0m\u001b[1;33m\u001b[0m\u001b[1;33m\u001b[0m\u001b[0m\n\u001b[1;32m-> 1848\u001b[1;33m     \u001b[1;32mreturn\u001b[0m \u001b[0mtorch\u001b[0m\u001b[1;33m.\u001b[0m\u001b[0m_C\u001b[0m\u001b[1;33m.\u001b[0m\u001b[0m_nn\u001b[0m\u001b[1;33m.\u001b[0m\u001b[0mlinear\u001b[0m\u001b[1;33m(\u001b[0m\u001b[0minput\u001b[0m\u001b[1;33m,\u001b[0m \u001b[0mweight\u001b[0m\u001b[1;33m,\u001b[0m \u001b[0mbias\u001b[0m\u001b[1;33m)\u001b[0m\u001b[1;33m\u001b[0m\u001b[1;33m\u001b[0m\u001b[0m\n\u001b[0m\u001b[0;32m   1849\u001b[0m \u001b[1;33m\u001b[0m\u001b[0m\n\u001b[0;32m   1850\u001b[0m \u001b[1;33m\u001b[0m\u001b[0m\n",
      "\u001b[1;31mRuntimeError\u001b[0m: Expected all tensors to be on the same device, but found at least two devices, cuda:0 and cpu! (when checking argument for argument mat1 in method wrapper_addmm)"
     ]
    }
   ],
   "source": [
    "# Train the model\n",
    "running_loss = 0.0\n",
    "running_correct = 0\n",
    "n_total_steps = len(train_loader)\n",
    "for epoch in range(num_epochs):\n",
    "    for i, (images, labels) in enumerate(train_loader):  \n",
    "        # origin shape: [100, 1, 28, 28]\n",
    "        # resized: [100, 784]\n",
    "        images = images.reshape(-1, 28*28).to(device)\n",
    "        labels = labels.to(device)\n",
    "        \n",
    "        # Forward pass\n",
    "        outputs = model(images)\n",
    "        loss = criterion(outputs, labels)\n",
    "        \n",
    "        # Backward and optimize\n",
    "        optimizer.zero_grad()\n",
    "        loss.backward()\n",
    "        optimizer.step()\n",
    "        \n",
    "        running_loss += loss.item()\n",
    "\n",
    "        _, predicted = torch.max(outputs.data, 1)\n",
    "        running_correct += (predicted == labels).sum().item()\n",
    "        if (i+1) % 100 == 0:\n",
    "            print (f'Epoch [{epoch+1}/{num_epochs}], Step [{i+1}/{n_total_steps}], Loss: {loss.item():.4f}')\n",
    "            ############## TENSORBOARD ########################\n",
    "            writer.add_scalar('training loss', running_loss / 100, epoch * n_total_steps + i)\n",
    "            running_accuracy = running_correct / 100 / predicted.size(0)\n",
    "            writer.add_scalar('accuracy', running_accuracy, epoch * n_total_steps + i)\n",
    "            running_correct = 0\n",
    "            running_loss = 0.0\n",
    "            ###################################################\n",
    "\n",
    "# Test the model\n",
    "# In test phase, we don't need to compute gradients (for memory efficiency)\n",
    "class_labels = []\n",
    "class_preds = []\n",
    "with torch.no_grad():\n",
    "    n_correct = 0\n",
    "    n_samples = 0\n",
    "    for images, labels in test_loader:\n",
    "        images = images.reshape(-1, 28*28).to(device)\n",
    "        labels = labels.to(device)\n",
    "        outputs = model(images)\n",
    "        # max returns (value ,index)\n",
    "        values, predicted = torch.max(outputs.data, 1)\n",
    "        n_samples += labels.size(0)\n",
    "        n_correct += (predicted == labels).sum().item()\n",
    "\n",
    "        class_probs_batch = [F.softmax(output, dim=0) for output in outputs]\n",
    "\n",
    "        class_preds.append(class_probs_batch)\n",
    "        class_labels.append(predicted)\n",
    "\n",
    "    # 10000, 10, and 10000, 1\n",
    "    # stack concatenates tensors along a new dimension\n",
    "    # cat concatenates tensors in the given dimension\n",
    "    class_preds = torch.cat([torch.stack(batch) for batch in class_preds])\n",
    "    class_labels = torch.cat(class_labels)\n",
    "\n",
    "    acc = 100.0 * n_correct / n_samples\n",
    "    print(f'Accuracy of the network on the 10000 test images: {acc} %')\n",
    "\n",
    "    ############## TENSORBOARD ########################\n",
    "    classes = range(10)\n",
    "    for i in classes:\n",
    "        labels_i = class_labels == i\n",
    "        preds_i = class_preds[:, i]\n",
    "        writer.add_pr_curve(str(i), labels_i, preds_i, global_step=0)\n",
    "        writer.close()\n",
    "    ###################################################"
   ]
  },
  {
   "cell_type": "markdown",
   "metadata": {},
   "source": [
    "# andreiliphd"
   ]
  },
  {
   "cell_type": "code",
   "execution_count": 10,
   "metadata": {
    "ExecuteTime": {
     "end_time": "2022-03-18T09:49:35.980377Z",
     "start_time": "2022-03-18T09:49:35.965417Z"
    }
   },
   "outputs": [],
   "source": [
    "X = torch.randn([1,100,3])\n",
    "target = torch.randn([1,100,64])"
   ]
  },
  {
   "cell_type": "code",
   "execution_count": 6,
   "metadata": {
    "ExecuteTime": {
     "end_time": "2022-03-18T09:49:06.371790Z",
     "start_time": "2022-03-18T09:49:06.359822Z"
    }
   },
   "outputs": [],
   "source": [
    "class Net(torch.nn.Module):\n",
    "    def __init__(self):\n",
    "        super(Net,self).__init__()\n",
    "        self.fc1=torch.nn.Linear(3,64)\n",
    "    def forward(self,x):\n",
    "        x = self.fc1(x)\n",
    "        return(x)"
   ]
  },
  {
   "cell_type": "code",
   "execution_count": 7,
   "metadata": {
    "ExecuteTime": {
     "end_time": "2022-03-18T09:49:10.183997Z",
     "start_time": "2022-03-18T09:49:10.162056Z"
    }
   },
   "outputs": [],
   "source": [
    "Model = Net()"
   ]
  },
  {
   "cell_type": "code",
   "execution_count": 26,
   "metadata": {
    "ExecuteTime": {
     "end_time": "2022-03-18T09:59:23.191142Z",
     "start_time": "2022-03-18T09:59:23.179889Z"
    }
   },
   "outputs": [],
   "source": [
    "par = list(Model.parameters())# w and b"
   ]
  },
  {
   "cell_type": "code",
   "execution_count": 29,
   "metadata": {
    "ExecuteTime": {
     "end_time": "2022-03-18T09:59:41.527608Z",
     "start_time": "2022-03-18T09:59:41.513645Z"
    }
   },
   "outputs": [
    {
     "data": {
      "text/plain": [
       "torch.Size([64, 3])"
      ]
     },
     "execution_count": 29,
     "metadata": {},
     "output_type": "execute_result"
    }
   ],
   "source": [
    "par[0].shape"
   ]
  },
  {
   "cell_type": "code",
   "execution_count": 30,
   "metadata": {
    "ExecuteTime": {
     "end_time": "2022-03-18T10:00:20.135337Z",
     "start_time": "2022-03-18T10:00:20.121374Z"
    }
   },
   "outputs": [
    {
     "data": {
      "text/plain": [
       "torch.Size([3, 64])"
      ]
     },
     "execution_count": 30,
     "metadata": {},
     "output_type": "execute_result"
    }
   ],
   "source": [
    "par[0].T.shape"
   ]
  },
  {
   "cell_type": "code",
   "execution_count": 38,
   "metadata": {
    "ExecuteTime": {
     "end_time": "2022-03-18T11:43:46.367258Z",
     "start_time": "2022-03-18T11:43:46.355290Z"
    }
   },
   "outputs": [
    {
     "data": {
      "text/plain": [
       "torch.Size([1, 100, 64])"
      ]
     },
     "execution_count": 38,
     "metadata": {},
     "output_type": "execute_result"
    }
   ],
   "source": [
    "X.matmul(par[0].T).shape #то что делает model(x)"
   ]
  },
  {
   "cell_type": "code",
   "execution_count": 12,
   "metadata": {
    "ExecuteTime": {
     "end_time": "2022-03-18T09:49:44.432760Z",
     "start_time": "2022-03-18T09:49:44.426776Z"
    }
   },
   "outputs": [
    {
     "data": {
      "text/plain": [
       "torch.Size([1, 100, 64])"
      ]
     },
     "execution_count": 12,
     "metadata": {},
     "output_type": "execute_result"
    }
   ],
   "source": [
    "Model(X).shape"
   ]
  },
  {
   "cell_type": "code",
   "execution_count": 13,
   "metadata": {
    "ExecuteTime": {
     "end_time": "2022-03-18T09:51:03.604224Z",
     "start_time": "2022-03-18T09:51:03.595248Z"
    }
   },
   "outputs": [],
   "source": [
    "criterion = torch.nn.MSELoss()"
   ]
  },
  {
   "cell_type": "code",
   "execution_count": 21,
   "metadata": {
    "ExecuteTime": {
     "end_time": "2022-03-18T09:54:25.675027Z",
     "start_time": "2022-03-18T09:54:25.672037Z"
    }
   },
   "outputs": [],
   "source": [
    "optimiser = torch.optim.SGD(Model.parameters(),lr=0.05)"
   ]
  },
  {
   "cell_type": "code",
   "execution_count": 22,
   "metadata": {
    "ExecuteTime": {
     "end_time": "2022-03-18T09:54:26.005919Z",
     "start_time": "2022-03-18T09:54:25.918854Z"
    }
   },
   "outputs": [
    {
     "name": "stdout",
     "output_type": "stream",
     "text": [
      "Epoch:  0 Loss:  1.4599412679672241\n",
      "Epoch:  1 Loss:  1.4583613872528076\n",
      "Epoch:  2 Loss:  1.4567867517471313\n",
      "Epoch:  3 Loss:  1.4552178382873535\n",
      "Epoch:  4 Loss:  1.4536545276641846\n",
      "Epoch:  5 Loss:  1.4520962238311768\n",
      "Epoch:  6 Loss:  1.4505438804626465\n",
      "Epoch:  7 Loss:  1.4489965438842773\n",
      "Epoch:  8 Loss:  1.447454810142517\n",
      "Epoch:  9 Loss:  1.4459185600280762\n",
      "Epoch:  10 Loss:  1.444387674331665\n",
      "Epoch:  11 Loss:  1.4428619146347046\n",
      "Epoch:  12 Loss:  1.441341519355774\n",
      "Epoch:  13 Loss:  1.439826488494873\n",
      "Epoch:  14 Loss:  1.4383169412612915\n",
      "Epoch:  15 Loss:  1.436812400817871\n",
      "Epoch:  16 Loss:  1.4353132247924805\n",
      "Epoch:  17 Loss:  1.4338191747665405\n",
      "Epoch:  18 Loss:  1.4323304891586304\n",
      "Epoch:  19 Loss:  1.4308468103408813\n",
      "Epoch:  20 Loss:  1.4293686151504517\n",
      "Epoch:  21 Loss:  1.4278953075408936\n",
      "Epoch:  22 Loss:  1.4264271259307861\n",
      "Epoch:  23 Loss:  1.4249643087387085\n",
      "Epoch:  24 Loss:  1.423506259918213\n",
      "Epoch:  25 Loss:  1.4220536947250366\n",
      "Epoch:  26 Loss:  1.4206057786941528\n",
      "Epoch:  27 Loss:  1.4191631078720093\n",
      "Epoch:  28 Loss:  1.4177253246307373\n",
      "Epoch:  29 Loss:  1.416292667388916\n",
      "Epoch:  30 Loss:  1.4148650169372559\n",
      "Epoch:  31 Loss:  1.4134424924850464\n",
      "Epoch:  32 Loss:  1.412024736404419\n",
      "Epoch:  33 Loss:  1.410611867904663\n",
      "Epoch:  34 Loss:  1.4092040061950684\n",
      "Epoch:  35 Loss:  1.4078010320663452\n",
      "Epoch:  36 Loss:  1.4064029455184937\n",
      "Epoch:  37 Loss:  1.4050097465515137\n",
      "Epoch:  38 Loss:  1.4036211967468262\n",
      "Epoch:  39 Loss:  1.4022376537322998\n",
      "Epoch:  40 Loss:  1.4008588790893555\n",
      "Epoch:  41 Loss:  1.3994849920272827\n",
      "Epoch:  42 Loss:  1.398115873336792\n",
      "Epoch:  43 Loss:  1.3967515230178833\n",
      "Epoch:  44 Loss:  1.395391821861267\n",
      "Epoch:  45 Loss:  1.394036889076233\n",
      "Epoch:  46 Loss:  1.3926866054534912\n",
      "Epoch:  47 Loss:  1.3913410902023315\n",
      "Epoch:  48 Loss:  1.390000343322754\n",
      "Epoch:  49 Loss:  1.3886638879776\n",
      "Epoch:  50 Loss:  1.387332558631897\n",
      "Epoch:  51 Loss:  1.3860055208206177\n",
      "Epoch:  52 Loss:  1.3846832513809204\n",
      "Epoch:  53 Loss:  1.3833656311035156\n",
      "Epoch:  54 Loss:  1.3820524215698242\n",
      "Epoch:  55 Loss:  1.3807437419891357\n",
      "Epoch:  56 Loss:  1.3794398307800293\n",
      "Epoch:  57 Loss:  1.3781402111053467\n",
      "Epoch:  58 Loss:  1.3768452405929565\n",
      "Epoch:  59 Loss:  1.3755546808242798\n",
      "Epoch:  60 Loss:  1.3742687702178955\n",
      "Epoch:  61 Loss:  1.3729870319366455\n",
      "Epoch:  62 Loss:  1.3717100620269775\n",
      "Epoch:  63 Loss:  1.3704372644424438\n",
      "Epoch:  64 Loss:  1.3691691160202026\n",
      "Epoch:  65 Loss:  1.3679051399230957\n",
      "Epoch:  66 Loss:  1.3666456937789917\n",
      "Epoch:  67 Loss:  1.365390419960022\n",
      "Epoch:  68 Loss:  1.3641395568847656\n",
      "Epoch:  69 Loss:  1.3628933429718018\n",
      "Epoch:  70 Loss:  1.3616511821746826\n",
      "Epoch:  71 Loss:  1.3604131937026978\n",
      "Epoch:  72 Loss:  1.3591797351837158\n",
      "Epoch:  73 Loss:  1.3579504489898682\n",
      "Epoch:  74 Loss:  1.3567254543304443\n",
      "Epoch:  75 Loss:  1.3555047512054443\n",
      "Epoch:  76 Loss:  1.3542882204055786\n",
      "Epoch:  77 Loss:  1.3530758619308472\n",
      "Epoch:  78 Loss:  1.35186767578125\n",
      "Epoch:  79 Loss:  1.3506639003753662\n",
      "Epoch:  80 Loss:  1.349463939666748\n",
      "Epoch:  81 Loss:  1.3482682704925537\n",
      "Epoch:  82 Loss:  1.3470768928527832\n",
      "Epoch:  83 Loss:  1.3458895683288574\n",
      "Epoch:  84 Loss:  1.3447060585021973\n",
      "Epoch:  85 Loss:  1.3435269594192505\n",
      "Epoch:  86 Loss:  1.342352032661438\n",
      "Epoch:  87 Loss:  1.3411809206008911\n",
      "Epoch:  88 Loss:  1.340013861656189\n",
      "Epoch:  89 Loss:  1.338850975036621\n",
      "Epoch:  90 Loss:  1.3376919031143188\n",
      "Epoch:  91 Loss:  1.3365370035171509\n",
      "Epoch:  92 Loss:  1.335386037826538\n",
      "Epoch:  93 Loss:  1.3342392444610596\n",
      "Epoch:  94 Loss:  1.3330962657928467\n",
      "Epoch:  95 Loss:  1.331957221031189\n",
      "Epoch:  96 Loss:  1.3308221101760864\n",
      "Epoch:  97 Loss:  1.3296908140182495\n",
      "Epoch:  98 Loss:  1.3285636901855469\n",
      "Epoch:  99 Loss:  1.3274401426315308\n"
     ]
    }
   ],
   "source": [
    "for epoch in range(100):\n",
    "    output = Model(X)\n",
    "    loss = criterion(output,target)\n",
    "    print('Epoch: ',epoch,'Loss: ',loss.item())\n",
    "    optimiser.zero_grad()\n",
    "    loss.backward()\n",
    "    optimiser.step()"
   ]
  },
  {
   "cell_type": "markdown",
   "metadata": {},
   "source": [
    "# Tensorflow"
   ]
  },
  {
   "cell_type": "code",
   "execution_count": 5,
   "metadata": {
    "ExecuteTime": {
     "end_time": "2022-04-01T17:20:43.135375Z",
     "start_time": "2022-04-01T17:20:41.468816Z"
    }
   },
   "outputs": [],
   "source": [
    "import torch\n",
    "import torch.nn as nn\n",
    "import torch.optim as optim\n",
    "from torch.optim import lr_scheduler\n",
    "import numpy as np\n",
    "import torchvision\n",
    "from torchvision import datasets, models, transforms\n",
    "import matplotlib.pyplot as plt\n",
    "import time\n",
    "import os\n",
    "import copy\n",
    "import tensorflow as tf"
   ]
  },
  {
   "cell_type": "code",
   "execution_count": 3,
   "metadata": {
    "ExecuteTime": {
     "end_time": "2022-04-01T17:20:28.973018Z",
     "start_time": "2022-04-01T17:20:28.923152Z"
    }
   },
   "outputs": [],
   "source": [
    "device = torch.device('cuda' if torch.cuda.is_available() else 'cpu')"
   ]
  },
  {
   "cell_type": "code",
   "execution_count": 7,
   "metadata": {
    "ExecuteTime": {
     "end_time": "2022-04-01T17:21:55.388419Z",
     "start_time": "2022-04-01T17:21:54.391415Z"
    }
   },
   "outputs": [
    {
     "name": "stdout",
     "output_type": "stream",
     "text": [
      "WARNING:tensorflow:From C:\\Users\\erik6\\AppData\\Local\\Temp\\ipykernel_26392\\337460670.py:1: is_gpu_available (from tensorflow.python.framework.test_util) is deprecated and will be removed in a future version.\n",
      "Instructions for updating:\n",
      "Use `tf.config.list_physical_devices('GPU')` instead.\n"
     ]
    },
    {
     "data": {
      "text/plain": [
       "True"
      ]
     },
     "execution_count": 7,
     "metadata": {},
     "output_type": "execute_result"
    }
   ],
   "source": [
    "tf.test.is_gpu_available()"
   ]
  },
  {
   "cell_type": "code",
   "execution_count": null,
   "metadata": {},
   "outputs": [],
   "source": []
  }
 ],
 "metadata": {
  "kernelspec": {
   "display_name": "Python 3",
   "language": "python",
   "name": "python3"
  },
  "language_info": {
   "codemirror_mode": {
    "name": "ipython",
    "version": 3
   },
   "file_extension": ".py",
   "mimetype": "text/x-python",
   "name": "python",
   "nbconvert_exporter": "python",
   "pygments_lexer": "ipython3",
   "version": "3.8.5"
  },
  "toc": {
   "base_numbering": 1,
   "nav_menu": {},
   "number_sections": true,
   "sideBar": true,
   "skip_h1_title": false,
   "title_cell": "Table of Contents",
   "title_sidebar": "Contents",
   "toc_cell": false,
   "toc_position": {},
   "toc_section_display": true,
   "toc_window_display": true
  }
 },
 "nbformat": 4,
 "nbformat_minor": 4
}
